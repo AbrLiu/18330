{
  "cells": [
    {
      "cell_type": "markdown",
      "source": [
        "# 18.330 Problem set 2 (spring 2020)\n\n## Submission deadline: 11:59pm on Monday, February 17\n\n\n#### Exercise 1: Fixed-point iteration\n\nIn this question we will find the roots of the function\n\n$$f(α, x) = x^3 - \\alpha x + \\sqrt{2}$$\n\nby using fixed-point iterations.\n\n1. Define a Julia function for $f$ and draw it; make an interactive\n visualization as $\\alpha$ changes.\n    [Make sure to fix the plot limits so as to be able to see\n    what's going on.]\n\n2. When $\\alpha$ varies, the number of real roots can change.\n    For which approximate value of $\\alpha$ does the number of real roots change?\n    How many real roots are there?\n\n3. When $\\alpha = 2.5$, approximately where are the roots? From now on fix $\\alpha$\n    to this value.\n\nThe simplest thing we can try is $g(x) = x + f(α, x)$, since then a\n    fixed point of $g$ is a root of $f$.\n\n4. Plot the function $g(x)$ and the function $y=x$. Taking into account the results stated in the slides,\n    which root do you expect to be able to calculate by iterating $g$? Fix an initial\n    condition and show that it does converge there.\n\n5. What is the rate of convergence to that root?\n\n6. What happens with the initial condition $x=1.1$? Why?\n\n7. Draw a [cobweb diagram](https://en.wikipedia.org/wiki/Cobweb_plot) to illustrate this\n    behaviour.\n\n8. By using algebraic transformations, find fixed-point iterations $g$ that\n    converge to the other two roots.\n\n    There are two alternative approaches\n    you can take here.\n    The first is to find other iteration schemes,\n    $x = h(x)$ by algebraically rearranging $f(\\alpha, x) = 0$ to isolate\n    an $x$ on one side.\n    The second is to introduce the generalized\n    function $g(c, x) := x + c f(x)$.\n    Make an interactive plot of $g(c,x)$ and $y = x$ as $c$ varies.\n    What do you notice about the slope of $g(c, x)$ at the\n    fixed points as $c$ changes? Can you use\n    this to change the stabilities of the fixed points in the iteration scheme?\n\n9. (**Extra credit**) Call $\\alpha_c$ the **critical value** of $\\alpha$ at which the number of roots\n    changes. [This is called a **bifurcation point**.] Find $\\alpha_c$ numerically."
      ],
      "metadata": {}
    },
    {
      "outputs": [],
      "cell_type": "code",
      "source": [
        ""
      ],
      "metadata": {},
      "execution_count": null
    },
    {
      "cell_type": "markdown",
      "source": [
        "#### Exercise 2: Defining a type for Polynomials\n\nAlthough we have already used polynomials, we haven't had a way\nto say \"this object is a polynomial\". For this we need to **define a new type**!\n\n1. Define a type `Polynomial` to represent a polynomial. It should\n    have fields `degree` and `coefficients`.\n\n2. Write a **constructor** function with the same name (`Polynomial`)\n    that accepts a vector of coefficients and builds a `Polynomial`\n    object whose degree it automatically calculates.\n\n3. Write a `show` method to display the polynomial nicely.\n\n4. Write a function to evaluate the polynomial at a point `x`, as follows:\n\n    ```julia\n    function (p::Polynomial)(x)\n        # fill in\n    end\n    ```\n\n    Then if you have an object `p` of type polynomial, writing e.g. `p(3)`\n    will evaluate that polynomial at the value 3.\n\n5. Write a function `derivative` that takes a polynomial and returns a new polynomial\n    that is its derivative.\n\n6. Julia contains a module `Test` (in the standard library -- no installation\n    required) for testing that code is correct.\n\n    Write a few tests of the functionality you have defined using\n    tests of the form\n\n    ```julia\n    @test a == b\n    ```\n\n    E.g. to test the sum of two `Polynomial`s you can write\n\n    ```julia\n    @test Polynomial([1, 2]) + Polynomial([3, 4]) == Polynomial([4, 6])\n    ```\n\n    When you run these tests, you should see the message `Test passed`.\n\n    To create the tests, do the calculations by hand.\n\n\n#### Exercise 3: Newton method\n\n1. Write a function `newton` to implement the Newton method. It should\n    take a function $f$, its derivative $f\\prime$ and an initial guess $x_0$.\n    It should terminate when the residual is less than some tolerance, or when\n    the number of iterations is too large.\n\n2. Write a specialised method of `newton` for polynomials that accepts\n    an object of type `Polynomial`, written `p::Polynomial` and calculates its\n    derivative automatically.\n\n3. Taking the same polynomial as in exercise 1,\n    confirm that the Newton method has quadratic convergence by\n    verifying numerically the defining limit.\n\n4. Can you find different roots by taking different initial conditions\n    $x_0$? How will you know if/when you have found all of the roots like this?\n\nThe Newton method works fantastically well when the starting point is close enough to a root,\n    but can also behave very badly, as follows.\n\n5. How many roots does the function $f(z) = z^3 - 1$ have in the complex plane\n    $\\mathbb{C}$? Where are they?\n\n6. Calculate those roots using the Newton method with *complex* starting points $a + ib$\n    forming a square grid in the complex plane. Store the imaginary part of the resulting root\n    (or final value, if no root is reached) in a matrix.\n\n7. Plot the matrix with the `heatmap` function and plot the true roots as\npoints. What kind of object are you seeing? What does this imply for the Newton method?\n    What happens close to the roots?\n\n\n\n#### Exercise 4: Aberth method\n\nNewton's method only finds one root at a time. The [Aberth method](https://en.wikipedia.org/wiki/Aberth_method)\n  calculates them all at once! Given estimates $(z_k)$ for all roots of a polynomial it calculates\n  a new estimate via $z_k = z_k - w_k$, where\n\n  $$w_{k}={\\frac{\\frac{p(z_{k})}{p'(z_{k})}}{1-{\\frac{p(z_{k})}{p'(z_{k})}}\\cdot \\sum_{j\\neq k}{\\frac {1}{z_{k}-z_{j}}}}}.$$\n\n  In order to guarantee convergence the initial guess must be chosen in a special way. Cauchy's bound tells us that all\n  the roots of a polynomial $p(x) = a_0 + a_1x + \\cdots + a_n x^n$ must have absolute value less than\n\n  $$U = 1+\\max \\left( \\left \\lvert \\frac{a_{n-1}}{a_{n}} \\right\\rvert,\\left\\lvert \\frac{a_{n-2}}{a_{n}} \\right\\rvert,\\ldots ,\\left\\lvert \\frac{a_{0}}{a_{n}}\\right\\rvert \\right)$$\n\n  and a lower bound of\n\n  $$L = \\frac{1}{1+\\max \\left\\{ \\left \\lvert \\frac{a_{n}}{a_{0}} \\right\\rvert,\\left\\lvert \\frac{a_{n-1}}{a_{0}} \\right\\rvert,\\ldots ,\\left\\lvert \\frac{a_{1}}{a_{0}}\\right\\rvert \\right\\} }$$\n\n  The starting points should be chosen so that their absolute value lies in between these bounds.\n\n1. Implement a function `poly_bounds` that takes in a `Polynomial` and returns $L$ and $U$.\n\n2. Use `poly_bounds` to write a function `initialize_points` that finds a suitable starting group of points. Do this\n    by choosing $\\rho$s sampled from a uniform distribution over $[L, U]$ and $\\theta$s sampled from a uniform\n    distribution over $[0, 2\\pi]$. Then calculate $z = \\rho e^{i\\theta}$.\n\n    [Hint: The `rand()` function generates uniform\n    random numbers between $0$ and $1$. Use `rand` to write a function `uniform(a, b)` to generate uniform numbers between\n    $a$ and $b$.]\n\n3. Implement the Aberth method for a polynomial $p$ which takes in values\nfrom `initialize_points` and terminates either after a certain\nnumber of iterations or when a certain tolerance is met.\nTest your function for the polynomials we have considered so far.\n\n4. Make an interactive visualization of the progress over time on some random\n    polynomials of degree 10 or 20.\n\n5. Find numerically the order of convergence of the method.\n\n6. Try polynomials with multiple roots, such as $(x^2 + 1)^3$. What happens?"
      ],
      "metadata": {}
    }
  ],
  "nbformat_minor": 2,
  "metadata": {
    "language_info": {
      "file_extension": ".jl",
      "mimetype": "application/julia",
      "name": "julia",
      "version": "1.3.1"
    },
    "kernelspec": {
      "name": "julia-1.3",
      "display_name": "Julia 1.3.1",
      "language": "julia"
    }
  },
  "nbformat": 4
}

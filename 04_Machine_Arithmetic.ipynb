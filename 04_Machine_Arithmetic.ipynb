{
 "cells": [
  {
   "cell_type": "markdown",
   "metadata": {},
   "source": [
    "# Lecture 04: Machine Arithmetic\n",
    "\n",
    "## Fixed point numbers\n",
    "\n",
    "A basic way of representing numbers is through fixed point arithmetic.\n",
    "We store a pattern of digits together with a sign and a decimal point:\n",
    "\n",
    "$$\n",
    "n_{fi} = \\pm a_1 a_2 a_3 a_5 . a_6 a_7 a_8,\n",
    "$$\n",
    "\n",
    "where $a_i$ are the decimal/binary numbers used to represent the decimal/binary digits\n",
    "of $n_{fi}$.\n",
    "\n",
    "In Julia, we have to import an extra package to use fixed point numbers\n",
    "(which shows that they are quite rare in practice).\n",
    "Very common in practice are fixed-point decimals without any decimals, the integers!"
   ]
  },
  {
   "cell_type": "code",
   "execution_count": null,
   "metadata": {},
   "outputs": [],
   "source": [
    "using FixedPointDecimals\n",
    "\n",
    "using PyPlot\n",
    "PyPlot.svg(true)"
   ]
  },
  {
   "cell_type": "code",
   "execution_count": null,
   "metadata": {},
   "outputs": [],
   "source": [
    "# create a fixed point decimal with 2 decimal positions\n",
    "# and as many digits as a 16-bit integer.\n",
    "# allowed numbers lie between -32768/10^2 < x < 32767/10^2\n",
    "number1 = FixedDecimal{Int16, 2}(110.34564)\n",
    "\n",
    "# we see that all decimals beyond the second are rounded"
   ]
  },
  {
   "cell_type": "code",
   "execution_count": null,
   "metadata": {},
   "outputs": [],
   "source": [
    "number2 = FixedDecimal{Int16, 2}(327.65)"
   ]
  },
  {
   "cell_type": "code",
   "execution_count": null,
   "metadata": {},
   "outputs": [],
   "source": [
    "# we are beyond the capabilities of this number system, so we get an error message\n",
    "number3 = FixedDecimal{Int16, 2}(327.68)"
   ]
  },
  {
   "cell_type": "code",
   "execution_count": null,
   "metadata": {},
   "outputs": [],
   "source": [
    "# Let's try adding\n",
    "\n",
    "# we expect: 110.35 + 327.65 = 438.00\n",
    "number1 + number2"
   ]
  },
  {
   "cell_type": "code",
   "execution_count": null,
   "metadata": {},
   "outputs": [],
   "source": [
    "# Let's try multiplying\n",
    "\n",
    "# true solution 110.35/327.68 = 0.336761474609375\n",
    "number1 / number2"
   ]
  },
  {
   "cell_type": "code",
   "execution_count": null,
   "metadata": {},
   "outputs": [],
   "source": [
    "# Sometimes, things work:\n",
    "\n",
    "FixedDecimal{Int16, 2}(4.55) + FixedDecimal{Int16, 2}(5.45)"
   ]
  },
  {
   "cell_type": "code",
   "execution_count": null,
   "metadata": {},
   "outputs": [],
   "source": [
    "# Visualizing the representable set\n",
    "function fi_representable_numbers_between(a, b, decimals)\n",
    "    \"\"\" Return all fixed point numbers between a and b\n",
    "    that have a given number of decimals\n",
    "    \"\"\"\n",
    "    \n",
    "    a_fp = FixedDecimal{Int16, decimals}(a)\n",
    "    b_fp = FixedDecimal{Int16, decimals}(b)\n",
    "    \n",
    "    dx = 10.0^-decimals\n",
    "    return collect(a_fp:dx:b_fp)\n",
    "end\n",
    "\n",
    "f, ax = subplots()\n",
    "\n",
    "for number in fi_representable_numbers_between(0.0, 1.0, 2)\n",
    "    ax[:axvline](number, color=\"k\", linewidth=0.5)\n",
    "end\n",
    "\n",
    "ax[:set_yticks]([])\n",
    "ax[:set_xlabel](\"Real number line\")\n",
    "ax[:set_title](\"Representable set for fixed point numbers with 2 decimals\")"
   ]
  },
  {
   "cell_type": "code",
   "execution_count": null,
   "metadata": {},
   "outputs": [],
   "source": [
    "f, ax = subplots()\n",
    "\n",
    "for number in fi_representable_numbers_between(1.0, 2.0, 2)\n",
    "    ax[:axvline](number, color=\"k\", linewidth=0.5)\n",
    "end\n",
    "\n",
    "ax[:set_yticks]([])\n",
    "ax[:set_xlabel](\"Real number line\")\n",
    "ax[:set_title](\"The representable set has uniform density.\")"
   ]
  },
  {
   "cell_type": "markdown",
   "metadata": {},
   "source": [
    "## Floating point numbers\n",
    "\n",
    "Floating point numbers represent numbers in scientific notation:\n",
    "\n",
    "$$\n",
    "n_{fl} = \\pm a_1 a_2 a_3 a_4 a_5 \\times 10^{\\pm a_6 a_7}.\n",
    "$$\n",
    "\n",
    "The numbers in front of the exponent are called the *mantissa*.\n",
    "\n",
    "This leads to an immense increase in range of representable numbers at\n",
    "the expense of the representable set being non-uniform.\n",
    "\n",
    "Julia (and basically *all* other programming languages) support \n",
    "floating point numbers out of the box. In fact, they are usually implemented in hardware,\n",
    "according to the IEEE 754 standard. You can read all about this particular implementation here:\n",
    "https://en.wikipedia.org/wiki/IEEE_754.\n",
    "\n",
    "### Unexpected behavior: Catastrophic loss of precision\n",
    "\n",
    "__*Never, ever* compute a small number as a difference of two big numbers!__\n",
    "\n",
    "As mentioned in the lecture, the big number takes up most of the mantissa,\n",
    "such that a lot of precision is lost!\n",
    "The classic example comes from the approximation of derivatives\n",
    "\n",
    "$$\n",
    "f'(x) \\approx f'(x,h) = \\frac{f(x+h) - f(x)}{h}.\n",
    "$$"
   ]
  },
  {
   "cell_type": "code",
   "execution_count": null,
   "metadata": {},
   "outputs": [],
   "source": [
    "# A very simple function.\n",
    "f0(x) = x\n",
    "\n",
    "# We are interested in f'(1) = 1\n",
    "\n",
    "# Set a stepsize. We choose a Float16, which has a smaller mantissa than the default Float64,\n",
    "# for demonstration purposes.\n",
    "\n",
    "# Float16 uses 1 bit for the sign, 5 bits for the exponent, and 10 bits for the mantissa\n",
    "# It uses a binary format, with powers of 2 instead of 10.\n",
    "\n",
    "# fairly large stepsize\n",
    "h = Float16(0.5)\n",
    "\n",
    "x0 = Float16(1.0)\n",
    "\n",
    "(f0(x0 + h) - f0(x0))/h"
   ]
  },
  {
   "cell_type": "code",
   "execution_count": null,
   "metadata": {},
   "outputs": [],
   "source": [
    "# now let's pick a smaller stepsize\n",
    "h = Float16(0.1)\n",
    "(f0(x0 + h) - f0(x0))/h"
   ]
  },
  {
   "cell_type": "code",
   "execution_count": null,
   "metadata": {},
   "outputs": [],
   "source": [
    "# and now let's pick an even smaller stepsize\n",
    "h = Float16(0.01)\n",
    "(f0(x0 + h) - f0(x0))/h"
   ]
  },
  {
   "cell_type": "markdown",
   "metadata": {},
   "source": [
    "## The approximations become progressively *worse* because of catastrophic loss of precision!\n",
    "\n",
    "## Tricks to avoid catastrophic loss of precision\n",
    "We want to compute\n",
    "$$\n",
    "g(x, \\Delta) = \\sqrt{x+\\Delta} - \\sqrt{x},\n",
    "$$\n",
    "for small $\\Delta$ and large $x$. Because of catastrophic loss of precision due to\n",
    "computing a small number as the difference between two large numbers, we expect this\n",
    "to be quite imprecise."
   ]
  },
  {
   "cell_type": "code",
   "execution_count": null,
   "metadata": {},
   "outputs": [],
   "source": [
    "g(x, Δ) = √(x + Δ)- √x\n",
    "\n",
    "x0 = Float16(900)\n",
    "Δ = Float16(4e-3)\n",
    "\n",
    "g(x0, Δ)"
   ]
  },
  {
   "cell_type": "code",
   "execution_count": null,
   "metadata": {},
   "outputs": [],
   "source": [
    "x0 = Float32(900)\n",
    "Δ = Float32(4e-3)\n",
    "\n",
    "g(x0, Δ)"
   ]
  },
  {
   "cell_type": "code",
   "execution_count": null,
   "metadata": {},
   "outputs": [],
   "source": [
    "x0 = Float64(900)\n",
    "Δ = Float64(4e-3)\n",
    "\n",
    "g(x0, Δ)"
   ]
  },
  {
   "cell_type": "markdown",
   "metadata": {},
   "source": [
    "We rewrite the expression to get rid of the difference by\n",
    "using \n",
    "$$\n",
    "(a+b)(a-b) = a^2 - b^2.\n",
    "$$\n",
    "\n",
    "We find\n",
    "$$\n",
    "\\left(\\sqrt{x+\\Delta} + \\sqrt{x}\\right)\\left(\\sqrt{x+\\Delta} - \\sqrt{x}\\right) = \\Delta,\n",
    "$$\n",
    "and therefore\n",
    "$$\n",
    "\\left(\\sqrt{x+\\Delta} - \\sqrt{x}\\right) = \\frac{\\Delta}{\\sqrt{x+\\Delta} + \\sqrt{x}}.\n",
    "$$"
   ]
  },
  {
   "cell_type": "code",
   "execution_count": null,
   "metadata": {},
   "outputs": [],
   "source": [
    "g_improved(x, Δ) = Δ/(√(x + Δ) + √x)\n",
    "\n",
    "x0 = Float16(900)\n",
    "Δ = Float16(4e-3)\n",
    "\n",
    "g_improved(x0, Δ)"
   ]
  },
  {
   "cell_type": "code",
   "execution_count": null,
   "metadata": {},
   "outputs": [],
   "source": [
    "x0 = Float32(900)\n",
    "Δ = Float32(4e-3)\n",
    "\n",
    "g_improved(x0, Δ)"
   ]
  },
  {
   "cell_type": "code",
   "execution_count": null,
   "metadata": {},
   "outputs": [],
   "source": [
    "x0 = Float64(900)\n",
    "Δ = Float64(4e-3)\n",
    "\n",
    "g_improved(x0, Δ)"
   ]
  },
  {
   "cell_type": "markdown",
   "metadata": {},
   "source": [
    "__Even for Float16, we get a decent approximation of the true result instead of just zero!__"
   ]
  },
  {
   "cell_type": "markdown",
   "metadata": {},
   "source": [
    "### Unexpected behavior: Equal numbers are not equal?\n",
    "Due to roundoff error in floating point calculations,\n",
    "numbers we *think* are equal really aren't."
   ]
  },
  {
   "cell_type": "code",
   "execution_count": null,
   "metadata": {},
   "outputs": [],
   "source": [
    "# Clearly, 4.2 - 0.1 = 4.1\n",
    "\n",
    "(4.2 - 0.1) == 4.1"
   ]
  },
  {
   "cell_type": "code",
   "execution_count": null,
   "metadata": {},
   "outputs": [],
   "source": [
    "# ???? why is this happening?\n",
    "println(4.1)\n",
    "println(4.2)\n",
    "println(0.1)\n",
    "# println(4.2 - 0.1)"
   ]
  },
  {
   "cell_type": "markdown",
   "metadata": {},
   "source": [
    "All numbers involved are exactly representable in finite decimals\n",
    "However, \n",
    "$$4.1 = 4.0 + 0.1$$\n",
    "in binary, \n",
    "\n",
    "$$0.1_d = 0.0\\overline{0011}_b,$$\n",
    "\n",
    "with the overlined part infinitely repeating. So internally, the computer must round it to\n",
    "the next representable floating point number, incurring roundoff error.\n",
    "When rounding $4.1$, a *different* roundoff error is incurred because the number\n",
    "has a different scale (remember that roundoff error is relative for floating point arithmetic).\n",
    "\n",
    "This leads to the rule:\n",
    "\n",
    "__*Never, ever* check floating point numbers for equality!__\n",
    "\n",
    "But then what should we do?"
   ]
  },
  {
   "cell_type": "code",
   "execution_count": null,
   "metadata": {},
   "outputs": [],
   "source": [
    "# A naive approach is to replace \n",
    "(4.2 - 0.1) == 4.1\n",
    "\n",
    "# by\n",
    "\n",
    "ϵ = 0.00001\n",
    "abs((4.2 - 0.1) - 4.1) < ϵ\n",
    "\n",
    "# where ϵ is some small number."
   ]
  },
  {
   "cell_type": "code",
   "execution_count": null,
   "metadata": {},
   "outputs": [],
   "source": [
    "# This seems to work, and indeed Julia provides a good small number for you!\n",
    "eps()"
   ]
  },
  {
   "cell_type": "code",
   "execution_count": null,
   "metadata": {},
   "outputs": [],
   "source": [
    "# this is the smallest Float16 number such that 1 + eps() is different from 1\n",
    "\n",
    "println(1.0 + eps() != 1.0)\n",
    "\n",
    "println(1.0 + eps()/2 != 1.0)"
   ]
  },
  {
   "cell_type": "code",
   "execution_count": null,
   "metadata": {},
   "outputs": [],
   "source": [
    "# However, as mentioned in the lecture, roundoff error for floating point\n",
    "# numbers is *relative error*, so in reality, we should check\n",
    "\n",
    "a = 4.2 - 0.1\n",
    "b = 4.1\n",
    "\n",
    "abs((a - b)/b) < eps()"
   ]
  },
  {
   "cell_type": "code",
   "execution_count": null,
   "metadata": {},
   "outputs": [],
   "source": [
    "# but this has lots of problems again: What if b = 0? Why is this not symmetric in a and b?\n",
    "\n",
    "# You can check out what a *correct* implementation should look like here:\n",
    "# https://floating-point-gui.de/errors/comparison/\n",
    "# (It's not so simple!)"
   ]
  },
  {
   "cell_type": "code",
   "execution_count": null,
   "metadata": {},
   "outputs": [],
   "source": [
    "# Julia has a helpful function\n",
    "isapprox(a, b)"
   ]
  },
  {
   "cell_type": "code",
   "execution_count": null,
   "metadata": {},
   "outputs": [],
   "source": [
    "# or (which does the same thing)\n",
    "# type \\approx and then hit the [Tab] key to get the ≈ symbol.\n",
    "a ≈ b"
   ]
  },
  {
   "cell_type": "markdown",
   "metadata": {},
   "source": [
    "Here is how it works internally (it's one way to do it, and by no means the only or best way!):\n",
    "\n",
    "    isapprox(x, y; rtol::Real=atol>0 ? 0 : √eps, atol::Real=0, nans::Bool=false, norm::Function)\n",
    "    \n",
    "Inexact equality comparison: \n",
    "\n",
    "    true if norm(x-y) <= max(atol, rtol*max(norm(x), norm(y))). \n",
    "\n",
    "The default atol is zero and the default rtol depends on the types of x and y. The keyword argument nans determines whether or not NaN values are considered equal (defaults to false).\n",
    "\n",
    "The binary operator ≈ is equivalent to isapprox with the default arguments, and x ≉ y is equivalent to !isapprox(x,y).\n",
    "\n",
    "Note that x ≈ 0 (i.e., comparing to zero with the default tolerances) is equivalent to x == 0 since the default atol is 0. In such cases, you should either supply an appropriate atol (or use norm(x) ≤ atol) or rearrange your code (e.g. use x ≈ y rather than x - y ≈ 0). It is not possible to pick a nonzero atol automatically because it depends on the overall scaling (the \"units\") of your problem: for example, in x - y ≈ 0, atol=1e-9 is an absurdly small tolerance if x is the radius of the Earth in meters, but an absurdly large tolerance if x is the radius of a Hydrogen atom in meters."
   ]
  },
  {
   "cell_type": "markdown",
   "metadata": {},
   "source": [
    "__In general, how one should compare floating point numbers *depends on the specific case*!\n",
    "You need to think carefully each time.__"
   ]
  },
  {
   "cell_type": "markdown",
   "metadata": {},
   "source": [
    "## Accumulation of round-off error\n",
    "\n",
    "Often we need to sum up many summands of similar size (remember PSET 1?).\n",
    "If each of the summands has round-off error, these errors can accumulate!"
   ]
  },
  {
   "cell_type": "code",
   "execution_count": null,
   "metadata": {},
   "outputs": [],
   "source": [
    "# A function to evaluate a sum\n",
    "function sum_direct(x, N)\n",
    "    \"\"\" Sum up ∑_{i=1}^{N} x\n",
    "    \"\"\"\n",
    "    \n",
    "    S = 0.0;\n",
    "    for i=1:N\n",
    "        S += x\n",
    "    end\n",
    "    \n",
    "    return S\n",
    "end\n",
    "\n",
    "N = 10\n",
    "\n",
    "# There is a roundoff-error when computing π/N\n",
    "(sum_direct(π/N, N) - π)/π"
   ]
  },
  {
   "cell_type": "code",
   "execution_count": null,
   "metadata": {},
   "outputs": [],
   "source": [
    "Ns = 10.0.^collect(2:10)\n",
    "\n",
    "# compute relative errors\n",
    "sum_errors = [abs(sum_direct(π/N, N) - π)/π for N in Ns]\n",
    "\n",
    "loglog(Ns, sum_errors, \"o-\")\n",
    "xlabel(L\"N\")\n",
    "ylabel(\"relative error\")"
   ]
  },
  {
   "cell_type": "markdown",
   "metadata": {},
   "source": [
    "## Pairwise summation\n",
    "\n",
    "Apparently, the error increases with the number of summands.\n",
    "The reason is: in each consecutive step we add a very small number to\n",
    "a progressively larger number.\n",
    "Since a lot of the floating point precision is used to store the large number,\n",
    "adding a small number incurs a progressively increasing round-off error.\n",
    "\n",
    "This can be fixed by the technique of pairwise summation:\n",
    "We compute the sum recursively, by splitting it into two halves, and computing these\n",
    "individually. This way we always add up numbers of similar magnitude, and thus\n",
    "incur less roundoff error.\n",
    "\n",
    "Julia's (and NumPy's) sum function uses this technique!"
   ]
  },
  {
   "cell_type": "code",
   "execution_count": null,
   "metadata": {},
   "outputs": [],
   "source": [
    "# Let's check Julia's sum function:\n",
    "N = 10\n",
    "summands = [π/N for i=1:N]\n",
    "\n",
    "(sum(summands) - π)/π"
   ]
  },
  {
   "cell_type": "code",
   "execution_count": null,
   "metadata": {},
   "outputs": [],
   "source": [
    "# A function to evaluate a sum\n",
    "function sum_pairwise(x, N; base_threshold=100)\n",
    "    \"\"\" Sum up ∑_{i=1}^{N} x using pairwise summation\n",
    "    \"\"\"\n",
    "    \n",
    "    # for a small number of summands, we just perform a direct sum\n",
    "    # this is done to amortize the overhead due to recursion where recursion is not necessary\n",
    "    if N < base_threshold\n",
    "        return sum_direct(x, N)\n",
    "    else\n",
    "        # split up the summation into two parts of similar magnitude.\n",
    "        # make sure to correctly handle the case where N is odd.\n",
    "        N_half = Int64(floor(N/2))\n",
    "        return sum_pairwise(x, N_half) + sum_pairwise(x, N - N_half)\n",
    "    end\n",
    "end\n",
    "\n",
    "N = 10\n",
    "(sum_pairwise(π/N, N) - π)/π"
   ]
  },
  {
   "cell_type": "code",
   "execution_count": null,
   "metadata": {},
   "outputs": [],
   "source": [
    "# compute relative errors for the pairwise method\n",
    "sum_errors_pairwise = [abs(sum_pairwise(π/N, N) - π)/π for N in Ns]\n",
    "\n",
    "loglog(Ns, sum_errors, \"o-\", label=\"direct sum\")\n",
    "loglog(Ns, sum_errors_pairwise, \"o-\", label=\"pairwise sum\")\n",
    "\n",
    "legend()\n",
    "xlabel(L\"N\")\n",
    "ylabel(\"relative error\")"
   ]
  },
  {
   "cell_type": "markdown",
   "metadata": {},
   "source": [
    "You can read more on the theory of pairwise summation here: https://en.wikipedia.org/wiki/Pairwise_summation.\n",
    "There are other algorithms for reducing round-off errors, but they all come at the cost of computational overhead. One example is https://en.wikipedia.org/wiki/Kahan_summation_algorithm.\n",
    "\n",
    "## Inf and NaN\n",
    "The floating point numbers in Julia define special symbols to deal with ill-defined operations:"
   ]
  },
  {
   "cell_type": "code",
   "execution_count": null,
   "metadata": {},
   "outputs": [],
   "source": [
    "# This is a huge number, bigger than any one representable in Float64\n",
    "exp(1000)"
   ]
  },
  {
   "cell_type": "code",
   "execution_count": null,
   "metadata": {},
   "outputs": [],
   "source": [
    "# This is not an allowed operation\n",
    "0/0"
   ]
  },
  {
   "cell_type": "code",
   "execution_count": null,
   "metadata": {},
   "outputs": [],
   "source": [
    "# Interesting properties\n",
    "Inf + Inf"
   ]
  },
  {
   "cell_type": "code",
   "execution_count": null,
   "metadata": {},
   "outputs": [],
   "source": [
    "Inf - Inf"
   ]
  },
  {
   "cell_type": "code",
   "execution_count": null,
   "metadata": {},
   "outputs": [],
   "source": [
    "Inf > NaN"
   ]
  },
  {
   "cell_type": "code",
   "execution_count": null,
   "metadata": {},
   "outputs": [],
   "source": [
    "Inf > -Inf"
   ]
  },
  {
   "cell_type": "code",
   "execution_count": null,
   "metadata": {},
   "outputs": [],
   "source": [
    "Inf < -Inf"
   ]
  },
  {
   "cell_type": "code",
   "execution_count": null,
   "metadata": {},
   "outputs": [],
   "source": [
    "Inf > 100000000000"
   ]
  },
  {
   "cell_type": "code",
   "execution_count": null,
   "metadata": {},
   "outputs": [],
   "source": [
    "Inf*Inf"
   ]
  },
  {
   "cell_type": "code",
   "execution_count": null,
   "metadata": {},
   "outputs": [],
   "source": [
    "-Inf*Inf"
   ]
  },
  {
   "cell_type": "code",
   "execution_count": null,
   "metadata": {},
   "outputs": [],
   "source": [
    "-NaN"
   ]
  },
  {
   "cell_type": "code",
   "execution_count": null,
   "metadata": {},
   "outputs": [],
   "source": [
    "Inf == Inf"
   ]
  },
  {
   "cell_type": "code",
   "execution_count": null,
   "metadata": {},
   "outputs": [],
   "source": [
    "NaN == NaN"
   ]
  },
  {
   "cell_type": "code",
   "execution_count": null,
   "metadata": {},
   "outputs": [],
   "source": [
    "# you can check if your code contains these special values\n",
    "A = [1, NaN, +Inf, -Inf]"
   ]
  },
  {
   "cell_type": "code",
   "execution_count": null,
   "metadata": {},
   "outputs": [],
   "source": [
    "isfinite.(A)"
   ]
  },
  {
   "cell_type": "code",
   "execution_count": null,
   "metadata": {},
   "outputs": [],
   "source": [
    "isinf.(A)"
   ]
  },
  {
   "cell_type": "code",
   "execution_count": null,
   "metadata": {},
   "outputs": [],
   "source": [
    "isnan.(A)"
   ]
  },
  {
   "cell_type": "code",
   "execution_count": null,
   "metadata": {},
   "outputs": [],
   "source": [
    "# or check individually\n",
    "isnan(Inf)"
   ]
  },
  {
   "cell_type": "code",
   "execution_count": null,
   "metadata": {},
   "outputs": [],
   "source": [
    "isfinite(2.0)"
   ]
  },
  {
   "cell_type": "code",
   "execution_count": null,
   "metadata": {},
   "outputs": [],
   "source": []
  }
 ],
 "metadata": {
  "kernelspec": {
   "display_name": "Julia 1.1.0",
   "language": "julia",
   "name": "julia-1.1"
  },
  "language_info": {
   "file_extension": ".jl",
   "mimetype": "application/julia",
   "name": "julia",
   "version": "1.1.0"
  }
 },
 "nbformat": 4,
 "nbformat_minor": 2
}

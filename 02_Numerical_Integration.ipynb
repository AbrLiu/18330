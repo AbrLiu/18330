{
 "cells": [
  {
   "cell_type": "markdown",
   "metadata": {},
   "source": [
    "Lecture 2: Numerical Integration\n",
    "===\n",
    "\n",
    "\n",
    "Often, we want to approximately compute definite integrals of the form\n",
    "\n",
    "$$\n",
    "\\int_a^b f(x) dx.\n",
    "$$\n",
    "\n",
    "This process is called *(numerical) quadrature*.\n",
    "We approxmate by a finite sum,\n",
    "\n",
    "$$\n",
    "\\int_a^b f(x) dx \\approx \\sum_{n=1}^N w_n\\, f(x_n).\n",
    "$$\n",
    "\n",
    "The choice of weights $w_n$ and evaluation points $x_n$ is called the *quadrature rule*.\n",
    "\n",
    "Newton-Cotes quadrature\n",
    "---\n",
    "Newton-Cotes quadrature is a simple, classical scheme, but not very efficient.\n",
    "It is not the recommended way of doing quadrature, but it serves as a good introduction,\n",
    "and we can say many theoretical things about it that will remain valid later as well.\n",
    "\n",
    "Here is the idea for (composite) Newton-Cotes:\n",
    "\n",
    "* Subdivide the interval $[a,b]$ into $N$ sub-intervals of equal length\n",
    "* On each sub-interval, approximate $f(x)$ by a polynomial of degree $p$\n",
    "* Exactly compute the integrals of the polynomials\n",
    "* Sum up the results"
   ]
  },
  {
   "cell_type": "markdown",
   "metadata": {},
   "source": [
    "Rectangular rule\n",
    "---\n",
    "\n",
    "$$\n",
    "I_N = \\sum_{n=0}^N \\Delta f(a + \\Delta n)\n",
    "$$"
   ]
  },
  {
   "cell_type": "code",
   "execution_count": null,
   "metadata": {},
   "outputs": [],
   "source": [
    "function rectangular_rule(f, a, b, N)\n",
    "    Δ = (b - a)/N\n",
    "    \n",
    "    I = 0\n",
    "    for n=0:N-1\n",
    "        I += Δ*f(a + n*Δ)\n",
    "    end\n",
    "    \n",
    "    return I\n",
    "end"
   ]
  },
  {
   "cell_type": "code",
   "execution_count": null,
   "metadata": {},
   "outputs": [],
   "source": [
    "f(x) = x^2\n",
    "\n",
    "# true value: I = 1/3 = 0.333333333\n",
    "[rectangular_rule(f, 0, 1, N) \n",
    "        for N in [5, 10, 100, 1000, 10000, 100000]]"
   ]
  },
  {
   "cell_type": "markdown",
   "metadata": {},
   "source": [
    "Trapezoid rule\n",
    "---\n",
    "\n",
    "$$\n",
    "    I_N = \\frac{1}{2}\\Delta f(a) + \\sum_{n=1}^{N-1} f(a + \\Delta n) +  \\frac{1}{2}\\Delta f(b)\n",
    "$$"
   ]
  },
  {
   "cell_type": "code",
   "execution_count": null,
   "metadata": {},
   "outputs": [],
   "source": [
    "function trapezoid_rule(f, a, b, N)\n",
    "    Δ = (b - a)/N\n",
    "    \n",
    "    I = 0.5*Δ*f(a) + 0.5*Δ*f(b)\n",
    "    for n=1:N-1\n",
    "        I += Δ*f(a + n*Δ)\n",
    "    end\n",
    "    \n",
    "    return I\n",
    "end"
   ]
  },
  {
   "cell_type": "code",
   "execution_count": null,
   "metadata": {},
   "outputs": [],
   "source": [
    "f(x) = x^2\n",
    "\n",
    "# true value: I = 1/3 = 0.333333333\n",
    "[trapezoid_rule(f, 0, 1, N) \n",
    "        for N in [5, 10, 100, 1000, 10000, 100000]]"
   ]
  },
  {
   "cell_type": "markdown",
   "metadata": {},
   "source": [
    "Compare rectangular and trapezoid rule: The trapezoid rule achieves significantly more correct digits at the same $N$!"
   ]
  },
  {
   "cell_type": "markdown",
   "metadata": {},
   "source": [
    "Simpson's rule\n",
    "---\n",
    "\n",
    "Set $h=\\Delta/2$.\n",
    "\n",
    "$$\n",
    "    I_N = \\frac{1}{3}\\left( h f(a) + 2 \\sum_{n=1}^{N-1} f(a + 2n\\, h) + 4 \\sum_{n=1}^N f(a + (2n-1) h) + \n",
    "    h f(b)\\right)\n",
    "$$"
   ]
  },
  {
   "cell_type": "code",
   "execution_count": null,
   "metadata": {},
   "outputs": [],
   "source": [
    "function simpson_rule(f, a, b, N)\n",
    "    Δ = (b - a)/N\n",
    "    h = Δ/2\n",
    "    \n",
    "    I = h*f(a)/3 + h*f(b)/3\n",
    "    for n=1:N-1\n",
    "        I += h*( 2*f(a + 2*n*h) + 4*f(a+ (2*n-1)*h))/3\n",
    "    end\n",
    "    I += 4*h*f(a+ (2*N-1)*h)/3\n",
    "    \n",
    "    return I\n",
    "end"
   ]
  },
  {
   "cell_type": "code",
   "execution_count": null,
   "metadata": {},
   "outputs": [],
   "source": [
    "f(x) = x^2\n",
    "\n",
    "# true value: I = 1/3 = 0.333333333\n",
    "[simpson_rule(f, 0, 1, N) \n",
    "        for N in [1, 5, 10, 100, 1000, 10000]]"
   ]
  },
  {
   "cell_type": "markdown",
   "metadata": {},
   "source": [
    "Perfect agreement already for $N=1$, because our function is already a quadratic polynomial!"
   ]
  },
  {
   "cell_type": "code",
   "execution_count": null,
   "metadata": {},
   "outputs": [],
   "source": [
    "f(x) = x^4\n",
    "\n",
    "# true value: I = 1/5 = 0.2\n",
    "[simpson_rule(f, 0, 1, N) \n",
    "        for N in [1, 5, 10, 100, 1000, 10000]]"
   ]
  },
  {
   "cell_type": "markdown",
   "metadata": {},
   "source": [
    "Error analysis\n",
    "---\n",
    "\n",
    "We consider the integral\n",
    "\n",
    "$$\n",
    "I = \\int_1^2 \\log^2(x)\\, dx = 2 (\\log(2) - 1)^2,\n",
    "$$\n",
    "\n",
    "and compute the relative errors for our various quadrature rules,\n",
    "\n",
    "$$\n",
    "    \\mathcal{E}_N = \\left|\\frac{I_{quad}(N) - I_{exact}}{I_{exact}}\\right|,\n",
    "$$\n",
    "\n",
    "where $N$ is the number of subdivisions of the interval."
   ]
  },
  {
   "cell_type": "code",
   "execution_count": null,
   "metadata": {},
   "outputs": [],
   "source": [
    "f(x) = log(x)^2\n",
    "\n",
    "exact = 2*(log(2) - 1)^2"
   ]
  },
  {
   "cell_type": "code",
   "execution_count": null,
   "metadata": {},
   "outputs": [],
   "source": [
    "using PyPlot\n",
    "PyPlot.svg(true)\n",
    "\n",
    "# analyze errors\n",
    "Ns = [1, 10, 100, 1000, 10000, 100000]\n",
    "rect_error = [(rectangular_rule(f, 1, 2, N) - exact)/exact\n",
    "        for N in Ns]\n",
    "\n",
    "trap_error = [(trapezoid_rule(f, 1, 2, N) - exact)/exact\n",
    "        for N in Ns]\n",
    "\n",
    "simps_error = [(simpson_rule(f, 1, 2, N) - exact)/exact\n",
    "        for N in Ns]"
   ]
  },
  {
   "cell_type": "code",
   "execution_count": null,
   "metadata": {},
   "outputs": [],
   "source": [
    "figure()\n",
    "\n",
    "loglog(Ns, abs.(rect_error), \"o-\", label=\"rectangular\")\n",
    "loglog(Ns, abs.(trap_error), \"o-\", label=\"trapezoid\")\n",
    "loglog(Ns, abs.(simps_error), \"o-\", label=\"Simpson\")\n",
    "\n",
    "xlabel(\"N\")\n",
    "ylabel(\"relative error\")\n",
    "legend()"
   ]
  },
  {
   "cell_type": "markdown",
   "metadata": {},
   "source": [
    "We still need *a lot* of function evaluations for good accuracy,\n",
    "so better methods are required.\n",
    "\n",
    "Later in this class, we will discuss the *Clenshaw-Curtis* method,\n",
    "which will provide significantly better accuracy at much fewer function\n",
    "evaluations."
   ]
  },
  {
   "cell_type": "code",
   "execution_count": null,
   "metadata": {},
   "outputs": [],
   "source": []
  }
 ],
 "metadata": {
  "kernelspec": {
   "display_name": "Julia 1.1.0",
   "language": "julia",
   "name": "julia-1.1"
  },
  "language_info": {
   "file_extension": ".jl",
   "mimetype": "application/julia",
   "name": "julia",
   "version": "1.1.0"
  }
 },
 "nbformat": 4,
 "nbformat_minor": 2
}

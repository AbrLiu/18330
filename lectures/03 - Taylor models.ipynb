{
 "cells": [
  {
   "cell_type": "markdown",
   "metadata": {},
   "source": [
    "# TaylorModels\n",
    "\n",
    "- **Taylor model** $\\equiv$ **Taylor polynomial** + **interval bound** of truncation error *and* rounding error\n",
    "\n",
    "\n",
    "- https://github.com/JuliaIntervals/TaylorModels.jl"
   ]
  },
  {
   "cell_type": "code",
   "execution_count": 3,
   "metadata": {},
   "outputs": [
    {
     "name": "stderr",
     "output_type": "stream",
     "text": [
      "┌ Info: Precompiling TaylorModels [314ce334-5f6e-57ae-acf6-00b6e903104a]\n",
      "└ @ Base loading.jl:1260\n"
     ]
    }
   ],
   "source": [
    "using TaylorModels"
   ]
  },
  {
   "cell_type": "code",
   "execution_count": 4,
   "metadata": {},
   "outputs": [
    {
     "data": {
      "text/plain": [
       "0.25"
      ]
     },
     "execution_count": 4,
     "metadata": {},
     "output_type": "execute_result"
    }
   ],
   "source": [
    "f(x) = x * (x-1.1) * (x+2) * (x+2.2) * (x+2.5) * (x+3) * sin(1.7*x+0.5)\n",
    "a =  -0.5 .. 1.0 # Domain \n",
    "x0 = mid(a)     # Expansion point"
   ]
  },
  {
   "cell_type": "code",
   "execution_count": 5,
   "metadata": {},
   "outputs": [],
   "source": [
    "using Interact, Plots"
   ]
  },
  {
   "cell_type": "code",
   "execution_count": 7,
   "metadata": {},
   "outputs": [
    {
     "data": {
      "text/plain": [
       " 0.25 + 1.0 t + [0, 0]"
      ]
     },
     "execution_count": 7,
     "metadata": {},
     "output_type": "execute_result"
    }
   ],
   "source": [
    "n = 3\n",
    "x = TaylorModel1(n, x0, a)  # identity function x \\mapsto x"
   ]
  },
  {
   "cell_type": "code",
   "execution_count": 8,
   "metadata": {},
   "outputs": [
    {
     "data": {
      "image/svg+xml": [
       "<?xml version=\"1.0\" encoding=\"utf-8\"?>\n",
       "<svg xmlns=\"http://www.w3.org/2000/svg\" xmlns:xlink=\"http://www.w3.org/1999/xlink\" width=\"600\" height=\"400\" viewBox=\"0 0 2400 1600\">\n",
       "<defs>\n",
       "  <clipPath id=\"clip6600\">\n",
       "    <rect x=\"0\" y=\"0\" width=\"2400\" height=\"1600\"/>\n",
       "  </clipPath>\n",
       "</defs>\n",
       "<path clip-path=\"url(#clip6600)\" d=\"\n",
       "M0 1600 L2400 1600 L2400 0 L0 0  Z\n",
       "  \" fill=\"#ffffff\" fill-rule=\"evenodd\" fill-opacity=\"1\"/>\n",
       "<defs>\n",
       "  <clipPath id=\"clip6601\">\n",
       "    <rect x=\"480\" y=\"0\" width=\"1681\" height=\"1600\"/>\n",
       "  </clipPath>\n",
       "</defs>\n",
       "<path clip-path=\"url(#clip6600)\" d=\"\n",
       "M182.008 1487.47 L2352.76 1487.47 L2352.76 47.2441 L182.008 47.2441  Z\n",
       "  \" fill=\"#ffffff\" fill-rule=\"evenodd\" fill-opacity=\"1\"/>\n",
       "<defs>\n",
       "  <clipPath id=\"clip6602\">\n",
       "    <rect x=\"182\" y=\"47\" width=\"2172\" height=\"1441\"/>\n",
       "  </clipPath>\n",
       "</defs>\n",
       "<polyline clip-path=\"url(#clip6602)\" style=\"stroke:#000000; stroke-width:2; stroke-opacity:0.1; fill:none\" points=\"\n",
       "  516.494,1487.47 516.494,47.2441 \n",
       "  \"/>\n",
       "<polyline clip-path=\"url(#clip6602)\" style=\"stroke:#000000; stroke-width:2; stroke-opacity:0.1; fill:none\" points=\"\n",
       "  926.069,1487.47 926.069,47.2441 \n",
       "  \"/>\n",
       "<polyline clip-path=\"url(#clip6602)\" style=\"stroke:#000000; stroke-width:2; stroke-opacity:0.1; fill:none\" points=\"\n",
       "  1335.64,1487.47 1335.64,47.2441 \n",
       "  \"/>\n",
       "<polyline clip-path=\"url(#clip6602)\" style=\"stroke:#000000; stroke-width:2; stroke-opacity:0.1; fill:none\" points=\"\n",
       "  1745.22,1487.47 1745.22,47.2441 \n",
       "  \"/>\n",
       "<polyline clip-path=\"url(#clip6602)\" style=\"stroke:#000000; stroke-width:2; stroke-opacity:0.1; fill:none\" points=\"\n",
       "  2154.79,1487.47 2154.79,47.2441 \n",
       "  \"/>\n",
       "<polyline clip-path=\"url(#clip6602)\" style=\"stroke:#000000; stroke-width:2; stroke-opacity:0.1; fill:none\" points=\"\n",
       "  182.008,1265.55 2352.76,1265.55 \n",
       "  \"/>\n",
       "<polyline clip-path=\"url(#clip6602)\" style=\"stroke:#000000; stroke-width:2; stroke-opacity:0.1; fill:none\" points=\"\n",
       "  182.008,993.811 2352.76,993.811 \n",
       "  \"/>\n",
       "<polyline clip-path=\"url(#clip6602)\" style=\"stroke:#000000; stroke-width:2; stroke-opacity:0.1; fill:none\" points=\"\n",
       "  182.008,722.069 2352.76,722.069 \n",
       "  \"/>\n",
       "<polyline clip-path=\"url(#clip6602)\" style=\"stroke:#000000; stroke-width:2; stroke-opacity:0.1; fill:none\" points=\"\n",
       "  182.008,450.328 2352.76,450.328 \n",
       "  \"/>\n",
       "<polyline clip-path=\"url(#clip6602)\" style=\"stroke:#000000; stroke-width:2; stroke-opacity:0.1; fill:none\" points=\"\n",
       "  182.008,178.586 2352.76,178.586 \n",
       "  \"/>\n",
       "<polyline clip-path=\"url(#clip6600)\" style=\"stroke:#000000; stroke-width:4; stroke-opacity:1; fill:none\" points=\"\n",
       "  182.008,1487.47 2352.76,1487.47 \n",
       "  \"/>\n",
       "<polyline clip-path=\"url(#clip6600)\" style=\"stroke:#000000; stroke-width:4; stroke-opacity:1; fill:none\" points=\"\n",
       "  182.008,1487.47 182.008,47.2441 \n",
       "  \"/>\n",
       "<polyline clip-path=\"url(#clip6600)\" style=\"stroke:#000000; stroke-width:4; stroke-opacity:1; fill:none\" points=\"\n",
       "  516.494,1487.47 516.494,1470.19 \n",
       "  \"/>\n",
       "<polyline clip-path=\"url(#clip6600)\" style=\"stroke:#000000; stroke-width:4; stroke-opacity:1; fill:none\" points=\"\n",
       "  926.069,1487.47 926.069,1470.19 \n",
       "  \"/>\n",
       "<polyline clip-path=\"url(#clip6600)\" style=\"stroke:#000000; stroke-width:4; stroke-opacity:1; fill:none\" points=\"\n",
       "  1335.64,1487.47 1335.64,1470.19 \n",
       "  \"/>\n",
       "<polyline clip-path=\"url(#clip6600)\" style=\"stroke:#000000; stroke-width:4; stroke-opacity:1; fill:none\" points=\"\n",
       "  1745.22,1487.47 1745.22,1470.19 \n",
       "  \"/>\n",
       "<polyline clip-path=\"url(#clip6600)\" style=\"stroke:#000000; stroke-width:4; stroke-opacity:1; fill:none\" points=\"\n",
       "  2154.79,1487.47 2154.79,1470.19 \n",
       "  \"/>\n",
       "<polyline clip-path=\"url(#clip6600)\" style=\"stroke:#000000; stroke-width:4; stroke-opacity:1; fill:none\" points=\"\n",
       "  182.008,1265.55 208.057,1265.55 \n",
       "  \"/>\n",
       "<polyline clip-path=\"url(#clip6600)\" style=\"stroke:#000000; stroke-width:4; stroke-opacity:1; fill:none\" points=\"\n",
       "  182.008,993.811 208.057,993.811 \n",
       "  \"/>\n",
       "<polyline clip-path=\"url(#clip6600)\" style=\"stroke:#000000; stroke-width:4; stroke-opacity:1; fill:none\" points=\"\n",
       "  182.008,722.069 208.057,722.069 \n",
       "  \"/>\n",
       "<polyline clip-path=\"url(#clip6600)\" style=\"stroke:#000000; stroke-width:4; stroke-opacity:1; fill:none\" points=\"\n",
       "  182.008,450.328 208.057,450.328 \n",
       "  \"/>\n",
       "<polyline clip-path=\"url(#clip6600)\" style=\"stroke:#000000; stroke-width:4; stroke-opacity:1; fill:none\" points=\"\n",
       "  182.008,178.586 208.057,178.586 \n",
       "  \"/>\n",
       "<g clip-path=\"url(#clip6600)\">\n",
       "<text style=\"fill:#000000; fill-opacity:1; font-family:Arial,Helvetica Neue,Helvetica,sans-serif; font-size:48px; text-anchor:middle;\" transform=\"rotate(0, 516.494, 1541.47)\" x=\"516.494\" y=\"1541.47\">-0.3</text>\n",
       "</g>\n",
       "<g clip-path=\"url(#clip6600)\">\n",
       "<text style=\"fill:#000000; fill-opacity:1; font-family:Arial,Helvetica Neue,Helvetica,sans-serif; font-size:48px; text-anchor:middle;\" transform=\"rotate(0, 926.069, 1541.47)\" x=\"926.069\" y=\"1541.47\">0.0</text>\n",
       "</g>\n",
       "<g clip-path=\"url(#clip6600)\">\n",
       "<text style=\"fill:#000000; fill-opacity:1; font-family:Arial,Helvetica Neue,Helvetica,sans-serif; font-size:48px; text-anchor:middle;\" transform=\"rotate(0, 1335.64, 1541.47)\" x=\"1335.64\" y=\"1541.47\">0.3</text>\n",
       "</g>\n",
       "<g clip-path=\"url(#clip6600)\">\n",
       "<text style=\"fill:#000000; fill-opacity:1; font-family:Arial,Helvetica Neue,Helvetica,sans-serif; font-size:48px; text-anchor:middle;\" transform=\"rotate(0, 1745.22, 1541.47)\" x=\"1745.22\" y=\"1541.47\">0.6</text>\n",
       "</g>\n",
       "<g clip-path=\"url(#clip6600)\">\n",
       "<text style=\"fill:#000000; fill-opacity:1; font-family:Arial,Helvetica Neue,Helvetica,sans-serif; font-size:48px; text-anchor:middle;\" transform=\"rotate(0, 2154.79, 1541.47)\" x=\"2154.79\" y=\"1541.47\">0.9</text>\n",
       "</g>\n",
       "<g clip-path=\"url(#clip6600)\">\n",
       "<text style=\"fill:#000000; fill-opacity:1; font-family:Arial,Helvetica Neue,Helvetica,sans-serif; font-size:48px; text-anchor:end;\" transform=\"rotate(0, 158.008, 1283.05)\" x=\"158.008\" y=\"1283.05\">-0.3</text>\n",
       "</g>\n",
       "<g clip-path=\"url(#clip6600)\">\n",
       "<text style=\"fill:#000000; fill-opacity:1; font-family:Arial,Helvetica Neue,Helvetica,sans-serif; font-size:48px; text-anchor:end;\" transform=\"rotate(0, 158.008, 1011.31)\" x=\"158.008\" y=\"1011.31\">0.0</text>\n",
       "</g>\n",
       "<g clip-path=\"url(#clip6600)\">\n",
       "<text style=\"fill:#000000; fill-opacity:1; font-family:Arial,Helvetica Neue,Helvetica,sans-serif; font-size:48px; text-anchor:end;\" transform=\"rotate(0, 158.008, 739.569)\" x=\"158.008\" y=\"739.569\">0.3</text>\n",
       "</g>\n",
       "<g clip-path=\"url(#clip6600)\">\n",
       "<text style=\"fill:#000000; fill-opacity:1; font-family:Arial,Helvetica Neue,Helvetica,sans-serif; font-size:48px; text-anchor:end;\" transform=\"rotate(0, 158.008, 467.828)\" x=\"158.008\" y=\"467.828\">0.6</text>\n",
       "</g>\n",
       "<g clip-path=\"url(#clip6600)\">\n",
       "<text style=\"fill:#000000; fill-opacity:1; font-family:Arial,Helvetica Neue,Helvetica,sans-serif; font-size:48px; text-anchor:end;\" transform=\"rotate(0, 158.008, 196.086)\" x=\"158.008\" y=\"196.086\">0.9</text>\n",
       "</g>\n",
       "<path clip-path=\"url(#clip6602)\" d=\"\n",
       "M243.444 1446.71 L264.13 1432.99 L284.816 1419.26 L305.501 1405.54 L326.187 1391.82 L346.872 1378.09 L367.558 1364.37 L388.244 1350.64 L408.929 1336.92 L429.615 1323.19 \n",
       "  L450.3 1309.47 L470.986 1295.75 L491.672 1282.02 L512.357 1268.3 L533.043 1254.57 L553.728 1240.85 L574.414 1227.12 L595.1 1213.4 L615.785 1199.68 L636.471 1185.95 \n",
       "  L657.157 1172.23 L677.842 1158.5 L698.528 1144.78 L719.213 1131.05 L739.899 1117.33 L760.585 1103.61 L781.27 1089.88 L801.956 1076.16 L822.641 1062.43 L843.327 1048.71 \n",
       "  L864.013 1034.98 L884.698 1021.26 L905.384 1007.54 L926.069 993.811 L946.755 980.086 L967.441 966.362 L988.126 952.638 L1008.81 938.913 L1029.5 925.189 L1050.18 911.465 \n",
       "  L1070.87 897.74 L1091.55 884.016 L1112.24 870.292 L1132.93 856.568 L1153.61 842.843 L1174.3 829.119 L1194.98 815.395 L1215.67 801.67 L1236.35 787.946 L1257.04 774.222 \n",
       "  L1277.72 760.497 L1298.41 746.773 L1319.1 733.049 L1339.78 719.324 L1360.47 705.6 L1381.15 691.876 L1401.84 678.151 L1422.52 664.427 L1443.21 650.703 L1463.9 636.978 \n",
       "  L1484.58 623.254 L1505.27 609.53 L1525.95 595.805 L1546.64 582.081 L1567.32 568.357 L1588.01 554.632 L1608.69 540.908 L1629.38 527.184 L1650.07 513.459 L1670.75 499.735 \n",
       "  L1691.44 486.011 L1712.12 472.286 L1732.81 458.562 L1753.49 444.838 L1774.18 431.113 L1794.87 417.389 L1815.55 403.665 L1836.24 389.94 L1856.92 376.216 L1877.61 362.492 \n",
       "  L1898.29 348.768 L1918.98 335.043 L1939.66 321.319 L1960.35 307.595 L1981.04 293.87 L2001.72 280.146 L2022.41 266.422 L2043.09 252.697 L2063.78 238.973 L2084.46 225.249 \n",
       "  L2105.15 211.524 L2125.83 197.8 L2146.52 184.076 L2167.21 170.351 L2187.89 156.627 L2208.58 142.903 L2229.26 129.178 L2249.95 115.454 L2270.63 101.73 L2291.32 88.0053 \n",
       "  L2291.32 88.0053 L2270.63 101.73 L2249.95 115.454 L2229.26 129.178 L2208.58 142.903 L2187.89 156.627 L2167.21 170.351 L2146.52 184.076 L2125.83 197.8 L2105.15 211.524 \n",
       "  L2084.46 225.249 L2063.78 238.973 L2043.09 252.697 L2022.41 266.422 L2001.72 280.146 L1981.04 293.87 L1960.35 307.595 L1939.66 321.319 L1918.98 335.043 L1898.29 348.768 \n",
       "  L1877.61 362.492 L1856.92 376.216 L1836.24 389.94 L1815.55 403.665 L1794.87 417.389 L1774.18 431.113 L1753.49 444.838 L1732.81 458.562 L1712.12 472.286 L1691.44 486.011 \n",
       "  L1670.75 499.735 L1650.07 513.459 L1629.38 527.184 L1608.69 540.908 L1588.01 554.632 L1567.32 568.357 L1546.64 582.081 L1525.95 595.805 L1505.27 609.53 L1484.58 623.254 \n",
       "  L1463.9 636.978 L1443.21 650.703 L1422.52 664.427 L1401.84 678.151 L1381.15 691.876 L1360.47 705.6 L1339.78 719.324 L1319.1 733.049 L1298.41 746.773 L1277.72 760.497 \n",
       "  L1257.04 774.222 L1236.35 787.946 L1215.67 801.67 L1194.98 815.395 L1174.3 829.119 L1153.61 842.843 L1132.93 856.568 L1112.24 870.292 L1091.55 884.016 L1070.87 897.74 \n",
       "  L1050.18 911.465 L1029.5 925.189 L1008.81 938.913 L988.126 952.638 L967.441 966.362 L946.755 980.086 L926.069 993.811 L905.384 1007.54 L884.698 1021.26 L864.013 1034.98 \n",
       "  L843.327 1048.71 L822.641 1062.43 L801.956 1076.16 L781.27 1089.88 L760.585 1103.61 L739.899 1117.33 L719.213 1131.05 L698.528 1144.78 L677.842 1158.5 L657.157 1172.23 \n",
       "  L636.471 1185.95 L615.785 1199.68 L595.1 1213.4 L574.414 1227.12 L553.728 1240.85 L533.043 1254.57 L512.357 1268.3 L491.672 1282.02 L470.986 1295.75 L450.3 1309.47 \n",
       "  L429.615 1323.19 L408.929 1336.92 L388.244 1350.64 L367.558 1364.37 L346.872 1378.09 L326.187 1391.82 L305.501 1405.54 L284.816 1419.26 L264.13 1432.99 L243.444 1446.71 \n",
       "  L243.444 1446.71 L243.444 1446.71  Z\n",
       "  \" fill=\"#009af9\" fill-rule=\"evenodd\" fill-opacity=\"0.3\"/>\n",
       "<polyline clip-path=\"url(#clip6602)\" style=\"stroke:#000000; stroke-width:4; stroke-opacity:0.3; fill:none\" points=\"\n",
       "  243.444,1446.71 264.13,1432.99 284.816,1419.26 305.501,1405.54 326.187,1391.82 346.872,1378.09 367.558,1364.37 388.244,1350.64 408.929,1336.92 429.615,1323.19 \n",
       "  450.3,1309.47 470.986,1295.75 491.672,1282.02 512.357,1268.3 533.043,1254.57 553.728,1240.85 574.414,1227.12 595.1,1213.4 615.785,1199.68 636.471,1185.95 \n",
       "  657.157,1172.23 677.842,1158.5 698.528,1144.78 719.213,1131.05 739.899,1117.33 760.585,1103.61 781.27,1089.88 801.956,1076.16 822.641,1062.43 843.327,1048.71 \n",
       "  864.013,1034.98 884.698,1021.26 905.384,1007.54 926.069,993.811 946.755,980.086 967.441,966.362 988.126,952.638 1008.81,938.913 1029.5,925.189 1050.18,911.465 \n",
       "  1070.87,897.74 1091.55,884.016 1112.24,870.292 1132.93,856.568 1153.61,842.843 1174.3,829.119 1194.98,815.395 1215.67,801.67 1236.35,787.946 1257.04,774.222 \n",
       "  1277.72,760.497 1298.41,746.773 1319.1,733.049 1339.78,719.324 1360.47,705.6 1381.15,691.876 1401.84,678.151 1422.52,664.427 1443.21,650.703 1463.9,636.978 \n",
       "  1484.58,623.254 1505.27,609.53 1525.95,595.805 1546.64,582.081 1567.32,568.357 1588.01,554.632 1608.69,540.908 1629.38,527.184 1650.07,513.459 1670.75,499.735 \n",
       "  1691.44,486.011 1712.12,472.286 1732.81,458.562 1753.49,444.838 1774.18,431.113 1794.87,417.389 1815.55,403.665 1836.24,389.94 1856.92,376.216 1877.61,362.492 \n",
       "  1898.29,348.768 1918.98,335.043 1939.66,321.319 1960.35,307.595 1981.04,293.87 2001.72,280.146 2022.41,266.422 2043.09,252.697 2063.78,238.973 2084.46,225.249 \n",
       "  2105.15,211.524 2125.83,197.8 2146.52,184.076 2167.21,170.351 2187.89,156.627 2208.58,142.903 2229.26,129.178 2249.95,115.454 2270.63,101.73 2291.32,88.0053 \n",
       "  2270.63,101.73 2249.95,115.454 2229.26,129.178 2208.58,142.903 2187.89,156.627 2167.21,170.351 2146.52,184.076 2125.83,197.8 2105.15,211.524 \n",
       "  2084.46,225.249 2063.78,238.973 2043.09,252.697 2022.41,266.422 2001.72,280.146 1981.04,293.87 1960.35,307.595 1939.66,321.319 1918.98,335.043 1898.29,348.768 \n",
       "  1877.61,362.492 1856.92,376.216 1836.24,389.94 1815.55,403.665 1794.87,417.389 1774.18,431.113 1753.49,444.838 1732.81,458.562 1712.12,472.286 1691.44,486.011 \n",
       "  1670.75,499.735 1650.07,513.459 1629.38,527.184 1608.69,540.908 1588.01,554.632 1567.32,568.357 1546.64,582.081 1525.95,595.805 1505.27,609.53 1484.58,623.254 \n",
       "  1463.9,636.978 1443.21,650.703 1422.52,664.427 1401.84,678.151 1381.15,691.876 1360.47,705.6 1339.78,719.324 1319.1,733.049 1298.41,746.773 1277.72,760.497 \n",
       "  1257.04,774.222 1236.35,787.946 1215.67,801.67 1194.98,815.395 1174.3,829.119 1153.61,842.843 1132.93,856.568 1112.24,870.292 1091.55,884.016 1070.87,897.74 \n",
       "  1050.18,911.465 1029.5,925.189 1008.81,938.913 988.126,952.638 967.441,966.362 946.755,980.086 926.069,993.811 905.384,1007.54 884.698,1021.26 864.013,1034.98 \n",
       "  843.327,1048.71 822.641,1062.43 801.956,1076.16 781.27,1089.88 760.585,1103.61 739.899,1117.33 719.213,1131.05 698.528,1144.78 677.842,1158.5 657.157,1172.23 \n",
       "  636.471,1185.95 615.785,1199.68 595.1,1213.4 574.414,1227.12 553.728,1240.85 533.043,1254.57 512.357,1268.3 491.672,1282.02 470.986,1295.75 450.3,1309.47 \n",
       "  429.615,1323.19 408.929,1336.92 388.244,1350.64 367.558,1364.37 346.872,1378.09 326.187,1391.82 305.501,1405.54 284.816,1419.26 264.13,1432.99 243.444,1446.71 \n",
       "  \n",
       "  \"/>\n",
       "<path clip-path=\"url(#clip6600)\" d=\"\n",
       "M1989.93 251.724 L2280.76 251.724 L2280.76 130.764 L1989.93 130.764  Z\n",
       "  \" fill=\"#ffffff\" fill-rule=\"evenodd\" fill-opacity=\"1\"/>\n",
       "<polyline clip-path=\"url(#clip6600)\" style=\"stroke:#000000; stroke-width:4; stroke-opacity:1; fill:none\" points=\"\n",
       "  1989.93,251.724 2280.76,251.724 2280.76,130.764 1989.93,130.764 1989.93,251.724 \n",
       "  \"/>\n",
       "<path clip-path=\"url(#clip6600)\" d=\"\n",
       "M2013.93 215.436 L2157.93 215.436 L2157.93 167.052 L2013.93 167.052 L2013.93 215.436  Z\n",
       "  \" fill=\"#009af9\" fill-rule=\"evenodd\" fill-opacity=\"0.3\"/>\n",
       "<polyline clip-path=\"url(#clip6600)\" style=\"stroke:#000000; stroke-width:4; stroke-opacity:1; fill:none\" points=\"\n",
       "  2013.93,215.436 2157.93,215.436 2157.93,167.052 2013.93,167.052 2013.93,215.436 \n",
       "  \"/>\n",
       "<g clip-path=\"url(#clip6600)\">\n",
       "<text style=\"fill:#000000; fill-opacity:1; font-family:Arial,Helvetica Neue,Helvetica,sans-serif; font-size:48px; text-anchor:start;\" transform=\"rotate(0, 2181.93, 208.744)\" x=\"2181.93\" y=\"208.744\">y1</text>\n",
       "</g>\n",
       "</svg>\n"
      ]
     },
     "execution_count": 8,
     "metadata": {},
     "output_type": "execute_result"
    }
   ],
   "source": [
    "plot(x)"
   ]
  },
  {
   "cell_type": "code",
   "execution_count": 14,
   "metadata": {},
   "outputs": [
    {
     "data": {
      "application/vnd.webio.node+json": {
       "children": [
        {
         "children": [
          {
           "children": [
            {
             "children": [
              {
               "children": [
                {
                 "children": [
                  ""
                 ],
                 "instanceArgs": {
                  "namespace": "html",
                  "tag": "label"
                 },
                 "nodeType": "DOM",
                 "props": {
                  "className": "interact ",
                  "style": {
                   "padding": "5px 10px 0px 10px"
                  }
                 },
                 "type": "node"
                }
               ],
               "instanceArgs": {
                "namespace": "html",
                "tag": "div"
               },
               "nodeType": "DOM",
               "props": {
                "className": "interact-flex-row-left"
               },
               "type": "node"
              },
              {
               "children": [
                {
                 "children": [],
                 "instanceArgs": {
                  "namespace": "html",
                  "tag": "input"
                 },
                 "nodeType": "DOM",
                 "props": {
                  "attributes": {
                   "data-bind": "numericValue: index, valueUpdate: 'input', event: {change: function (){this.changes(this.changes()+1)}}",
                   "orient": "horizontal",
                   "type": "range"
                  },
                  "className": "slider slider is-fullwidth",
                  "max": 10,
                  "min": 1,
                  "step": 1,
                  "style": {}
                 },
                 "type": "node"
                }
               ],
               "instanceArgs": {
                "namespace": "html",
                "tag": "div"
               },
               "nodeType": "DOM",
               "props": {
                "className": "interact-flex-row-center"
               },
               "type": "node"
              },
              {
               "children": [
                {
                 "children": [],
                 "instanceArgs": {
                  "namespace": "html",
                  "tag": "p"
                 },
                 "nodeType": "DOM",
                 "props": {
                  "attributes": {
                   "data-bind": "text: formatted_val"
                  }
                 },
                 "type": "node"
                }
               ],
               "instanceArgs": {
                "namespace": "html",
                "tag": "div"
               },
               "nodeType": "DOM",
               "props": {
                "className": "interact-flex-row-right"
               },
               "type": "node"
              }
             ],
             "instanceArgs": {
              "namespace": "html",
              "tag": "div"
             },
             "nodeType": "DOM",
             "props": {
              "className": "interact-flex-row interact-widget"
             },
             "type": "node"
            }
           ],
           "instanceArgs": {
            "handlers": {
             "changes": [
              "(function (val){return (val!=this.model[\"changes\"]()) ? (this.valueFromJulia[\"changes\"]=true, this.model[\"changes\"](val)) : undefined})"
             ],
             "index": [
              "(function (val){return (val!=this.model[\"index\"]()) ? (this.valueFromJulia[\"index\"]=true, this.model[\"index\"](val)) : undefined})"
             ]
            },
            "id": "13826555623489726016",
            "imports": {
             "data": [
              {
               "name": "knockout",
               "type": "js",
               "url": "/assetserver/9a186147d51179d2ec12ccfac1799b0b805a79d5-knockout.js"
              },
              {
               "name": "knockout_punches",
               "type": "js",
               "url": "/assetserver/eccef011301f679ebde0900f01478cac573870ce-knockout_punches.js"
              },
              {
               "name": null,
               "type": "js",
               "url": "/assetserver/5d2042c6908ffff0b7c8d26135740476bcf00827-all.js"
              },
              {
               "name": null,
               "type": "css",
               "url": "/assetserver/87ad319ae61de5d44f67c268a0a8f65862fca478-style.css"
              },
              {
               "name": null,
               "type": "css",
               "url": "/assetserver/9354074556c360cc537db1e8b0f0283e19c8ea9d-bulma_confined.min.css"
              }
             ],
             "type": "async_block"
            },
            "mount_callbacks": [
             "function () {\n    var handler = (function (ko, koPunches) {\n    ko.punches.enableAll();\n    ko.bindingHandlers.numericValue = {\n        init: function(element, valueAccessor, allBindings, data, context) {\n            var stringified = ko.observable(ko.unwrap(valueAccessor()));\n            stringified.subscribe(function(value) {\n                var val = parseFloat(value);\n                if (!isNaN(val)) {\n                    valueAccessor()(val);\n                }\n            });\n            valueAccessor().subscribe(function(value) {\n                var str = JSON.stringify(value);\n                if ((str == \"0\") && ([\"-0\", \"-0.\"].indexOf(stringified()) >= 0))\n                     return;\n                 if ([\"null\", \"\"].indexOf(str) >= 0)\n                     return;\n                stringified(str);\n            });\n            ko.applyBindingsToNode(\n                element,\n                {\n                    value: stringified,\n                    valueUpdate: allBindings.get('valueUpdate'),\n                },\n                context,\n            );\n        }\n    };\n    var json_data = {\"formatted_vals\":[\"1\",\"2\",\"3\",\"4\",\"5\",\"6\",\"7\",\"8\",\"9\",\"10\"],\"changes\":WebIO.getval({\"name\":\"changes\",\"scope\":\"13826555623489726016\",\"id\":\"ob_30\",\"type\":\"observable\"}),\"index\":WebIO.getval({\"name\":\"index\",\"scope\":\"13826555623489726016\",\"id\":\"ob_29\",\"type\":\"observable\"})};\n    var self = this;\n    function AppViewModel() {\n        for (var key in json_data) {\n            var el = json_data[key];\n            this[key] = Array.isArray(el) ? ko.observableArray(el) : ko.observable(el);\n        }\n        \n        [this[\"formatted_val\"]=ko.computed(    function(){\n        return this.formatted_vals()[parseInt(this.index())-(1)];\n    }\n,this)]\n        [this[\"changes\"].subscribe((function (val){!(this.valueFromJulia[\"changes\"]) ? (WebIO.setval({\"name\":\"changes\",\"scope\":\"13826555623489726016\",\"id\":\"ob_30\",\"type\":\"observable\"},val)) : undefined; return this.valueFromJulia[\"changes\"]=false}),self),this[\"index\"].subscribe((function (val){!(this.valueFromJulia[\"index\"]) ? (WebIO.setval({\"name\":\"index\",\"scope\":\"13826555623489726016\",\"id\":\"ob_29\",\"type\":\"observable\"},val)) : undefined; return this.valueFromJulia[\"index\"]=false}),self)]\n        \n    }\n    self.model = new AppViewModel();\n    self.valueFromJulia = {};\n    for (var key in json_data) {\n        self.valueFromJulia[key] = false;\n    }\n    ko.applyBindings(self.model, self.dom);\n}\n);\n    (WebIO.importBlock({\"data\":[{\"name\":\"knockout\",\"type\":\"js\",\"url\":\"/assetserver/9a186147d51179d2ec12ccfac1799b0b805a79d5-knockout.js\"},{\"name\":\"knockout_punches\",\"type\":\"js\",\"url\":\"/assetserver/eccef011301f679ebde0900f01478cac573870ce-knockout_punches.js\"}],\"type\":\"async_block\"})).then((imports) => handler.apply(this, imports));\n}\n"
            ],
            "observables": {
             "changes": {
              "id": "ob_30",
              "sync": false,
              "value": 0
             },
             "index": {
              "id": "ob_29",
              "sync": true,
              "value": 1
             }
            },
            "systemjs_options": null
           },
           "nodeType": "Scope",
           "props": {},
           "type": "node"
          }
         ],
         "instanceArgs": {
          "namespace": "html",
          "tag": "div"
         },
         "nodeType": "DOM",
         "props": {
          "className": "field interact-widget"
         },
         "type": "node"
        },
        {
         "children": [
          {
           "children": [],
           "instanceArgs": {
            "id": "ob_36",
            "name": "obs-node"
           },
           "nodeType": "ObservableNode",
           "props": {},
           "type": "node"
          }
         ],
         "instanceArgs": {
          "handlers": {},
          "id": "15750065773186109709",
          "imports": {
           "data": [],
           "type": "async_block"
          },
          "mount_callbacks": [],
          "observables": {
           "obs-node": {
            "id": "ob_36",
            "sync": false,
            "value": {
             "children": [
              {
               "children": [],
               "instanceArgs": {
                "namespace": "html",
                "tag": "div"
               },
               "nodeType": "DOM",
               "props": {
                "setInnerHtml": "<?xml version=\"1.0\" encoding=\"utf-8\"?>\n<svg xmlns=\"http://www.w3.org/2000/svg\" xmlns:xlink=\"http://www.w3.org/1999/xlink\" width=\"600\" height=\"400\" viewBox=\"0 0 2400 1600\">\n<defs>\n  <clipPath id=\"clip0600\">\n    <rect x=\"0\" y=\"0\" width=\"2400\" height=\"1600\"/>\n  </clipPath>\n</defs>\n<path clip-path=\"url(#clip0600)\" d=\"\nM0 1600 L2400 1600 L2400 0 L0 0  Z\n  \" fill=\"#ffffff\" fill-rule=\"evenodd\" fill-opacity=\"1\"/>\n<defs>\n  <clipPath id=\"clip0601\">\n    <rect x=\"480\" y=\"0\" width=\"1681\" height=\"1600\"/>\n  </clipPath>\n</defs>\n<path clip-path=\"url(#clip0600)\" d=\"\nM168.627 1487.47 L2352.76 1487.47 L2352.76 47.2441 L168.627 47.2441  Z\n  \" fill=\"#ffffff\" fill-rule=\"evenodd\" fill-opacity=\"1\"/>\n<defs>\n  <clipPath id=\"clip0602\">\n    <rect x=\"168\" y=\"47\" width=\"2185\" height=\"1441\"/>\n  </clipPath>\n</defs>\n<polyline clip-path=\"url(#clip0602)\" style=\"stroke:#000000; stroke-width:2; stroke-opacity:0.1; fill:none\" points=\"\n  505.175,1487.47 505.175,47.2441 \n  \"/>\n<polyline clip-path=\"url(#clip0602)\" style=\"stroke:#000000; stroke-width:2; stroke-opacity:0.1; fill:none\" points=\"\n  917.275,1487.47 917.275,47.2441 \n  \"/>\n<polyline clip-path=\"url(#clip0602)\" style=\"stroke:#000000; stroke-width:2; stroke-opacity:0.1; fill:none\" points=\"\n  1329.37,1487.47 1329.37,47.2441 \n  \"/>\n<polyline clip-path=\"url(#clip0602)\" style=\"stroke:#000000; stroke-width:2; stroke-opacity:0.1; fill:none\" points=\"\n  1741.47,1487.47 1741.47,47.2441 \n  \"/>\n<polyline clip-path=\"url(#clip0602)\" style=\"stroke:#000000; stroke-width:2; stroke-opacity:0.1; fill:none\" points=\"\n  2153.57,1487.47 2153.57,47.2441 \n  \"/>\n<polyline clip-path=\"url(#clip0602)\" style=\"stroke:#000000; stroke-width:2; stroke-opacity:0.1; fill:none\" points=\"\n  168.627,1487.47 2352.76,1487.47 \n  \"/>\n<polyline clip-path=\"url(#clip0602)\" style=\"stroke:#000000; stroke-width:2; stroke-opacity:0.1; fill:none\" points=\"\n  168.627,1127.42 2352.76,1127.42 \n  \"/>\n<polyline clip-path=\"url(#clip0602)\" style=\"stroke:#000000; stroke-width:2; stroke-opacity:0.1; fill:none\" points=\"\n  168.627,767.359 2352.76,767.359 \n  \"/>\n<polyline clip-path=\"url(#clip0602)\" style=\"stroke:#000000; stroke-width:2; stroke-opacity:0.1; fill:none\" points=\"\n  168.627,407.302 2352.76,407.302 \n  \"/>\n<polyline clip-path=\"url(#clip0602)\" style=\"stroke:#000000; stroke-width:2; stroke-opacity:0.1; fill:none\" points=\"\n  168.627,47.2441 2352.76,47.2441 \n  \"/>\n<polyline clip-path=\"url(#clip0600)\" style=\"stroke:#000000; stroke-width:4; stroke-opacity:1; fill:none\" points=\"\n  168.627,1487.47 2352.76,1487.47 \n  \"/>\n<polyline clip-path=\"url(#clip0600)\" style=\"stroke:#000000; stroke-width:4; stroke-opacity:1; fill:none\" points=\"\n  168.627,1487.47 168.627,47.2441 \n  \"/>\n<polyline clip-path=\"url(#clip0600)\" style=\"stroke:#000000; stroke-width:4; stroke-opacity:1; fill:none\" points=\"\n  505.175,1487.47 505.175,1470.19 \n  \"/>\n<polyline clip-path=\"url(#clip0600)\" style=\"stroke:#000000; stroke-width:4; stroke-opacity:1; fill:none\" points=\"\n  917.275,1487.47 917.275,1470.19 \n  \"/>\n<polyline clip-path=\"url(#clip0600)\" style=\"stroke:#000000; stroke-width:4; stroke-opacity:1; fill:none\" points=\"\n  1329.37,1487.47 1329.37,1470.19 \n  \"/>\n<polyline clip-path=\"url(#clip0600)\" style=\"stroke:#000000; stroke-width:4; stroke-opacity:1; fill:none\" points=\"\n  1741.47,1487.47 1741.47,1470.19 \n  \"/>\n<polyline clip-path=\"url(#clip0600)\" style=\"stroke:#000000; stroke-width:4; stroke-opacity:1; fill:none\" points=\"\n  2153.57,1487.47 2153.57,1470.19 \n  \"/>\n<polyline clip-path=\"url(#clip0600)\" style=\"stroke:#000000; stroke-width:4; stroke-opacity:1; fill:none\" points=\"\n  168.627,1487.47 194.836,1487.47 \n  \"/>\n<polyline clip-path=\"url(#clip0600)\" style=\"stroke:#000000; stroke-width:4; stroke-opacity:1; fill:none\" points=\"\n  168.627,1127.42 194.836,1127.42 \n  \"/>\n<polyline clip-path=\"url(#clip0600)\" style=\"stroke:#000000; stroke-width:4; stroke-opacity:1; fill:none\" points=\"\n  168.627,767.359 194.836,767.359 \n  \"/>\n<polyline clip-path=\"url(#clip0600)\" style=\"stroke:#000000; stroke-width:4; stroke-opacity:1; fill:none\" points=\"\n  168.627,407.302 194.836,407.302 \n  \"/>\n<polyline clip-path=\"url(#clip0600)\" style=\"stroke:#000000; stroke-width:4; stroke-opacity:1; fill:none\" points=\"\n  168.627,47.2441 194.836,47.2441 \n  \"/>\n<g clip-path=\"url(#clip0600)\">\n<text style=\"fill:#000000; fill-opacity:1; font-family:Arial,Helvetica Neue,Helvetica,sans-serif; font-size:48px; text-anchor:middle;\" transform=\"rotate(0, 505.175, 1541.47)\" x=\"505.175\" y=\"1541.47\">-0.3</text>\n</g>\n<g clip-path=\"url(#clip0600)\">\n<text style=\"fill:#000000; fill-opacity:1; font-family:Arial,Helvetica Neue,Helvetica,sans-serif; font-size:48px; text-anchor:middle;\" transform=\"rotate(0, 917.275, 1541.47)\" x=\"917.275\" y=\"1541.47\">0.0</text>\n</g>\n<g clip-path=\"url(#clip0600)\">\n<text style=\"fill:#000000; fill-opacity:1; font-family:Arial,Helvetica Neue,Helvetica,sans-serif; font-size:48px; text-anchor:middle;\" transform=\"rotate(0, 1329.37, 1541.47)\" x=\"1329.37\" y=\"1541.47\">0.3</text>\n</g>\n<g clip-path=\"url(#clip0600)\">\n<text style=\"fill:#000000; fill-opacity:1; font-family:Arial,Helvetica Neue,Helvetica,sans-serif; font-size:48px; text-anchor:middle;\" transform=\"rotate(0, 1741.47, 1541.47)\" x=\"1741.47\" y=\"1541.47\">0.6</text>\n</g>\n<g clip-path=\"url(#clip0600)\">\n<text style=\"fill:#000000; fill-opacity:1; font-family:Arial,Helvetica Neue,Helvetica,sans-serif; font-size:48px; text-anchor:middle;\" transform=\"rotate(0, 2153.57, 1541.47)\" x=\"2153.57\" y=\"1541.47\">0.9</text>\n</g>\n<g clip-path=\"url(#clip0600)\">\n<text style=\"fill:#000000; fill-opacity:1; font-family:Arial,Helvetica Neue,Helvetica,sans-serif; font-size:48px; text-anchor:end;\" transform=\"rotate(0, 144.627, 1504.97)\" x=\"144.627\" y=\"1504.97\">-50</text>\n</g>\n<g clip-path=\"url(#clip0600)\">\n<text style=\"fill:#000000; fill-opacity:1; font-family:Arial,Helvetica Neue,Helvetica,sans-serif; font-size:48px; text-anchor:end;\" transform=\"rotate(0, 144.627, 1144.92)\" x=\"144.627\" y=\"1144.92\">-25</text>\n</g>\n<g clip-path=\"url(#clip0600)\">\n<text style=\"fill:#000000; fill-opacity:1; font-family:Arial,Helvetica Neue,Helvetica,sans-serif; font-size:48px; text-anchor:end;\" transform=\"rotate(0, 144.627, 784.859)\" x=\"144.627\" y=\"784.859\">0</text>\n</g>\n<g clip-path=\"url(#clip0600)\">\n<text style=\"fill:#000000; fill-opacity:1; font-family:Arial,Helvetica Neue,Helvetica,sans-serif; font-size:48px; text-anchor:end;\" transform=\"rotate(0, 144.627, 424.802)\" x=\"144.627\" y=\"424.802\">25</text>\n</g>\n<g clip-path=\"url(#clip0600)\">\n<text style=\"fill:#000000; fill-opacity:1; font-family:Arial,Helvetica Neue,Helvetica,sans-serif; font-size:48px; text-anchor:end;\" transform=\"rotate(0, 144.627, 64.7441)\" x=\"144.627\" y=\"64.7441\">50</text>\n</g>\n<polyline clip-path=\"url(#clip0602)\" style=\"stroke:#009af9; stroke-width:4; stroke-opacity:1; fill:none\" points=\"\n  230.442,817.732 244.179,815.14 257.915,812.533 271.652,809.916 285.389,807.292 299.125,804.666 312.862,802.044 326.598,799.43 340.335,796.829 354.072,794.246 \n  367.808,791.687 381.545,789.155 395.282,786.657 409.018,784.198 422.755,781.783 436.492,779.417 450.228,777.107 463.965,774.856 477.702,772.671 491.438,770.557 \n  505.175,768.52 518.912,766.564 532.648,764.696 546.385,762.921 560.122,761.243 573.858,759.669 587.595,758.203 601.332,756.851 615.068,755.618 628.805,754.509 \n  642.542,753.528 656.278,752.681 670.015,751.973 683.752,751.407 697.488,750.989 711.225,750.722 724.962,750.611 738.698,750.661 752.435,750.874 766.172,751.255 \n  779.908,751.807 793.645,752.533 807.382,753.437 821.118,754.522 834.855,755.789 848.592,757.242 862.328,758.883 876.065,760.713 889.802,762.735 903.538,764.95 \n  917.275,767.359 931.012,769.963 944.748,772.763 958.485,775.759 972.222,778.95 985.958,782.338 999.695,785.92 1013.43,789.697 1027.17,793.666 1040.9,797.827 \n  1054.64,802.177 1068.38,806.714 1082.11,811.436 1095.85,816.339 1109.59,821.421 1123.32,826.677 1137.06,832.104 1150.8,837.697 1164.53,843.451 1178.27,849.362 \n  1192.01,855.424 1205.74,861.631 1219.48,867.976 1233.22,874.454 1246.95,881.057 1260.69,887.779 1274.43,894.611 1288.16,901.545 1301.9,908.573 1315.64,915.687 \n  1329.37,922.877 1343.11,930.135 1356.85,937.449 1370.58,944.811 1384.32,952.21 1398.06,959.636 1411.79,967.077 1425.53,974.522 1439.27,981.96 1453,989.379 \n  1466.74,996.767 1480.48,1004.11 1494.21,1011.4 1507.95,1018.62 1521.69,1025.76 1535.42,1032.81 1549.16,1039.75 1562.9,1046.56 1576.63,1053.25 1590.37,1059.78 \n  1604.11,1066.15 1617.84,1072.35 1631.58,1078.36 1645.32,1084.16 1659.05,1089.75 1672.79,1095.11 1686.53,1100.22 1700.26,1105.07 1714,1109.65 1727.74,1113.95 \n  1741.47,1117.94 1755.21,1121.62 1768.95,1124.98 1782.68,1127.99 1796.42,1130.65 1810.16,1132.95 1823.89,1134.87 1837.63,1136.41 1851.37,1137.54 1865.1,1138.26 \n  1878.84,1138.56 1892.58,1138.43 1906.31,1137.85 1920.05,1136.83 1933.79,1135.34 1947.52,1133.39 1961.26,1130.95 1975,1128.04 1988.73,1124.64 2002.47,1120.74 \n  2016.21,1116.34 2029.94,1111.44 2043.68,1106.03 2057.42,1100.11 2071.15,1093.67 2084.89,1086.73 2098.63,1079.28 2112.36,1071.31 2126.1,1062.84 2139.84,1053.86 \n  2153.57,1044.38 2167.31,1034.41 2181.05,1023.94 2194.78,1013 2208.52,1001.59 2222.26,989.709 2235.99,977.383 2249.73,964.62 2263.47,951.434 2277.2,937.841 \n  2290.94,923.858 \n  \"/>\n<path clip-path=\"url(#clip0602)\" d=\"\nM230.442 5146.09 L251.255 5156.36 L272.068 5166.63 L292.881 5176.9 L313.694 5187.17 L334.507 5197.44 L355.321 5207.71 L376.134 5217.98 L396.947 5228.25 L417.76 5238.52 \n  L438.573 5248.79 L459.386 5259.06 L480.199 5269.33 L501.012 5279.6 L521.826 5289.87 L542.639 5300.14 L563.452 5310.4 L584.265 5320.67 L605.078 5330.94 L625.891 5341.21 \n  L646.704 5351.48 L667.517 5361.75 L688.331 5372.02 L709.144 5382.29 L729.957 5392.56 L750.77 5402.83 L771.583 5413.1 L792.396 5423.37 L813.209 5433.64 L834.022 5443.91 \n  L854.836 5454.18 L875.649 5464.45 L896.462 5474.72 L917.275 5484.99 L938.088 5495.26 L958.901 5505.53 L979.714 5515.8 L1000.53 5526.06 L1021.34 5536.33 L1042.15 5546.6 \n  L1062.97 5556.87 L1083.78 5567.14 L1104.59 5577.41 L1125.41 5587.68 L1146.22 5597.95 L1167.03 5608.22 L1187.85 5618.49 L1208.66 5628.76 L1229.47 5639.03 L1250.28 5649.3 \n  L1271.1 5659.57 L1291.91 5669.84 L1312.72 5680.11 L1333.54 5690.38 L1354.35 5700.65 L1375.16 5710.92 L1395.98 5721.19 L1416.79 5731.46 L1437.6 5741.73 L1458.42 5751.99 \n  L1479.23 5762.26 L1500.04 5772.53 L1520.86 5782.8 L1541.67 5793.07 L1562.48 5803.34 L1583.29 5813.61 L1604.11 5823.88 L1624.92 5834.15 L1645.73 5844.42 L1666.55 5854.69 \n  L1687.36 5864.96 L1708.17 5875.23 L1728.99 5885.5 L1749.8 5895.77 L1770.61 5906.04 L1791.43 5916.31 L1812.24 5926.58 L1833.05 5936.85 L1853.87 5947.12 L1874.68 5957.39 \n  L1895.49 5967.65 L1916.3 5977.92 L1937.12 5988.19 L1957.93 5998.46 L1978.74 6008.73 L1999.56 6019 L2020.37 6029.27 L2041.18 6039.54 L2062 6049.81 L2082.81 6060.08 \n  L2103.62 6070.35 L2124.44 6080.62 L2145.25 6090.89 L2166.06 6101.16 L2186.88 6111.43 L2207.69 6121.7 L2228.5 6131.97 L2249.31 6142.24 L2270.13 6152.51 L2290.94 6162.78 \n  L2290.94 -3615.65 L2270.13 -3625.92 L2249.31 -3636.19 L2228.5 -3646.46 L2207.69 -3656.73 L2186.88 -3667 L2166.06 -3677.27 L2145.25 -3687.54 L2124.44 -3697.81 L2103.62 -3708.08 \n  L2082.81 -3718.35 L2062 -3728.62 L2041.18 -3738.89 L2020.37 -3749.16 L1999.56 -3759.43 L1978.74 -3769.7 L1957.93 -3779.97 L1937.12 -3790.24 L1916.3 -3800.5 L1895.49 -3810.77 \n  L1874.68 -3821.04 L1853.87 -3831.31 L1833.05 -3841.58 L1812.24 -3851.85 L1791.43 -3862.12 L1770.61 -3872.39 L1749.8 -3882.66 L1728.99 -3892.93 L1708.17 -3903.2 L1687.36 -3913.47 \n  L1666.55 -3923.74 L1645.73 -3934.01 L1624.92 -3944.28 L1604.11 -3954.55 L1583.29 -3964.82 L1562.48 -3975.09 L1541.67 -3985.36 L1520.86 -3995.63 L1500.04 -4005.9 L1479.23 -4016.16 \n  L1458.42 -4026.43 L1437.6 -4036.7 L1416.79 -4046.97 L1395.98 -4057.24 L1375.16 -4067.51 L1354.35 -4077.78 L1333.54 -4088.05 L1312.72 -4098.32 L1291.91 -4108.59 L1271.1 -4118.86 \n  L1250.28 -4129.13 L1229.47 -4139.4 L1208.66 -4149.67 L1187.85 -4159.94 L1167.03 -4170.21 L1146.22 -4180.48 L1125.41 -4190.75 L1104.59 -4201.02 L1083.78 -4211.29 L1062.97 -4221.56 \n  L1042.15 -4231.83 L1021.34 -4242.09 L1000.53 -4252.36 L979.714 -4262.63 L958.901 -4272.9 L938.088 -4283.17 L917.275 -4293.44 L896.462 -4303.71 L875.649 -4313.98 L854.836 -4324.25 \n  L834.022 -4334.52 L813.209 -4344.79 L792.396 -4355.06 L771.583 -4365.33 L750.77 -4375.6 L729.957 -4385.87 L709.144 -4396.14 L688.331 -4406.41 L667.517 -4416.68 L646.704 -4426.95 \n  L625.891 -4437.22 L605.078 -4447.49 L584.265 -4457.75 L563.452 -4468.02 L542.639 -4478.29 L521.826 -4488.56 L501.012 -4498.83 L480.199 -4509.1 L459.386 -4519.37 L438.573 -4529.64 \n  L417.76 -4539.91 L396.947 -4550.18 L376.134 -4560.45 L355.321 -4570.72 L334.507 -4580.99 L313.694 -4591.26 L292.881 -4601.53 L272.068 -4611.8 L251.255 -4622.07 L230.442 -4632.34 \n  L230.442 5146.09 L230.442 5146.09  Z\n  \" fill=\"#e26f46\" fill-rule=\"evenodd\" fill-opacity=\"0.3\"/>\n<polyline clip-path=\"url(#clip0602)\" style=\"stroke:#000000; stroke-width:4; stroke-opacity:0.3; fill:none\" points=\"\n  230.442,5146.09 251.255,5156.36 272.068,5166.63 292.881,5176.9 313.694,5187.17 334.507,5197.44 355.321,5207.71 376.134,5217.98 396.947,5228.25 417.76,5238.52 \n  438.573,5248.79 459.386,5259.06 480.199,5269.33 501.012,5279.6 521.826,5289.87 542.639,5300.14 563.452,5310.4 584.265,5320.67 605.078,5330.94 625.891,5341.21 \n  646.704,5351.48 667.517,5361.75 688.331,5372.02 709.144,5382.29 729.957,5392.56 750.77,5402.83 771.583,5413.1 792.396,5423.37 813.209,5433.64 834.022,5443.91 \n  854.836,5454.18 875.649,5464.45 896.462,5474.72 917.275,5484.99 938.088,5495.26 958.901,5505.53 979.714,5515.8 1000.53,5526.06 1021.34,5536.33 1042.15,5546.6 \n  1062.97,5556.87 1083.78,5567.14 1104.59,5577.41 1125.41,5587.68 1146.22,5597.95 1167.03,5608.22 1187.85,5618.49 1208.66,5628.76 1229.47,5639.03 1250.28,5649.3 \n  1271.1,5659.57 1291.91,5669.84 1312.72,5680.11 1333.54,5690.38 1354.35,5700.65 1375.16,5710.92 1395.98,5721.19 1416.79,5731.46 1437.6,5741.73 1458.42,5751.99 \n  1479.23,5762.26 1500.04,5772.53 1520.86,5782.8 1541.67,5793.07 1562.48,5803.34 1583.29,5813.61 1604.11,5823.88 1624.92,5834.15 1645.73,5844.42 1666.55,5854.69 \n  1687.36,5864.96 1708.17,5875.23 1728.99,5885.5 1749.8,5895.77 1770.61,5906.04 1791.43,5916.31 1812.24,5926.58 1833.05,5936.85 1853.87,5947.12 1874.68,5957.39 \n  1895.49,5967.65 1916.3,5977.92 1937.12,5988.19 1957.93,5998.46 1978.74,6008.73 1999.56,6019 2020.37,6029.27 2041.18,6039.54 2062,6049.81 2082.81,6060.08 \n  2103.62,6070.35 2124.44,6080.62 2145.25,6090.89 2166.06,6101.16 2186.88,6111.43 2207.69,6121.7 2228.5,6131.97 2249.31,6142.24 2270.13,6152.51 2290.94,6162.78 \n  2290.94,-3615.65 2270.13,-3625.92 2249.31,-3636.19 2228.5,-3646.46 2207.69,-3656.73 2186.88,-3667 2166.06,-3677.27 2145.25,-3687.54 2124.44,-3697.81 2103.62,-3708.08 \n  2082.81,-3718.35 2062,-3728.62 2041.18,-3738.89 2020.37,-3749.16 1999.56,-3759.43 1978.74,-3769.7 1957.93,-3779.97 1937.12,-3790.24 1916.3,-3800.5 1895.49,-3810.77 \n  1874.68,-3821.04 1853.87,-3831.31 1833.05,-3841.58 1812.24,-3851.85 1791.43,-3862.12 1770.61,-3872.39 1749.8,-3882.66 1728.99,-3892.93 1708.17,-3903.2 1687.36,-3913.47 \n  1666.55,-3923.74 1645.73,-3934.01 1624.92,-3944.28 1604.11,-3954.55 1583.29,-3964.82 1562.48,-3975.09 1541.67,-3985.36 1520.86,-3995.63 1500.04,-4005.9 1479.23,-4016.16 \n  1458.42,-4026.43 1437.6,-4036.7 1416.79,-4046.97 1395.98,-4057.24 1375.16,-4067.51 1354.35,-4077.78 1333.54,-4088.05 1312.72,-4098.32 1291.91,-4108.59 1271.1,-4118.86 \n  1250.28,-4129.13 1229.47,-4139.4 1208.66,-4149.67 1187.85,-4159.94 1167.03,-4170.21 1146.22,-4180.48 1125.41,-4190.75 1104.59,-4201.02 1083.78,-4211.29 1062.97,-4221.56 \n  1042.15,-4231.83 1021.34,-4242.09 1000.53,-4252.36 979.714,-4262.63 958.901,-4272.9 938.088,-4283.17 917.275,-4293.44 896.462,-4303.71 875.649,-4313.98 854.836,-4324.25 \n  834.022,-4334.52 813.209,-4344.79 792.396,-4355.06 771.583,-4365.33 750.77,-4375.6 729.957,-4385.87 709.144,-4396.14 688.331,-4406.41 667.517,-4416.68 646.704,-4426.95 \n  625.891,-4437.22 605.078,-4447.49 584.265,-4457.75 563.452,-4468.02 542.639,-4478.29 521.826,-4488.56 501.012,-4498.83 480.199,-4509.1 459.386,-4519.37 438.573,-4529.64 \n  417.76,-4539.91 396.947,-4550.18 376.134,-4560.45 355.321,-4570.72 334.507,-4580.99 313.694,-4591.26 292.881,-4601.53 272.068,-4611.8 251.255,-4622.07 230.442,-4632.34 \n  230.442,5146.09 \n  \"/>\n<path clip-path=\"url(#clip0600)\" d=\"\nM1989.93 312.204 L2280.76 312.204 L2280.76 130.764 L1989.93 130.764  Z\n  \" fill=\"#ffffff\" fill-rule=\"evenodd\" fill-opacity=\"1\"/>\n<polyline clip-path=\"url(#clip0600)\" style=\"stroke:#000000; stroke-width:4; stroke-opacity:1; fill:none\" points=\"\n  1989.93,312.204 2280.76,312.204 2280.76,130.764 1989.93,130.764 1989.93,312.204 \n  \"/>\n<polyline clip-path=\"url(#clip0600)\" style=\"stroke:#009af9; stroke-width:4; stroke-opacity:1; fill:none\" points=\"\n  2013.93,191.244 2157.93,191.244 \n  \"/>\n<g clip-path=\"url(#clip0600)\">\n<text style=\"fill:#000000; fill-opacity:1; font-family:Arial,Helvetica Neue,Helvetica,sans-serif; font-size:48px; text-anchor:start;\" transform=\"rotate(0, 2181.93, 208.744)\" x=\"2181.93\" y=\"208.744\">y1</text>\n</g>\n<path clip-path=\"url(#clip0600)\" d=\"\nM2013.93 275.916 L2157.93 275.916 L2157.93 227.532 L2013.93 227.532 L2013.93 275.916  Z\n  \" fill=\"#e26f46\" fill-rule=\"evenodd\" fill-opacity=\"0.3\"/>\n<polyline clip-path=\"url(#clip0600)\" style=\"stroke:#000000; stroke-width:4; stroke-opacity:1; fill:none\" points=\"\n  2013.93,275.916 2157.93,275.916 2157.93,227.532 2013.93,227.532 2013.93,275.916 \n  \"/>\n<g clip-path=\"url(#clip0600)\">\n<text style=\"fill:#000000; fill-opacity:1; font-family:Arial,Helvetica Neue,Helvetica,sans-serif; font-size:48px; text-anchor:start;\" transform=\"rotate(0, 2181.93, 269.224)\" x=\"2181.93\" y=\"269.224\">y2</text>\n</g>\n</svg>\n"
               },
               "type": "node"
              }
             ],
             "instanceArgs": {
              "namespace": "html",
              "tag": "div"
             },
             "nodeType": "DOM",
             "props": {
              "className": "interact-flex-row interact-widget"
             },
             "type": "node"
            }
           }
          },
          "systemjs_options": null
         },
         "nodeType": "Scope",
         "props": {},
         "type": "node"
        }
       ],
       "instanceArgs": {
        "namespace": "html",
        "tag": "div"
       },
       "nodeType": "DOM",
       "props": {},
       "type": "node"
      },
      "text/html": [
       "<div\n",
       "    class=\"webio-mountpoint\"\n",
       "    data-webio-mountpoint=\"13556953126317900375\"\n",
       ">\n",
       "    <script>\n",
       "    if (window.require && require.defined && require.defined(\"nbextensions/webio-jupyter-notebook\")) {\n",
       "        console.log(\"Jupyter WebIO extension detected, not mounting.\");\n",
       "    } else if (window.WebIO) {\n",
       "        WebIO.mount(\n",
       "            document.querySelector('[data-webio-mountpoint=\"13556953126317900375\"]'),\n",
       "            {\"props\":{},\"nodeType\":\"DOM\",\"type\":\"node\",\"instanceArgs\":{\"namespace\":\"html\",\"tag\":\"div\"},\"children\":[{\"props\":{\"className\":\"field interact-widget\"},\"nodeType\":\"DOM\",\"type\":\"node\",\"instanceArgs\":{\"namespace\":\"html\",\"tag\":\"div\"},\"children\":[{\"props\":{},\"nodeType\":\"Scope\",\"type\":\"node\",\"instanceArgs\":{\"imports\":{\"data\":[{\"name\":\"knockout\",\"type\":\"js\",\"url\":\"\\/assetserver\\/9a186147d51179d2ec12ccfac1799b0b805a79d5-knockout.js\"},{\"name\":\"knockout_punches\",\"type\":\"js\",\"url\":\"\\/assetserver\\/eccef011301f679ebde0900f01478cac573870ce-knockout_punches.js\"},{\"name\":null,\"type\":\"js\",\"url\":\"\\/assetserver\\/5d2042c6908ffff0b7c8d26135740476bcf00827-all.js\"},{\"name\":null,\"type\":\"css\",\"url\":\"\\/assetserver\\/87ad319ae61de5d44f67c268a0a8f65862fca478-style.css\"},{\"name\":null,\"type\":\"css\",\"url\":\"\\/assetserver\\/9354074556c360cc537db1e8b0f0283e19c8ea9d-bulma_confined.min.css\"}],\"type\":\"async_block\"},\"id\":\"13826555623489726016\",\"handlers\":{\"changes\":[\"(function (val){return (val!=this.model[\\\"changes\\\"]()) ? (this.valueFromJulia[\\\"changes\\\"]=true, this.model[\\\"changes\\\"](val)) : undefined})\"],\"index\":[\"(function (val){return (val!=this.model[\\\"index\\\"]()) ? (this.valueFromJulia[\\\"index\\\"]=true, this.model[\\\"index\\\"](val)) : undefined})\"]},\"systemjs_options\":null,\"mount_callbacks\":[\"function () {\\n    var handler = (function (ko, koPunches) {\\n    ko.punches.enableAll();\\n    ko.bindingHandlers.numericValue = {\\n        init: function(element, valueAccessor, allBindings, data, context) {\\n            var stringified = ko.observable(ko.unwrap(valueAccessor()));\\n            stringified.subscribe(function(value) {\\n                var val = parseFloat(value);\\n                if (!isNaN(val)) {\\n                    valueAccessor()(val);\\n                }\\n            });\\n            valueAccessor().subscribe(function(value) {\\n                var str = JSON.stringify(value);\\n                if ((str == \\\"0\\\") && ([\\\"-0\\\", \\\"-0.\\\"].indexOf(stringified()) >= 0))\\n                     return;\\n                 if ([\\\"null\\\", \\\"\\\"].indexOf(str) >= 0)\\n                     return;\\n                stringified(str);\\n            });\\n            ko.applyBindingsToNode(\\n                element,\\n                {\\n                    value: stringified,\\n                    valueUpdate: allBindings.get('valueUpdate'),\\n                },\\n                context,\\n            );\\n        }\\n    };\\n    var json_data = {\\\"formatted_vals\\\":[\\\"1\\\",\\\"2\\\",\\\"3\\\",\\\"4\\\",\\\"5\\\",\\\"6\\\",\\\"7\\\",\\\"8\\\",\\\"9\\\",\\\"10\\\"],\\\"changes\\\":WebIO.getval({\\\"name\\\":\\\"changes\\\",\\\"scope\\\":\\\"13826555623489726016\\\",\\\"id\\\":\\\"ob_30\\\",\\\"type\\\":\\\"observable\\\"}),\\\"index\\\":WebIO.getval({\\\"name\\\":\\\"index\\\",\\\"scope\\\":\\\"13826555623489726016\\\",\\\"id\\\":\\\"ob_29\\\",\\\"type\\\":\\\"observable\\\"})};\\n    var self = this;\\n    function AppViewModel() {\\n        for (var key in json_data) {\\n            var el = json_data[key];\\n            this[key] = Array.isArray(el) ? ko.observableArray(el) : ko.observable(el);\\n        }\\n        \\n        [this[\\\"formatted_val\\\"]=ko.computed(    function(){\\n        return this.formatted_vals()[parseInt(this.index())-(1)];\\n    }\\n,this)]\\n        [this[\\\"changes\\\"].subscribe((function (val){!(this.valueFromJulia[\\\"changes\\\"]) ? (WebIO.setval({\\\"name\\\":\\\"changes\\\",\\\"scope\\\":\\\"13826555623489726016\\\",\\\"id\\\":\\\"ob_30\\\",\\\"type\\\":\\\"observable\\\"},val)) : undefined; return this.valueFromJulia[\\\"changes\\\"]=false}),self),this[\\\"index\\\"].subscribe((function (val){!(this.valueFromJulia[\\\"index\\\"]) ? (WebIO.setval({\\\"name\\\":\\\"index\\\",\\\"scope\\\":\\\"13826555623489726016\\\",\\\"id\\\":\\\"ob_29\\\",\\\"type\\\":\\\"observable\\\"},val)) : undefined; return this.valueFromJulia[\\\"index\\\"]=false}),self)]\\n        \\n    }\\n    self.model = new AppViewModel();\\n    self.valueFromJulia = {};\\n    for (var key in json_data) {\\n        self.valueFromJulia[key] = false;\\n    }\\n    ko.applyBindings(self.model, self.dom);\\n}\\n);\\n    (WebIO.importBlock({\\\"data\\\":[{\\\"name\\\":\\\"knockout\\\",\\\"type\\\":\\\"js\\\",\\\"url\\\":\\\"\\/assetserver\\/9a186147d51179d2ec12ccfac1799b0b805a79d5-knockout.js\\\"},{\\\"name\\\":\\\"knockout_punches\\\",\\\"type\\\":\\\"js\\\",\\\"url\\\":\\\"\\/assetserver\\/eccef011301f679ebde0900f01478cac573870ce-knockout_punches.js\\\"}],\\\"type\\\":\\\"async_block\\\"})).then((imports) => handler.apply(this, imports));\\n}\\n\"],\"observables\":{\"changes\":{\"sync\":false,\"id\":\"ob_30\",\"value\":0},\"index\":{\"sync\":true,\"id\":\"ob_29\",\"value\":1}}},\"children\":[{\"props\":{\"className\":\"interact-flex-row interact-widget\"},\"nodeType\":\"DOM\",\"type\":\"node\",\"instanceArgs\":{\"namespace\":\"html\",\"tag\":\"div\"},\"children\":[{\"props\":{\"className\":\"interact-flex-row-left\"},\"nodeType\":\"DOM\",\"type\":\"node\",\"instanceArgs\":{\"namespace\":\"html\",\"tag\":\"div\"},\"children\":[{\"props\":{\"className\":\"interact \",\"style\":{\"padding\":\"5px 10px 0px 10px\"}},\"nodeType\":\"DOM\",\"type\":\"node\",\"instanceArgs\":{\"namespace\":\"html\",\"tag\":\"label\"},\"children\":[\"\"]}]},{\"props\":{\"className\":\"interact-flex-row-center\"},\"nodeType\":\"DOM\",\"type\":\"node\",\"instanceArgs\":{\"namespace\":\"html\",\"tag\":\"div\"},\"children\":[{\"props\":{\"max\":10,\"min\":1,\"attributes\":{\"type\":\"range\",\"data-bind\":\"numericValue: index, valueUpdate: 'input', event: {change: function (){this.changes(this.changes()+1)}}\",\"orient\":\"horizontal\"},\"step\":1,\"className\":\"slider slider is-fullwidth\",\"style\":{}},\"nodeType\":\"DOM\",\"type\":\"node\",\"instanceArgs\":{\"namespace\":\"html\",\"tag\":\"input\"},\"children\":[]}]},{\"props\":{\"className\":\"interact-flex-row-right\"},\"nodeType\":\"DOM\",\"type\":\"node\",\"instanceArgs\":{\"namespace\":\"html\",\"tag\":\"div\"},\"children\":[{\"props\":{\"attributes\":{\"data-bind\":\"text: formatted_val\"}},\"nodeType\":\"DOM\",\"type\":\"node\",\"instanceArgs\":{\"namespace\":\"html\",\"tag\":\"p\"},\"children\":[]}]}]}]}]},{\"props\":{},\"nodeType\":\"Scope\",\"type\":\"node\",\"instanceArgs\":{\"imports\":{\"data\":[],\"type\":\"async_block\"},\"id\":\"12348881659531859909\",\"handlers\":{},\"systemjs_options\":null,\"mount_callbacks\":[],\"observables\":{\"obs-node\":{\"sync\":false,\"id\":\"ob_34\",\"value\":{\"props\":{\"className\":\"interact-flex-row interact-widget\"},\"nodeType\":\"DOM\",\"type\":\"node\",\"instanceArgs\":{\"namespace\":\"html\",\"tag\":\"div\"},\"children\":[{\"props\":{\"setInnerHtml\":\"<?xml version=\\\"1.0\\\" encoding=\\\"utf-8\\\"?>\\n<svg xmlns=\\\"http:\\/\\/www.w3.org\\/2000\\/svg\\\" xmlns:xlink=\\\"http:\\/\\/www.w3.org\\/1999\\/xlink\\\" width=\\\"600\\\" height=\\\"400\\\" viewBox=\\\"0 0 2400 1600\\\">\\n<defs>\\n  <clipPath id=\\\"clip0200\\\">\\n    <rect x=\\\"0\\\" y=\\\"0\\\" width=\\\"2400\\\" height=\\\"1600\\\"\\/>\\n  <\\/clipPath>\\n<\\/defs>\\n<path clip-path=\\\"url(#clip0200)\\\" d=\\\"\\nM0 1600 L2400 1600 L2400 0 L0 0  Z\\n  \\\" fill=\\\"#ffffff\\\" fill-rule=\\\"evenodd\\\" fill-opacity=\\\"1\\\"\\/>\\n<defs>\\n  <clipPath id=\\\"clip0201\\\">\\n    <rect x=\\\"480\\\" y=\\\"0\\\" width=\\\"1681\\\" height=\\\"1600\\\"\\/>\\n  <\\/clipPath>\\n<\\/defs>\\n<path clip-path=\\\"url(#clip0200)\\\" d=\\\"\\nM168.627 1487.47 L2352.76 1487.47 L2352.76 47.2441 L168.627 47.2441  Z\\n  \\\" fill=\\\"#ffffff\\\" fill-rule=\\\"evenodd\\\" fill-opacity=\\\"1\\\"\\/>\\n<defs>\\n  <clipPath id=\\\"clip0202\\\">\\n    <rect x=\\\"168\\\" y=\\\"47\\\" width=\\\"2185\\\" height=\\\"1441\\\"\\/>\\n  <\\/clipPath>\\n<\\/defs>\\n<polyline clip-path=\\\"url(#clip0202)\\\" style=\\\"stroke:#000000; stroke-width:2; stroke-opacity:0.1; fill:none\\\" points=\\\"\\n  505.175,1487.47 505.175,47.2441 \\n  \\\"\\/>\\n<polyline clip-path=\\\"url(#clip0202)\\\" style=\\\"stroke:#000000; stroke-width:2; stroke-opacity:0.1; fill:none\\\" points=\\\"\\n  917.275,1487.47 917.275,47.2441 \\n  \\\"\\/>\\n<polyline clip-path=\\\"url(#clip0202)\\\" style=\\\"stroke:#000000; stroke-width:2; stroke-opacity:0.1; fill:none\\\" points=\\\"\\n  1329.37,1487.47 1329.37,47.2441 \\n  \\\"\\/>\\n<polyline clip-path=\\\"url(#clip0202)\\\" style=\\\"stroke:#000000; stroke-width:2; stroke-opacity:0.1; fill:none\\\" points=\\\"\\n  1741.47,1487.47 1741.47,47.2441 \\n  \\\"\\/>\\n<polyline clip-path=\\\"url(#clip0202)\\\" style=\\\"stroke:#000000; stroke-width:2; stroke-opacity:0.1; fill:none\\\" points=\\\"\\n  2153.57,1487.47 2153.57,47.2441 \\n  \\\"\\/>\\n<polyline clip-path=\\\"url(#clip0202)\\\" style=\\\"stroke:#000000; stroke-width:2; stroke-opacity:0.1; fill:none\\\" points=\\\"\\n  168.627,1487.47 2352.76,1487.47 \\n  \\\"\\/>\\n<polyline clip-path=\\\"url(#clip0202)\\\" style=\\\"stroke:#000000; stroke-width:2; stroke-opacity:0.1; fill:none\\\" points=\\\"\\n  168.627,1127.42 2352.76,1127.42 \\n  \\\"\\/>\\n<polyline clip-path=\\\"url(#clip0202)\\\" style=\\\"stroke:#000000; stroke-width:2; stroke-opacity:0.1; fill:none\\\" points=\\\"\\n  168.627,767.359 2352.76,767.359 \\n  \\\"\\/>\\n<polyline clip-path=\\\"url(#clip0202)\\\" style=\\\"stroke:#000000; stroke-width:2; stroke-opacity:0.1; fill:none\\\" points=\\\"\\n  168.627,407.302 2352.76,407.302 \\n  \\\"\\/>\\n<polyline clip-path=\\\"url(#clip0202)\\\" style=\\\"stroke:#000000; stroke-width:2; stroke-opacity:0.1; fill:none\\\" points=\\\"\\n  168.627,47.2441 2352.76,47.2441 \\n  \\\"\\/>\\n<polyline clip-path=\\\"url(#clip0200)\\\" style=\\\"stroke:#000000; stroke-width:4; stroke-opacity:1; fill:none\\\" points=\\\"\\n  168.627,1487.47 2352.76,1487.47 \\n  \\\"\\/>\\n<polyline clip-path=\\\"url(#clip0200)\\\" style=\\\"stroke:#000000; stroke-width:4; stroke-opacity:1; fill:none\\\" points=\\\"\\n  168.627,1487.47 168.627,47.2441 \\n  \\\"\\/>\\n<polyline clip-path=\\\"url(#clip0200)\\\" style=\\\"stroke:#000000; stroke-width:4; stroke-opacity:1; fill:none\\\" points=\\\"\\n  505.175,1487.47 505.175,1470.19 \\n  \\\"\\/>\\n<polyline clip-path=\\\"url(#clip0200)\\\" style=\\\"stroke:#000000; stroke-width:4; stroke-opacity:1; fill:none\\\" points=\\\"\\n  917.275,1487.47 917.275,1470.19 \\n  \\\"\\/>\\n<polyline clip-path=\\\"url(#clip0200)\\\" style=\\\"stroke:#000000; stroke-width:4; stroke-opacity:1; fill:none\\\" points=\\\"\\n  1329.37,1487.47 1329.37,1470.19 \\n  \\\"\\/>\\n<polyline clip-path=\\\"url(#clip0200)\\\" style=\\\"stroke:#000000; stroke-width:4; stroke-opacity:1; fill:none\\\" points=\\\"\\n  1741.47,1487.47 1741.47,1470.19 \\n  \\\"\\/>\\n<polyline clip-path=\\\"url(#clip0200)\\\" style=\\\"stroke:#000000; stroke-width:4; stroke-opacity:1; fill:none\\\" points=\\\"\\n  2153.57,1487.47 2153.57,1470.19 \\n  \\\"\\/>\\n<polyline clip-path=\\\"url(#clip0200)\\\" style=\\\"stroke:#000000; stroke-width:4; stroke-opacity:1; fill:none\\\" points=\\\"\\n  168.627,1487.47 194.836,1487.47 \\n  \\\"\\/>\\n<polyline clip-path=\\\"url(#clip0200)\\\" style=\\\"stroke:#000000; stroke-width:4; stroke-opacity:1; fill:none\\\" points=\\\"\\n  168.627,1127.42 194.836,1127.42 \\n  \\\"\\/>\\n<polyline clip-path=\\\"url(#clip0200)\\\" style=\\\"stroke:#000000; stroke-width:4; stroke-opacity:1; fill:none\\\" points=\\\"\\n  168.627,767.359 194.836,767.359 \\n  \\\"\\/>\\n<polyline clip-path=\\\"url(#clip0200)\\\" style=\\\"stroke:#000000; stroke-width:4; stroke-opacity:1; fill:none\\\" points=\\\"\\n  168.627,407.302 194.836,407.302 \\n  \\\"\\/>\\n<polyline clip-path=\\\"url(#clip0200)\\\" style=\\\"stroke:#000000; stroke-width:4; stroke-opacity:1; fill:none\\\" points=\\\"\\n  168.627,47.2441 194.836,47.2441 \\n  \\\"\\/>\\n<g clip-path=\\\"url(#clip0200)\\\">\\n<text style=\\\"fill:#000000; fill-opacity:1; font-family:Arial,Helvetica Neue,Helvetica,sans-serif; font-size:48px; text-anchor:middle;\\\" transform=\\\"rotate(0, 505.175, 1541.47)\\\" x=\\\"505.175\\\" y=\\\"1541.47\\\">-0.3<\\/text>\\n<\\/g>\\n<g clip-path=\\\"url(#clip0200)\\\">\\n<text style=\\\"fill:#000000; fill-opacity:1; font-family:Arial,Helvetica Neue,Helvetica,sans-serif; font-size:48px; text-anchor:middle;\\\" transform=\\\"rotate(0, 917.275, 1541.47)\\\" x=\\\"917.275\\\" y=\\\"1541.47\\\">0.0<\\/text>\\n<\\/g>\\n<g clip-path=\\\"url(#clip0200)\\\">\\n<text style=\\\"fill:#000000; fill-opacity:1; font-family:Arial,Helvetica Neue,Helvetica,sans-serif; font-size:48px; text-anchor:middle;\\\" transform=\\\"rotate(0, 1329.37, 1541.47)\\\" x=\\\"1329.37\\\" y=\\\"1541.47\\\">0.3<\\/text>\\n<\\/g>\\n<g clip-path=\\\"url(#clip0200)\\\">\\n<text style=\\\"fill:#000000; fill-opacity:1; font-family:Arial,Helvetica Neue,Helvetica,sans-serif; font-size:48px; text-anchor:middle;\\\" transform=\\\"rotate(0, 1741.47, 1541.47)\\\" x=\\\"1741.47\\\" y=\\\"1541.47\\\">0.6<\\/text>\\n<\\/g>\\n<g clip-path=\\\"url(#clip0200)\\\">\\n<text style=\\\"fill:#000000; fill-opacity:1; font-family:Arial,Helvetica Neue,Helvetica,sans-serif; font-size:48px; text-anchor:middle;\\\" transform=\\\"rotate(0, 2153.57, 1541.47)\\\" x=\\\"2153.57\\\" y=\\\"1541.47\\\">0.9<\\/text>\\n<\\/g>\\n<g clip-path=\\\"url(#clip0200)\\\">\\n<text style=\\\"fill:#000000; fill-opacity:1; font-family:Arial,Helvetica Neue,Helvetica,sans-serif; font-size:48px; text-anchor:end;\\\" transform=\\\"rotate(0, 144.627, 1504.97)\\\" x=\\\"144.627\\\" y=\\\"1504.97\\\">-50<\\/text>\\n<\\/g>\\n<g clip-path=\\\"url(#clip0200)\\\">\\n<text style=\\\"fill:#000000; fill-opacity:1; font-family:Arial,Helvetica Neue,Helvetica,sans-serif; font-size:48px; text-anchor:end;\\\" transform=\\\"rotate(0, 144.627, 1144.92)\\\" x=\\\"144.627\\\" y=\\\"1144.92\\\">-25<\\/text>\\n<\\/g>\\n<g clip-path=\\\"url(#clip0200)\\\">\\n<text style=\\\"fill:#000000; fill-opacity:1; font-family:Arial,Helvetica Neue,Helvetica,sans-serif; font-size:48px; text-anchor:end;\\\" transform=\\\"rotate(0, 144.627, 784.859)\\\" x=\\\"144.627\\\" y=\\\"784.859\\\">0<\\/text>\\n<\\/g>\\n<g clip-path=\\\"url(#clip0200)\\\">\\n<text style=\\\"fill:#000000; fill-opacity:1; font-family:Arial,Helvetica Neue,Helvetica,sans-serif; font-size:48px; text-anchor:end;\\\" transform=\\\"rotate(0, 144.627, 424.802)\\\" x=\\\"144.627\\\" y=\\\"424.802\\\">25<\\/text>\\n<\\/g>\\n<g clip-path=\\\"url(#clip0200)\\\">\\n<text style=\\\"fill:#000000; fill-opacity:1; font-family:Arial,Helvetica Neue,Helvetica,sans-serif; font-size:48px; text-anchor:end;\\\" transform=\\\"rotate(0, 144.627, 64.7441)\\\" x=\\\"144.627\\\" y=\\\"64.7441\\\">50<\\/text>\\n<\\/g>\\n<polyline clip-path=\\\"url(#clip0202)\\\" style=\\\"stroke:#009af9; stroke-width:4; stroke-opacity:1; fill:none\\\" points=\\\"\\n  230.442,817.732 244.179,815.14 257.915,812.533 271.652,809.916 285.389,807.292 299.125,804.666 312.862,802.044 326.598,799.43 340.335,796.829 354.072,794.246 \\n  367.808,791.687 381.545,789.155 395.282,786.657 409.018,784.198 422.755,781.783 436.492,779.417 450.228,777.107 463.965,774.856 477.702,772.671 491.438,770.557 \\n  505.175,768.52 518.912,766.564 532.648,764.696 546.385,762.921 560.122,761.243 573.858,759.669 587.595,758.203 601.332,756.851 615.068,755.618 628.805,754.509 \\n  642.542,753.528 656.278,752.681 670.015,751.973 683.752,751.407 697.488,750.989 711.225,750.722 724.962,750.611 738.698,750.661 752.435,750.874 766.172,751.255 \\n  779.908,751.807 793.645,752.533 807.382,753.437 821.118,754.522 834.855,755.789 848.592,757.242 862.328,758.883 876.065,760.713 889.802,762.735 903.538,764.95 \\n  917.275,767.359 931.012,769.963 944.748,772.763 958.485,775.759 972.222,778.95 985.958,782.338 999.695,785.92 1013.43,789.697 1027.17,793.666 1040.9,797.827 \\n  1054.64,802.177 1068.38,806.714 1082.11,811.436 1095.85,816.339 1109.59,821.421 1123.32,826.677 1137.06,832.104 1150.8,837.697 1164.53,843.451 1178.27,849.362 \\n  1192.01,855.424 1205.74,861.631 1219.48,867.976 1233.22,874.454 1246.95,881.057 1260.69,887.779 1274.43,894.611 1288.16,901.545 1301.9,908.573 1315.64,915.687 \\n  1329.37,922.877 1343.11,930.135 1356.85,937.449 1370.58,944.811 1384.32,952.21 1398.06,959.636 1411.79,967.077 1425.53,974.522 1439.27,981.96 1453,989.379 \\n  1466.74,996.767 1480.48,1004.11 1494.21,1011.4 1507.95,1018.62 1521.69,1025.76 1535.42,1032.81 1549.16,1039.75 1562.9,1046.56 1576.63,1053.25 1590.37,1059.78 \\n  1604.11,1066.15 1617.84,1072.35 1631.58,1078.36 1645.32,1084.16 1659.05,1089.75 1672.79,1095.11 1686.53,1100.22 1700.26,1105.07 1714,1109.65 1727.74,1113.95 \\n  1741.47,1117.94 1755.21,1121.62 1768.95,1124.98 1782.68,1127.99 1796.42,1130.65 1810.16,1132.95 1823.89,1134.87 1837.63,1136.41 1851.37,1137.54 1865.1,1138.26 \\n  1878.84,1138.56 1892.58,1138.43 1906.31,1137.85 1920.05,1136.83 1933.79,1135.34 1947.52,1133.39 1961.26,1130.95 1975,1128.04 1988.73,1124.64 2002.47,1120.74 \\n  2016.21,1116.34 2029.94,1111.44 2043.68,1106.03 2057.42,1100.11 2071.15,1093.67 2084.89,1086.73 2098.63,1079.28 2112.36,1071.31 2126.1,1062.84 2139.84,1053.86 \\n  2153.57,1044.38 2167.31,1034.41 2181.05,1023.94 2194.78,1013 2208.52,1001.59 2222.26,989.709 2235.99,977.383 2249.73,964.62 2263.47,951.434 2277.2,937.841 \\n  2290.94,923.858 \\n  \\\"\\/>\\n<path clip-path=\\\"url(#clip0202)\\\" d=\\\"\\nM230.442 5146.09 L251.255 5156.36 L272.068 5166.63 L292.881 5176.9 L313.694 5187.17 L334.507 5197.44 L355.321 5207.71 L376.134 5217.98 L396.947 5228.25 L417.76 5238.52 \\n  L438.573 5248.79 L459.386 5259.06 L480.199 5269.33 L501.012 5279.6 L521.826 5289.87 L542.639 5300.14 L563.452 5310.4 L584.265 5320.67 L605.078 5330.94 L625.891 5341.21 \\n  L646.704 5351.48 L667.517 5361.75 L688.331 5372.02 L709.144 5382.29 L729.957 5392.56 L750.77 5402.83 L771.583 5413.1 L792.396 5423.37 L813.209 5433.64 L834.022 5443.91 \\n  L854.836 5454.18 L875.649 5464.45 L896.462 5474.72 L917.275 5484.99 L938.088 5495.26 L958.901 5505.53 L979.714 5515.8 L1000.53 5526.06 L1021.34 5536.33 L1042.15 5546.6 \\n  L1062.97 5556.87 L1083.78 5567.14 L1104.59 5577.41 L1125.41 5587.68 L1146.22 5597.95 L1167.03 5608.22 L1187.85 5618.49 L1208.66 5628.76 L1229.47 5639.03 L1250.28 5649.3 \\n  L1271.1 5659.57 L1291.91 5669.84 L1312.72 5680.11 L1333.54 5690.38 L1354.35 5700.65 L1375.16 5710.92 L1395.98 5721.19 L1416.79 5731.46 L1437.6 5741.73 L1458.42 5751.99 \\n  L1479.23 5762.26 L1500.04 5772.53 L1520.86 5782.8 L1541.67 5793.07 L1562.48 5803.34 L1583.29 5813.61 L1604.11 5823.88 L1624.92 5834.15 L1645.73 5844.42 L1666.55 5854.69 \\n  L1687.36 5864.96 L1708.17 5875.23 L1728.99 5885.5 L1749.8 5895.77 L1770.61 5906.04 L1791.43 5916.31 L1812.24 5926.58 L1833.05 5936.85 L1853.87 5947.12 L1874.68 5957.39 \\n  L1895.49 5967.65 L1916.3 5977.92 L1937.12 5988.19 L1957.93 5998.46 L1978.74 6008.73 L1999.56 6019 L2020.37 6029.27 L2041.18 6039.54 L2062 6049.81 L2082.81 6060.08 \\n  L2103.62 6070.35 L2124.44 6080.62 L2145.25 6090.89 L2166.06 6101.16 L2186.88 6111.43 L2207.69 6121.7 L2228.5 6131.97 L2249.31 6142.24 L2270.13 6152.51 L2290.94 6162.78 \\n  L2290.94 -3615.65 L2270.13 -3625.92 L2249.31 -3636.19 L2228.5 -3646.46 L2207.69 -3656.73 L2186.88 -3667 L2166.06 -3677.27 L2145.25 -3687.54 L2124.44 -3697.81 L2103.62 -3708.08 \\n  L2082.81 -3718.35 L2062 -3728.62 L2041.18 -3738.89 L2020.37 -3749.16 L1999.56 -3759.43 L1978.74 -3769.7 L1957.93 -3779.97 L1937.12 -3790.24 L1916.3 -3800.5 L1895.49 -3810.77 \\n  L1874.68 -3821.04 L1853.87 -3831.31 L1833.05 -3841.58 L1812.24 -3851.85 L1791.43 -3862.12 L1770.61 -3872.39 L1749.8 -3882.66 L1728.99 -3892.93 L1708.17 -3903.2 L1687.36 -3913.47 \\n  L1666.55 -3923.74 L1645.73 -3934.01 L1624.92 -3944.28 L1604.11 -3954.55 L1583.29 -3964.82 L1562.48 -3975.09 L1541.67 -3985.36 L1520.86 -3995.63 L1500.04 -4005.9 L1479.23 -4016.16 \\n  L1458.42 -4026.43 L1437.6 -4036.7 L1416.79 -4046.97 L1395.98 -4057.24 L1375.16 -4067.51 L1354.35 -4077.78 L1333.54 -4088.05 L1312.72 -4098.32 L1291.91 -4108.59 L1271.1 -4118.86 \\n  L1250.28 -4129.13 L1229.47 -4139.4 L1208.66 -4149.67 L1187.85 -4159.94 L1167.03 -4170.21 L1146.22 -4180.48 L1125.41 -4190.75 L1104.59 -4201.02 L1083.78 -4211.29 L1062.97 -4221.56 \\n  L1042.15 -4231.83 L1021.34 -4242.09 L1000.53 -4252.36 L979.714 -4262.63 L958.901 -4272.9 L938.088 -4283.17 L917.275 -4293.44 L896.462 -4303.71 L875.649 -4313.98 L854.836 -4324.25 \\n  L834.022 -4334.52 L813.209 -4344.79 L792.396 -4355.06 L771.583 -4365.33 L750.77 -4375.6 L729.957 -4385.87 L709.144 -4396.14 L688.331 -4406.41 L667.517 -4416.68 L646.704 -4426.95 \\n  L625.891 -4437.22 L605.078 -4447.49 L584.265 -4457.75 L563.452 -4468.02 L542.639 -4478.29 L521.826 -4488.56 L501.012 -4498.83 L480.199 -4509.1 L459.386 -4519.37 L438.573 -4529.64 \\n  L417.76 -4539.91 L396.947 -4550.18 L376.134 -4560.45 L355.321 -4570.72 L334.507 -4580.99 L313.694 -4591.26 L292.881 -4601.53 L272.068 -4611.8 L251.255 -4622.07 L230.442 -4632.34 \\n  L230.442 5146.09 L230.442 5146.09  Z\\n  \\\" fill=\\\"#e26f46\\\" fill-rule=\\\"evenodd\\\" fill-opacity=\\\"0.3\\\"\\/>\\n<polyline clip-path=\\\"url(#clip0202)\\\" style=\\\"stroke:#000000; stroke-width:4; stroke-opacity:0.3; fill:none\\\" points=\\\"\\n  230.442,5146.09 251.255,5156.36 272.068,5166.63 292.881,5176.9 313.694,5187.17 334.507,5197.44 355.321,5207.71 376.134,5217.98 396.947,5228.25 417.76,5238.52 \\n  438.573,5248.79 459.386,5259.06 480.199,5269.33 501.012,5279.6 521.826,5289.87 542.639,5300.14 563.452,5310.4 584.265,5320.67 605.078,5330.94 625.891,5341.21 \\n  646.704,5351.48 667.517,5361.75 688.331,5372.02 709.144,5382.29 729.957,5392.56 750.77,5402.83 771.583,5413.1 792.396,5423.37 813.209,5433.64 834.022,5443.91 \\n  854.836,5454.18 875.649,5464.45 896.462,5474.72 917.275,5484.99 938.088,5495.26 958.901,5505.53 979.714,5515.8 1000.53,5526.06 1021.34,5536.33 1042.15,5546.6 \\n  1062.97,5556.87 1083.78,5567.14 1104.59,5577.41 1125.41,5587.68 1146.22,5597.95 1167.03,5608.22 1187.85,5618.49 1208.66,5628.76 1229.47,5639.03 1250.28,5649.3 \\n  1271.1,5659.57 1291.91,5669.84 1312.72,5680.11 1333.54,5690.38 1354.35,5700.65 1375.16,5710.92 1395.98,5721.19 1416.79,5731.46 1437.6,5741.73 1458.42,5751.99 \\n  1479.23,5762.26 1500.04,5772.53 1520.86,5782.8 1541.67,5793.07 1562.48,5803.34 1583.29,5813.61 1604.11,5823.88 1624.92,5834.15 1645.73,5844.42 1666.55,5854.69 \\n  1687.36,5864.96 1708.17,5875.23 1728.99,5885.5 1749.8,5895.77 1770.61,5906.04 1791.43,5916.31 1812.24,5926.58 1833.05,5936.85 1853.87,5947.12 1874.68,5957.39 \\n  1895.49,5967.65 1916.3,5977.92 1937.12,5988.19 1957.93,5998.46 1978.74,6008.73 1999.56,6019 2020.37,6029.27 2041.18,6039.54 2062,6049.81 2082.81,6060.08 \\n  2103.62,6070.35 2124.44,6080.62 2145.25,6090.89 2166.06,6101.16 2186.88,6111.43 2207.69,6121.7 2228.5,6131.97 2249.31,6142.24 2270.13,6152.51 2290.94,6162.78 \\n  2290.94,-3615.65 2270.13,-3625.92 2249.31,-3636.19 2228.5,-3646.46 2207.69,-3656.73 2186.88,-3667 2166.06,-3677.27 2145.25,-3687.54 2124.44,-3697.81 2103.62,-3708.08 \\n  2082.81,-3718.35 2062,-3728.62 2041.18,-3738.89 2020.37,-3749.16 1999.56,-3759.43 1978.74,-3769.7 1957.93,-3779.97 1937.12,-3790.24 1916.3,-3800.5 1895.49,-3810.77 \\n  1874.68,-3821.04 1853.87,-3831.31 1833.05,-3841.58 1812.24,-3851.85 1791.43,-3862.12 1770.61,-3872.39 1749.8,-3882.66 1728.99,-3892.93 1708.17,-3903.2 1687.36,-3913.47 \\n  1666.55,-3923.74 1645.73,-3934.01 1624.92,-3944.28 1604.11,-3954.55 1583.29,-3964.82 1562.48,-3975.09 1541.67,-3985.36 1520.86,-3995.63 1500.04,-4005.9 1479.23,-4016.16 \\n  1458.42,-4026.43 1437.6,-4036.7 1416.79,-4046.97 1395.98,-4057.24 1375.16,-4067.51 1354.35,-4077.78 1333.54,-4088.05 1312.72,-4098.32 1291.91,-4108.59 1271.1,-4118.86 \\n  1250.28,-4129.13 1229.47,-4139.4 1208.66,-4149.67 1187.85,-4159.94 1167.03,-4170.21 1146.22,-4180.48 1125.41,-4190.75 1104.59,-4201.02 1083.78,-4211.29 1062.97,-4221.56 \\n  1042.15,-4231.83 1021.34,-4242.09 1000.53,-4252.36 979.714,-4262.63 958.901,-4272.9 938.088,-4283.17 917.275,-4293.44 896.462,-4303.71 875.649,-4313.98 854.836,-4324.25 \\n  834.022,-4334.52 813.209,-4344.79 792.396,-4355.06 771.583,-4365.33 750.77,-4375.6 729.957,-4385.87 709.144,-4396.14 688.331,-4406.41 667.517,-4416.68 646.704,-4426.95 \\n  625.891,-4437.22 605.078,-4447.49 584.265,-4457.75 563.452,-4468.02 542.639,-4478.29 521.826,-4488.56 501.012,-4498.83 480.199,-4509.1 459.386,-4519.37 438.573,-4529.64 \\n  417.76,-4539.91 396.947,-4550.18 376.134,-4560.45 355.321,-4570.72 334.507,-4580.99 313.694,-4591.26 292.881,-4601.53 272.068,-4611.8 251.255,-4622.07 230.442,-4632.34 \\n  230.442,5146.09 \\n  \\\"\\/>\\n<path clip-path=\\\"url(#clip0200)\\\" d=\\\"\\nM1989.93 312.204 L2280.76 312.204 L2280.76 130.764 L1989.93 130.764  Z\\n  \\\" fill=\\\"#ffffff\\\" fill-rule=\\\"evenodd\\\" fill-opacity=\\\"1\\\"\\/>\\n<polyline clip-path=\\\"url(#clip0200)\\\" style=\\\"stroke:#000000; stroke-width:4; stroke-opacity:1; fill:none\\\" points=\\\"\\n  1989.93,312.204 2280.76,312.204 2280.76,130.764 1989.93,130.764 1989.93,312.204 \\n  \\\"\\/>\\n<polyline clip-path=\\\"url(#clip0200)\\\" style=\\\"stroke:#009af9; stroke-width:4; stroke-opacity:1; fill:none\\\" points=\\\"\\n  2013.93,191.244 2157.93,191.244 \\n  \\\"\\/>\\n<g clip-path=\\\"url(#clip0200)\\\">\\n<text style=\\\"fill:#000000; fill-opacity:1; font-family:Arial,Helvetica Neue,Helvetica,sans-serif; font-size:48px; text-anchor:start;\\\" transform=\\\"rotate(0, 2181.93, 208.744)\\\" x=\\\"2181.93\\\" y=\\\"208.744\\\">y1<\\/text>\\n<\\/g>\\n<path clip-path=\\\"url(#clip0200)\\\" d=\\\"\\nM2013.93 275.916 L2157.93 275.916 L2157.93 227.532 L2013.93 227.532 L2013.93 275.916  Z\\n  \\\" fill=\\\"#e26f46\\\" fill-rule=\\\"evenodd\\\" fill-opacity=\\\"0.3\\\"\\/>\\n<polyline clip-path=\\\"url(#clip0200)\\\" style=\\\"stroke:#000000; stroke-width:4; stroke-opacity:1; fill:none\\\" points=\\\"\\n  2013.93,275.916 2157.93,275.916 2157.93,227.532 2013.93,227.532 2013.93,275.916 \\n  \\\"\\/>\\n<g clip-path=\\\"url(#clip0200)\\\">\\n<text style=\\\"fill:#000000; fill-opacity:1; font-family:Arial,Helvetica Neue,Helvetica,sans-serif; font-size:48px; text-anchor:start;\\\" transform=\\\"rotate(0, 2181.93, 269.224)\\\" x=\\\"2181.93\\\" y=\\\"269.224\\\">y2<\\/text>\\n<\\/g>\\n<\\/svg>\\n\"},\"nodeType\":\"DOM\",\"type\":\"node\",\"instanceArgs\":{\"namespace\":\"html\",\"tag\":\"div\"},\"children\":[]}]}}}},\"children\":[{\"props\":{},\"nodeType\":\"ObservableNode\",\"type\":\"node\",\"instanceArgs\":{\"id\":\"ob_34\",\"name\":\"obs-node\"},\"children\":[]}]}]},\n",
       "            window,\n",
       "        );\n",
       "    } else {\n",
       "        document\n",
       "            .querySelector('[data-webio-mountpoint=\"13556953126317900375\"]')\n",
       "            .innerHTML = (\n",
       "                '<div style=\"padding: 1em; background-color: #f8d6da; border: 1px solid #f5c6cb\">' +\n",
       "                '<p><strong>WebIO not detected.</strong></p>' +\n",
       "                '<p>Please read ' +\n",
       "                '<a href=\"https://juliagizmos.github.io/WebIO.jl/latest/troubleshooting/not-detected/\" target=\"_blank\">the troubleshooting guide</a> ' +\n",
       "                'for more information on how to resolve this issue.</p>' +\n",
       "                '<p><a href=\"https://juliagizmos.github.io/WebIO.jl/latest/troubleshooting/not-detected/\" target=\"_blank\">https://juliagizmos.github.io/WebIO.jl/latest/troubleshooting/not-detected/</a></p>' +\n",
       "                '</div>'\n",
       "            );\n",
       "    }\n",
       "    </script>\n",
       "</div>\n"
      ],
      "text/plain": [
       "Node{WebIO.DOM}(WebIO.DOM(:html, :div), Any[Node{WebIO.DOM}(WebIO.DOM(:html, :div), Any[Scope(Node{WebIO.DOM}(WebIO.DOM(:html, :div), Any[Node{WebIO.DOM}(WebIO.DOM(:html, :div), Any[Node{WebIO.DOM}(WebIO.DOM(:html, :label), Any[nothing], Dict{Symbol,Any}(:className => \"interact \",:style => Dict{Any,Any}(:padding => \"5px 10px 0px 10px\")))], Dict{Symbol,Any}(:className => \"interact-flex-row-left\")), Node{WebIO.DOM}(WebIO.DOM(:html, :div), Any[Node{WebIO.DOM}(WebIO.DOM(:html, :input), Any[], Dict{Symbol,Any}(:max => 10,:min => 1,:attributes => Dict{Any,Any}(:type => \"range\",Symbol(\"data-bind\") => \"numericValue: index, valueUpdate: 'input', event: {change: function (){this.changes(this.changes()+1)}}\",\"orient\" => \"horizontal\"),:step => 1,:className => \"slider slider is-fullwidth\",:style => Dict{Any,Any}()))], Dict{Symbol,Any}(:className => \"interact-flex-row-center\")), Node{WebIO.DOM}(WebIO.DOM(:html, :div), Any[Node{WebIO.DOM}(WebIO.DOM(:html, :p), Any[], Dict{Symbol,Any}(:attributes => Dict(\"data-bind\" => \"text: formatted_val\")))], Dict{Symbol,Any}(:className => \"interact-flex-row-right\"))], Dict{Symbol,Any}(:className => \"interact-flex-row interact-widget\")), Dict{String,Tuple{Observables.AbstractObservable,Union{Nothing, Bool}}}(\"changes\" => (Observable{Int64} with 1 listeners. Value:\n",
       "0, nothing),\"index\" => (Observable{Int64} with 2 listeners. Value:\n",
       "1, nothing)), Set(String[]), nothing, Asset[Asset(\"js\", \"knockout\", \"/Users/dpsanders/.julia/packages/Knockout/1sDlc/src/../assets/knockout.js\"), Asset(\"js\", \"knockout_punches\", \"/Users/dpsanders/.julia/packages/Knockout/1sDlc/src/../assets/knockout_punches.js\"), Asset(\"js\", nothing, \"/Users/dpsanders/.julia/packages/InteractBase/9mFwe/src/../assets/all.js\"), Asset(\"css\", nothing, \"/Users/dpsanders/.julia/packages/InteractBase/9mFwe/src/../assets/style.css\"), Asset(\"css\", nothing, \"/Users/dpsanders/.julia/packages/Interact/SbgIk/src/../assets/bulma_confined.min.css\")], Dict{Any,Any}(\"changes\" => Any[WebIO.JSString(\"(function (val){return (val!=this.model[\\\"changes\\\"]()) ? (this.valueFromJulia[\\\"changes\\\"]=true, this.model[\\\"changes\\\"](val)) : undefined})\")],\"index\" => Any[WebIO.JSString(\"(function (val){return (val!=this.model[\\\"index\\\"]()) ? (this.valueFromJulia[\\\"index\\\"]=true, this.model[\\\"index\\\"](val)) : undefined})\")]), WebIO.ConnectionPool(Channel{Any}(sz_max:32,sz_curr:0), Set(AbstractConnection[]), Base.GenericCondition{Base.AlwaysLockedST}(Base.InvasiveLinkedList{Task}(Task (runnable) @0x00000001372e8910, Task (runnable) @0x00000001372e8910), Base.AlwaysLockedST(1))), WebIO.JSString[WebIO.JSString(\"function () {\\n    var handler = (function (ko, koPunches) {\\n    ko.punches.enableAll();\\n    ko.bindingHandlers.numericValue = {\\n        init: function(element, valueAccessor, allBindings, data, context) {\\n            var stringified = ko.observable(ko.unwrap(valueAccessor()));\\n            stringified.subscribe(function(value) {\\n                var val = parseFloat(value);\\n                if (!isNaN(val)) {\\n                    valueAccessor()(val);\\n                }\\n            });\\n            valueAccessor().subscribe(function(value) {\\n                var str = JSON.stringify(value);\\n                if ((str == \\\"0\\\") && ([\\\"-0\\\", \\\"-0.\\\"].indexOf(stringified()) >= 0))\\n                     return;\\n                 if ([\\\"null\\\", \\\"\\\"].indexOf(str) >= 0)\\n                     return;\\n                stringified(str);\\n            });\\n            ko.applyBindingsToNode(\\n                element,\\n                {\\n                    value: stringified,\\n                    valueUpdate: allBindings.get('valueUpdate'),\\n                },\\n                context,\\n            );\\n        }\\n    };\\n    var json_data = {\\\"formatted_vals\\\":[\\\"1\\\",\\\"2\\\",\\\"3\\\",\\\"4\\\",\\\"5\\\",\\\"6\\\",\\\"7\\\",\\\"8\\\",\\\"9\\\",\\\"10\\\"],\\\"changes\\\":WebIO.getval({\\\"name\\\":\\\"changes\\\",\\\"scope\\\":\\\"13826555623489726016\\\",\\\"id\\\":\\\"ob_30\\\",\\\"type\\\":\\\"observable\\\"}),\\\"index\\\":WebIO.getval({\\\"name\\\":\\\"index\\\",\\\"scope\\\":\\\"13826555623489726016\\\",\\\"id\\\":\\\"ob_29\\\",\\\"type\\\":\\\"observable\\\"})};\\n    var self = this;\\n    function AppViewModel() {\\n        for (var key in json_data) {\\n            var el = json_data[key];\\n            this[key] = Array.isArray(el) ? ko.observableArray(el) : ko.observable(el);\\n        }\\n        \\n        [this[\\\"formatted_val\\\"]=ko.computed(    function(){\\n        return this.formatted_vals()[parseInt(this.index())-(1)];\\n    }\\n,this)]\\n        [this[\\\"changes\\\"].subscribe((function (val){!(this.valueFromJulia[\\\"changes\\\"]) ? (WebIO.setval({\\\"name\\\":\\\"changes\\\",\\\"scope\\\":\\\"13826555623489726016\\\",\\\"id\\\":\\\"ob_30\\\",\\\"type\\\":\\\"observable\\\"},val)) : undefined; return this.valueFromJulia[\\\"changes\\\"]=false}),self),this[\\\"index\\\"].subscribe((function (val){!(this.valueFromJulia[\\\"index\\\"]) ? (WebIO.setval({\\\"name\\\":\\\"index\\\",\\\"scope\\\":\\\"13826555623489726016\\\",\\\"id\\\":\\\"ob_29\\\",\\\"type\\\":\\\"observable\\\"},val)) : undefined; return this.valueFromJulia[\\\"index\\\"]=false}),self)]\\n        \\n    }\\n    self.model = new AppViewModel();\\n    self.valueFromJulia = {};\\n    for (var key in json_data) {\\n        self.valueFromJulia[key] = false;\\n    }\\n    ko.applyBindings(self.model, self.dom);\\n}\\n);\\n    (WebIO.importBlock({\\\"data\\\":[{\\\"name\\\":\\\"knockout\\\",\\\"type\\\":\\\"js\\\",\\\"url\\\":\\\"/assetserver/9a186147d51179d2ec12ccfac1799b0b805a79d5-knockout.js\\\"},{\\\"name\\\":\\\"knockout_punches\\\",\\\"type\\\":\\\"js\\\",\\\"url\\\":\\\"/assetserver/eccef011301f679ebde0900f01478cac573870ce-knockout_punches.js\\\"}],\\\"type\\\":\\\"async_block\\\"})).then((imports) => handler.apply(this, imports));\\n}\\n\")])], Dict{Symbol,Any}(:className => \"field interact-widget\")), Observable{Any} with 0 listeners. Value:\n",
       "Node{WebIO.DOM}(WebIO.DOM(:html, :div), Any[Plot{Plots.GRBackend() n=2}], Dict{Symbol,Any}(:className => \"interact-flex-row interact-widget\"))], Dict{Symbol,Any}())"
      ]
     },
     "execution_count": 14,
     "metadata": {
      "application/vnd.webio.node+json": {
       "kernelId": "21928053-7722-4f31-9f07-676baa156015"
      }
     },
     "output_type": "execute_result"
    }
   ],
   "source": [
    "@manipulate for n in slider(1:10, value=1)\n",
    "    xx = TaylorModel1(n, x0, a)\n",
    "    ff = f(xx)\n",
    "    \n",
    "    plot(a.lo:0.01:a.hi, f)\n",
    "    plot!(ff)\n",
    "    \n",
    "    ylims!(-50, 50)\n",
    "end"
   ]
  },
  {
   "cell_type": "code",
   "execution_count": null,
   "metadata": {},
   "outputs": [],
   "source": [
    "tm6 = TaylorModel1(6, interval(x0), a) # Independent variable for Taylor models, order 6\n",
    "tm7 = TaylorModel1(7, interval(x0), a)  # Independent variable for Taylor models, order 7\n",
    "# Taylor models corresponding to f(x) of order 6 and 7\n",
    "ftm6 = f(tm6)\n",
    "ftm7 = f(tm7)\n",
    "\n",
    "# Now the plot\n",
    "using Plots; gr()\n",
    "plot(range(inf(a), stop=sup(a), length=1000), x->f(x), label=\"f(x)\", lw=2, xaxis=\"x\", yaxis=\"f(x)\")\n",
    "plot!(ftm6, label=\"6th order\")\n",
    "plot!(ftm7, label=\"7th order\")"
   ]
  }
 ],
 "metadata": {
  "@webio": {
   "lastCommId": "25c129c12e0e40eb89cc316d6dd87724",
   "lastKernelId": "21928053-7722-4f31-9f07-676baa156015"
  },
  "kernelspec": {
   "display_name": "Julia 1.4.0-rc1",
   "language": "julia",
   "name": "julia-1.4"
  },
  "language_info": {
   "file_extension": ".jl",
   "mimetype": "application/julia",
   "name": "julia",
   "version": "1.4.0"
  }
 },
 "nbformat": 4,
 "nbformat_minor": 2
}

{
 "cells": [
  {
   "cell_type": "markdown",
   "metadata": {},
   "source": [
    "# TaylorModels\n",
    "\n",
    "- **Taylor model** $\\equiv$ **Taylor polynomial** + **interval bound** of truncation error *and* rounding error\n",
    "\n",
    "\n",
    "- https://github.com/JuliaIntervals/TaylorModels.jl"
   ]
  },
  {
   "cell_type": "code",
   "execution_count": 3,
   "metadata": {},
   "outputs": [
    {
     "name": "stderr",
     "output_type": "stream",
     "text": [
      "┌ Info: Precompiling TaylorModels [314ce334-5f6e-57ae-acf6-00b6e903104a]\n",
      "└ @ Base loading.jl:1260\n"
     ]
    }
   ],
   "source": [
    "using TaylorModels"
   ]
  },
  {
   "cell_type": "code",
   "execution_count": 4,
   "metadata": {},
   "outputs": [
    {
     "data": {
      "text/plain": [
       "0.25"
      ]
     },
     "execution_count": 4,
     "metadata": {},
     "output_type": "execute_result"
    }
   ],
   "source": [
    "f(x) = x * (x-1.1) * (x+2) * (x+2.2) * (x+2.5) * (x+3) * sin(1.7*x+0.5)\n",
    "a =  -0.5 .. 1.0 # Domain \n",
    "x0 = mid(a)     # Expansion point"
   ]
  },
  {
   "cell_type": "code",
   "execution_count": 5,
   "metadata": {},
   "outputs": [],
   "source": [
    "using Interact, Plots"
   ]
  },
  {
   "cell_type": "code",
   "execution_count": 16,
   "metadata": {},
   "outputs": [
    {
     "data": {
      "text/plain": [
       " 0.25 + 1.0 t + [0, 0]"
      ]
     },
     "execution_count": 16,
     "metadata": {},
     "output_type": "execute_result"
    }
   ],
   "source": [
    "n = 3\n",
    "xx = TaylorModel1(n, x0, a)  # identity function x \\mapsto x"
   ]
  },
  {
   "cell_type": "code",
   "execution_count": 17,
   "metadata": {},
   "outputs": [
    {
     "data": {
      "image/svg+xml": [
       "<?xml version=\"1.0\" encoding=\"utf-8\"?>\n",
       "<svg xmlns=\"http://www.w3.org/2000/svg\" xmlns:xlink=\"http://www.w3.org/1999/xlink\" width=\"600\" height=\"400\" viewBox=\"0 0 2400 1600\">\n",
       "<defs>\n",
       "  <clipPath id=\"clip5400\">\n",
       "    <rect x=\"0\" y=\"0\" width=\"2400\" height=\"1600\"/>\n",
       "  </clipPath>\n",
       "</defs>\n",
       "<path clip-path=\"url(#clip5400)\" d=\"\n",
       "M0 1600 L2400 1600 L2400 0 L0 0  Z\n",
       "  \" fill=\"#ffffff\" fill-rule=\"evenodd\" fill-opacity=\"1\"/>\n",
       "<defs>\n",
       "  <clipPath id=\"clip5401\">\n",
       "    <rect x=\"480\" y=\"0\" width=\"1681\" height=\"1600\"/>\n",
       "  </clipPath>\n",
       "</defs>\n",
       "<path clip-path=\"url(#clip5400)\" d=\"\n",
       "M182.008 1487.47 L2352.76 1487.47 L2352.76 47.2441 L182.008 47.2441  Z\n",
       "  \" fill=\"#ffffff\" fill-rule=\"evenodd\" fill-opacity=\"1\"/>\n",
       "<defs>\n",
       "  <clipPath id=\"clip5402\">\n",
       "    <rect x=\"182\" y=\"47\" width=\"2172\" height=\"1441\"/>\n",
       "  </clipPath>\n",
       "</defs>\n",
       "<polyline clip-path=\"url(#clip5402)\" style=\"stroke:#000000; stroke-width:2; stroke-opacity:0.1; fill:none\" points=\"\n",
       "  516.494,1487.47 516.494,47.2441 \n",
       "  \"/>\n",
       "<polyline clip-path=\"url(#clip5402)\" style=\"stroke:#000000; stroke-width:2; stroke-opacity:0.1; fill:none\" points=\"\n",
       "  926.069,1487.47 926.069,47.2441 \n",
       "  \"/>\n",
       "<polyline clip-path=\"url(#clip5402)\" style=\"stroke:#000000; stroke-width:2; stroke-opacity:0.1; fill:none\" points=\"\n",
       "  1335.64,1487.47 1335.64,47.2441 \n",
       "  \"/>\n",
       "<polyline clip-path=\"url(#clip5402)\" style=\"stroke:#000000; stroke-width:2; stroke-opacity:0.1; fill:none\" points=\"\n",
       "  1745.22,1487.47 1745.22,47.2441 \n",
       "  \"/>\n",
       "<polyline clip-path=\"url(#clip5402)\" style=\"stroke:#000000; stroke-width:2; stroke-opacity:0.1; fill:none\" points=\"\n",
       "  2154.79,1487.47 2154.79,47.2441 \n",
       "  \"/>\n",
       "<polyline clip-path=\"url(#clip5402)\" style=\"stroke:#000000; stroke-width:2; stroke-opacity:0.1; fill:none\" points=\"\n",
       "  182.008,1265.55 2352.76,1265.55 \n",
       "  \"/>\n",
       "<polyline clip-path=\"url(#clip5402)\" style=\"stroke:#000000; stroke-width:2; stroke-opacity:0.1; fill:none\" points=\"\n",
       "  182.008,993.811 2352.76,993.811 \n",
       "  \"/>\n",
       "<polyline clip-path=\"url(#clip5402)\" style=\"stroke:#000000; stroke-width:2; stroke-opacity:0.1; fill:none\" points=\"\n",
       "  182.008,722.069 2352.76,722.069 \n",
       "  \"/>\n",
       "<polyline clip-path=\"url(#clip5402)\" style=\"stroke:#000000; stroke-width:2; stroke-opacity:0.1; fill:none\" points=\"\n",
       "  182.008,450.328 2352.76,450.328 \n",
       "  \"/>\n",
       "<polyline clip-path=\"url(#clip5402)\" style=\"stroke:#000000; stroke-width:2; stroke-opacity:0.1; fill:none\" points=\"\n",
       "  182.008,178.586 2352.76,178.586 \n",
       "  \"/>\n",
       "<polyline clip-path=\"url(#clip5400)\" style=\"stroke:#000000; stroke-width:4; stroke-opacity:1; fill:none\" points=\"\n",
       "  182.008,1487.47 2352.76,1487.47 \n",
       "  \"/>\n",
       "<polyline clip-path=\"url(#clip5400)\" style=\"stroke:#000000; stroke-width:4; stroke-opacity:1; fill:none\" points=\"\n",
       "  182.008,1487.47 182.008,47.2441 \n",
       "  \"/>\n",
       "<polyline clip-path=\"url(#clip5400)\" style=\"stroke:#000000; stroke-width:4; stroke-opacity:1; fill:none\" points=\"\n",
       "  516.494,1487.47 516.494,1470.19 \n",
       "  \"/>\n",
       "<polyline clip-path=\"url(#clip5400)\" style=\"stroke:#000000; stroke-width:4; stroke-opacity:1; fill:none\" points=\"\n",
       "  926.069,1487.47 926.069,1470.19 \n",
       "  \"/>\n",
       "<polyline clip-path=\"url(#clip5400)\" style=\"stroke:#000000; stroke-width:4; stroke-opacity:1; fill:none\" points=\"\n",
       "  1335.64,1487.47 1335.64,1470.19 \n",
       "  \"/>\n",
       "<polyline clip-path=\"url(#clip5400)\" style=\"stroke:#000000; stroke-width:4; stroke-opacity:1; fill:none\" points=\"\n",
       "  1745.22,1487.47 1745.22,1470.19 \n",
       "  \"/>\n",
       "<polyline clip-path=\"url(#clip5400)\" style=\"stroke:#000000; stroke-width:4; stroke-opacity:1; fill:none\" points=\"\n",
       "  2154.79,1487.47 2154.79,1470.19 \n",
       "  \"/>\n",
       "<polyline clip-path=\"url(#clip5400)\" style=\"stroke:#000000; stroke-width:4; stroke-opacity:1; fill:none\" points=\"\n",
       "  182.008,1265.55 208.057,1265.55 \n",
       "  \"/>\n",
       "<polyline clip-path=\"url(#clip5400)\" style=\"stroke:#000000; stroke-width:4; stroke-opacity:1; fill:none\" points=\"\n",
       "  182.008,993.811 208.057,993.811 \n",
       "  \"/>\n",
       "<polyline clip-path=\"url(#clip5400)\" style=\"stroke:#000000; stroke-width:4; stroke-opacity:1; fill:none\" points=\"\n",
       "  182.008,722.069 208.057,722.069 \n",
       "  \"/>\n",
       "<polyline clip-path=\"url(#clip5400)\" style=\"stroke:#000000; stroke-width:4; stroke-opacity:1; fill:none\" points=\"\n",
       "  182.008,450.328 208.057,450.328 \n",
       "  \"/>\n",
       "<polyline clip-path=\"url(#clip5400)\" style=\"stroke:#000000; stroke-width:4; stroke-opacity:1; fill:none\" points=\"\n",
       "  182.008,178.586 208.057,178.586 \n",
       "  \"/>\n",
       "<g clip-path=\"url(#clip5400)\">\n",
       "<text style=\"fill:#000000; fill-opacity:1; font-family:Arial,Helvetica Neue,Helvetica,sans-serif; font-size:48px; text-anchor:middle;\" transform=\"rotate(0, 516.494, 1541.47)\" x=\"516.494\" y=\"1541.47\">-0.3</text>\n",
       "</g>\n",
       "<g clip-path=\"url(#clip5400)\">\n",
       "<text style=\"fill:#000000; fill-opacity:1; font-family:Arial,Helvetica Neue,Helvetica,sans-serif; font-size:48px; text-anchor:middle;\" transform=\"rotate(0, 926.069, 1541.47)\" x=\"926.069\" y=\"1541.47\">0.0</text>\n",
       "</g>\n",
       "<g clip-path=\"url(#clip5400)\">\n",
       "<text style=\"fill:#000000; fill-opacity:1; font-family:Arial,Helvetica Neue,Helvetica,sans-serif; font-size:48px; text-anchor:middle;\" transform=\"rotate(0, 1335.64, 1541.47)\" x=\"1335.64\" y=\"1541.47\">0.3</text>\n",
       "</g>\n",
       "<g clip-path=\"url(#clip5400)\">\n",
       "<text style=\"fill:#000000; fill-opacity:1; font-family:Arial,Helvetica Neue,Helvetica,sans-serif; font-size:48px; text-anchor:middle;\" transform=\"rotate(0, 1745.22, 1541.47)\" x=\"1745.22\" y=\"1541.47\">0.6</text>\n",
       "</g>\n",
       "<g clip-path=\"url(#clip5400)\">\n",
       "<text style=\"fill:#000000; fill-opacity:1; font-family:Arial,Helvetica Neue,Helvetica,sans-serif; font-size:48px; text-anchor:middle;\" transform=\"rotate(0, 2154.79, 1541.47)\" x=\"2154.79\" y=\"1541.47\">0.9</text>\n",
       "</g>\n",
       "<g clip-path=\"url(#clip5400)\">\n",
       "<text style=\"fill:#000000; fill-opacity:1; font-family:Arial,Helvetica Neue,Helvetica,sans-serif; font-size:48px; text-anchor:end;\" transform=\"rotate(0, 158.008, 1283.05)\" x=\"158.008\" y=\"1283.05\">-0.3</text>\n",
       "</g>\n",
       "<g clip-path=\"url(#clip5400)\">\n",
       "<text style=\"fill:#000000; fill-opacity:1; font-family:Arial,Helvetica Neue,Helvetica,sans-serif; font-size:48px; text-anchor:end;\" transform=\"rotate(0, 158.008, 1011.31)\" x=\"158.008\" y=\"1011.31\">0.0</text>\n",
       "</g>\n",
       "<g clip-path=\"url(#clip5400)\">\n",
       "<text style=\"fill:#000000; fill-opacity:1; font-family:Arial,Helvetica Neue,Helvetica,sans-serif; font-size:48px; text-anchor:end;\" transform=\"rotate(0, 158.008, 739.569)\" x=\"158.008\" y=\"739.569\">0.3</text>\n",
       "</g>\n",
       "<g clip-path=\"url(#clip5400)\">\n",
       "<text style=\"fill:#000000; fill-opacity:1; font-family:Arial,Helvetica Neue,Helvetica,sans-serif; font-size:48px; text-anchor:end;\" transform=\"rotate(0, 158.008, 467.828)\" x=\"158.008\" y=\"467.828\">0.6</text>\n",
       "</g>\n",
       "<g clip-path=\"url(#clip5400)\">\n",
       "<text style=\"fill:#000000; fill-opacity:1; font-family:Arial,Helvetica Neue,Helvetica,sans-serif; font-size:48px; text-anchor:end;\" transform=\"rotate(0, 158.008, 196.086)\" x=\"158.008\" y=\"196.086\">0.9</text>\n",
       "</g>\n",
       "<path clip-path=\"url(#clip5402)\" d=\"\n",
       "M243.444 1446.71 L264.13 1432.99 L284.816 1419.26 L305.501 1405.54 L326.187 1391.82 L346.872 1378.09 L367.558 1364.37 L388.244 1350.64 L408.929 1336.92 L429.615 1323.19 \n",
       "  L450.3 1309.47 L470.986 1295.75 L491.672 1282.02 L512.357 1268.3 L533.043 1254.57 L553.728 1240.85 L574.414 1227.12 L595.1 1213.4 L615.785 1199.68 L636.471 1185.95 \n",
       "  L657.157 1172.23 L677.842 1158.5 L698.528 1144.78 L719.213 1131.05 L739.899 1117.33 L760.585 1103.61 L781.27 1089.88 L801.956 1076.16 L822.641 1062.43 L843.327 1048.71 \n",
       "  L864.013 1034.98 L884.698 1021.26 L905.384 1007.54 L926.069 993.811 L946.755 980.086 L967.441 966.362 L988.126 952.638 L1008.81 938.913 L1029.5 925.189 L1050.18 911.465 \n",
       "  L1070.87 897.74 L1091.55 884.016 L1112.24 870.292 L1132.93 856.568 L1153.61 842.843 L1174.3 829.119 L1194.98 815.395 L1215.67 801.67 L1236.35 787.946 L1257.04 774.222 \n",
       "  L1277.72 760.497 L1298.41 746.773 L1319.1 733.049 L1339.78 719.324 L1360.47 705.6 L1381.15 691.876 L1401.84 678.151 L1422.52 664.427 L1443.21 650.703 L1463.9 636.978 \n",
       "  L1484.58 623.254 L1505.27 609.53 L1525.95 595.805 L1546.64 582.081 L1567.32 568.357 L1588.01 554.632 L1608.69 540.908 L1629.38 527.184 L1650.07 513.459 L1670.75 499.735 \n",
       "  L1691.44 486.011 L1712.12 472.286 L1732.81 458.562 L1753.49 444.838 L1774.18 431.113 L1794.87 417.389 L1815.55 403.665 L1836.24 389.94 L1856.92 376.216 L1877.61 362.492 \n",
       "  L1898.29 348.768 L1918.98 335.043 L1939.66 321.319 L1960.35 307.595 L1981.04 293.87 L2001.72 280.146 L2022.41 266.422 L2043.09 252.697 L2063.78 238.973 L2084.46 225.249 \n",
       "  L2105.15 211.524 L2125.83 197.8 L2146.52 184.076 L2167.21 170.351 L2187.89 156.627 L2208.58 142.903 L2229.26 129.178 L2249.95 115.454 L2270.63 101.73 L2291.32 88.0053 \n",
       "  L2291.32 88.0053 L2270.63 101.73 L2249.95 115.454 L2229.26 129.178 L2208.58 142.903 L2187.89 156.627 L2167.21 170.351 L2146.52 184.076 L2125.83 197.8 L2105.15 211.524 \n",
       "  L2084.46 225.249 L2063.78 238.973 L2043.09 252.697 L2022.41 266.422 L2001.72 280.146 L1981.04 293.87 L1960.35 307.595 L1939.66 321.319 L1918.98 335.043 L1898.29 348.768 \n",
       "  L1877.61 362.492 L1856.92 376.216 L1836.24 389.94 L1815.55 403.665 L1794.87 417.389 L1774.18 431.113 L1753.49 444.838 L1732.81 458.562 L1712.12 472.286 L1691.44 486.011 \n",
       "  L1670.75 499.735 L1650.07 513.459 L1629.38 527.184 L1608.69 540.908 L1588.01 554.632 L1567.32 568.357 L1546.64 582.081 L1525.95 595.805 L1505.27 609.53 L1484.58 623.254 \n",
       "  L1463.9 636.978 L1443.21 650.703 L1422.52 664.427 L1401.84 678.151 L1381.15 691.876 L1360.47 705.6 L1339.78 719.324 L1319.1 733.049 L1298.41 746.773 L1277.72 760.497 \n",
       "  L1257.04 774.222 L1236.35 787.946 L1215.67 801.67 L1194.98 815.395 L1174.3 829.119 L1153.61 842.843 L1132.93 856.568 L1112.24 870.292 L1091.55 884.016 L1070.87 897.74 \n",
       "  L1050.18 911.465 L1029.5 925.189 L1008.81 938.913 L988.126 952.638 L967.441 966.362 L946.755 980.086 L926.069 993.811 L905.384 1007.54 L884.698 1021.26 L864.013 1034.98 \n",
       "  L843.327 1048.71 L822.641 1062.43 L801.956 1076.16 L781.27 1089.88 L760.585 1103.61 L739.899 1117.33 L719.213 1131.05 L698.528 1144.78 L677.842 1158.5 L657.157 1172.23 \n",
       "  L636.471 1185.95 L615.785 1199.68 L595.1 1213.4 L574.414 1227.12 L553.728 1240.85 L533.043 1254.57 L512.357 1268.3 L491.672 1282.02 L470.986 1295.75 L450.3 1309.47 \n",
       "  L429.615 1323.19 L408.929 1336.92 L388.244 1350.64 L367.558 1364.37 L346.872 1378.09 L326.187 1391.82 L305.501 1405.54 L284.816 1419.26 L264.13 1432.99 L243.444 1446.71 \n",
       "  L243.444 1446.71 L243.444 1446.71  Z\n",
       "  \" fill=\"#009af9\" fill-rule=\"evenodd\" fill-opacity=\"0.3\"/>\n",
       "<polyline clip-path=\"url(#clip5402)\" style=\"stroke:#000000; stroke-width:4; stroke-opacity:0.3; fill:none\" points=\"\n",
       "  243.444,1446.71 264.13,1432.99 284.816,1419.26 305.501,1405.54 326.187,1391.82 346.872,1378.09 367.558,1364.37 388.244,1350.64 408.929,1336.92 429.615,1323.19 \n",
       "  450.3,1309.47 470.986,1295.75 491.672,1282.02 512.357,1268.3 533.043,1254.57 553.728,1240.85 574.414,1227.12 595.1,1213.4 615.785,1199.68 636.471,1185.95 \n",
       "  657.157,1172.23 677.842,1158.5 698.528,1144.78 719.213,1131.05 739.899,1117.33 760.585,1103.61 781.27,1089.88 801.956,1076.16 822.641,1062.43 843.327,1048.71 \n",
       "  864.013,1034.98 884.698,1021.26 905.384,1007.54 926.069,993.811 946.755,980.086 967.441,966.362 988.126,952.638 1008.81,938.913 1029.5,925.189 1050.18,911.465 \n",
       "  1070.87,897.74 1091.55,884.016 1112.24,870.292 1132.93,856.568 1153.61,842.843 1174.3,829.119 1194.98,815.395 1215.67,801.67 1236.35,787.946 1257.04,774.222 \n",
       "  1277.72,760.497 1298.41,746.773 1319.1,733.049 1339.78,719.324 1360.47,705.6 1381.15,691.876 1401.84,678.151 1422.52,664.427 1443.21,650.703 1463.9,636.978 \n",
       "  1484.58,623.254 1505.27,609.53 1525.95,595.805 1546.64,582.081 1567.32,568.357 1588.01,554.632 1608.69,540.908 1629.38,527.184 1650.07,513.459 1670.75,499.735 \n",
       "  1691.44,486.011 1712.12,472.286 1732.81,458.562 1753.49,444.838 1774.18,431.113 1794.87,417.389 1815.55,403.665 1836.24,389.94 1856.92,376.216 1877.61,362.492 \n",
       "  1898.29,348.768 1918.98,335.043 1939.66,321.319 1960.35,307.595 1981.04,293.87 2001.72,280.146 2022.41,266.422 2043.09,252.697 2063.78,238.973 2084.46,225.249 \n",
       "  2105.15,211.524 2125.83,197.8 2146.52,184.076 2167.21,170.351 2187.89,156.627 2208.58,142.903 2229.26,129.178 2249.95,115.454 2270.63,101.73 2291.32,88.0053 \n",
       "  2270.63,101.73 2249.95,115.454 2229.26,129.178 2208.58,142.903 2187.89,156.627 2167.21,170.351 2146.52,184.076 2125.83,197.8 2105.15,211.524 \n",
       "  2084.46,225.249 2063.78,238.973 2043.09,252.697 2022.41,266.422 2001.72,280.146 1981.04,293.87 1960.35,307.595 1939.66,321.319 1918.98,335.043 1898.29,348.768 \n",
       "  1877.61,362.492 1856.92,376.216 1836.24,389.94 1815.55,403.665 1794.87,417.389 1774.18,431.113 1753.49,444.838 1732.81,458.562 1712.12,472.286 1691.44,486.011 \n",
       "  1670.75,499.735 1650.07,513.459 1629.38,527.184 1608.69,540.908 1588.01,554.632 1567.32,568.357 1546.64,582.081 1525.95,595.805 1505.27,609.53 1484.58,623.254 \n",
       "  1463.9,636.978 1443.21,650.703 1422.52,664.427 1401.84,678.151 1381.15,691.876 1360.47,705.6 1339.78,719.324 1319.1,733.049 1298.41,746.773 1277.72,760.497 \n",
       "  1257.04,774.222 1236.35,787.946 1215.67,801.67 1194.98,815.395 1174.3,829.119 1153.61,842.843 1132.93,856.568 1112.24,870.292 1091.55,884.016 1070.87,897.74 \n",
       "  1050.18,911.465 1029.5,925.189 1008.81,938.913 988.126,952.638 967.441,966.362 946.755,980.086 926.069,993.811 905.384,1007.54 884.698,1021.26 864.013,1034.98 \n",
       "  843.327,1048.71 822.641,1062.43 801.956,1076.16 781.27,1089.88 760.585,1103.61 739.899,1117.33 719.213,1131.05 698.528,1144.78 677.842,1158.5 657.157,1172.23 \n",
       "  636.471,1185.95 615.785,1199.68 595.1,1213.4 574.414,1227.12 553.728,1240.85 533.043,1254.57 512.357,1268.3 491.672,1282.02 470.986,1295.75 450.3,1309.47 \n",
       "  429.615,1323.19 408.929,1336.92 388.244,1350.64 367.558,1364.37 346.872,1378.09 326.187,1391.82 305.501,1405.54 284.816,1419.26 264.13,1432.99 243.444,1446.71 \n",
       "  \n",
       "  \"/>\n",
       "<path clip-path=\"url(#clip5400)\" d=\"\n",
       "M1989.93 251.724 L2280.76 251.724 L2280.76 130.764 L1989.93 130.764  Z\n",
       "  \" fill=\"#ffffff\" fill-rule=\"evenodd\" fill-opacity=\"1\"/>\n",
       "<polyline clip-path=\"url(#clip5400)\" style=\"stroke:#000000; stroke-width:4; stroke-opacity:1; fill:none\" points=\"\n",
       "  1989.93,251.724 2280.76,251.724 2280.76,130.764 1989.93,130.764 1989.93,251.724 \n",
       "  \"/>\n",
       "<path clip-path=\"url(#clip5400)\" d=\"\n",
       "M2013.93 215.436 L2157.93 215.436 L2157.93 167.052 L2013.93 167.052 L2013.93 215.436  Z\n",
       "  \" fill=\"#009af9\" fill-rule=\"evenodd\" fill-opacity=\"0.3\"/>\n",
       "<polyline clip-path=\"url(#clip5400)\" style=\"stroke:#000000; stroke-width:4; stroke-opacity:1; fill:none\" points=\"\n",
       "  2013.93,215.436 2157.93,215.436 2157.93,167.052 2013.93,167.052 2013.93,215.436 \n",
       "  \"/>\n",
       "<g clip-path=\"url(#clip5400)\">\n",
       "<text style=\"fill:#000000; fill-opacity:1; font-family:Arial,Helvetica Neue,Helvetica,sans-serif; font-size:48px; text-anchor:start;\" transform=\"rotate(0, 2181.93, 208.744)\" x=\"2181.93\" y=\"208.744\">y1</text>\n",
       "</g>\n",
       "</svg>\n"
      ]
     },
     "execution_count": 17,
     "metadata": {},
     "output_type": "execute_result"
    }
   ],
   "source": [
    "plot(xx)"
   ]
  },
  {
   "cell_type": "code",
   "execution_count": 18,
   "metadata": {},
   "outputs": [
    {
     "data": {
      "text/plain": [
       " - 8.361114845930823 - 47.06114518304093 t - 38.35444517482823 t² + 90.43760911956869 t³ + [-83.4513, 81.1457]"
      ]
     },
     "execution_count": 18,
     "metadata": {},
     "output_type": "execute_result"
    }
   ],
   "source": [
    "ff = f(xx)"
   ]
  },
  {
   "cell_type": "code",
   "execution_count": 19,
   "metadata": {},
   "outputs": [
    {
     "data": {
      "text/plain": [
       " - 8.361114845930823 - 47.06114518304093 t - 38.35444517482823 t² + 90.43760911956869 t³ + 𝒪(t⁴)"
      ]
     },
     "execution_count": 19,
     "metadata": {},
     "output_type": "execute_result"
    }
   ],
   "source": [
    "ff.pol"
   ]
  },
  {
   "cell_type": "code",
   "execution_count": 30,
   "metadata": {},
   "outputs": [
    {
     "data": {
      "application/vnd.webio.node+json": {
       "children": [
        {
         "children": [
          {
           "children": [
            {
             "children": [
              {
               "children": [
                {
                 "children": [
                  ""
                 ],
                 "instanceArgs": {
                  "namespace": "html",
                  "tag": "label"
                 },
                 "nodeType": "DOM",
                 "props": {
                  "className": "interact ",
                  "style": {
                   "padding": "5px 10px 0px 10px"
                  }
                 },
                 "type": "node"
                }
               ],
               "instanceArgs": {
                "namespace": "html",
                "tag": "div"
               },
               "nodeType": "DOM",
               "props": {
                "className": "interact-flex-row-left"
               },
               "type": "node"
              },
              {
               "children": [
                {
                 "children": [],
                 "instanceArgs": {
                  "namespace": "html",
                  "tag": "input"
                 },
                 "nodeType": "DOM",
                 "props": {
                  "attributes": {
                   "data-bind": "numericValue: index, valueUpdate: 'input', event: {change: function (){this.changes(this.changes()+1)}}",
                   "orient": "horizontal",
                   "type": "range"
                  },
                  "className": "slider slider is-fullwidth",
                  "max": 10,
                  "min": 1,
                  "step": 1,
                  "style": {}
                 },
                 "type": "node"
                }
               ],
               "instanceArgs": {
                "namespace": "html",
                "tag": "div"
               },
               "nodeType": "DOM",
               "props": {
                "className": "interact-flex-row-center"
               },
               "type": "node"
              },
              {
               "children": [
                {
                 "children": [],
                 "instanceArgs": {
                  "namespace": "html",
                  "tag": "p"
                 },
                 "nodeType": "DOM",
                 "props": {
                  "attributes": {
                   "data-bind": "text: formatted_val"
                  }
                 },
                 "type": "node"
                }
               ],
               "instanceArgs": {
                "namespace": "html",
                "tag": "div"
               },
               "nodeType": "DOM",
               "props": {
                "className": "interact-flex-row-right"
               },
               "type": "node"
              }
             ],
             "instanceArgs": {
              "namespace": "html",
              "tag": "div"
             },
             "nodeType": "DOM",
             "props": {
              "className": "interact-flex-row interact-widget"
             },
             "type": "node"
            }
           ],
           "instanceArgs": {
            "handlers": {
             "changes": [
              "(function (val){return (val!=this.model[\"changes\"]()) ? (this.valueFromJulia[\"changes\"]=true, this.model[\"changes\"](val)) : undefined})"
             ],
             "index": [
              "(function (val){return (val!=this.model[\"index\"]()) ? (this.valueFromJulia[\"index\"]=true, this.model[\"index\"](val)) : undefined})"
             ]
            },
            "id": "6424736512905829198",
            "imports": {
             "data": [
              {
               "name": "knockout",
               "type": "js",
               "url": "/assetserver/9a186147d51179d2ec12ccfac1799b0b805a79d5-knockout.js"
              },
              {
               "name": "knockout_punches",
               "type": "js",
               "url": "/assetserver/eccef011301f679ebde0900f01478cac573870ce-knockout_punches.js"
              },
              {
               "name": null,
               "type": "js",
               "url": "/assetserver/5d2042c6908ffff0b7c8d26135740476bcf00827-all.js"
              },
              {
               "name": null,
               "type": "css",
               "url": "/assetserver/87ad319ae61de5d44f67c268a0a8f65862fca478-style.css"
              },
              {
               "name": null,
               "type": "css",
               "url": "/assetserver/9354074556c360cc537db1e8b0f0283e19c8ea9d-bulma_confined.min.css"
              }
             ],
             "type": "async_block"
            },
            "mount_callbacks": [
             "function () {\n    var handler = (function (ko, koPunches) {\n    ko.punches.enableAll();\n    ko.bindingHandlers.numericValue = {\n        init: function(element, valueAccessor, allBindings, data, context) {\n            var stringified = ko.observable(ko.unwrap(valueAccessor()));\n            stringified.subscribe(function(value) {\n                var val = parseFloat(value);\n                if (!isNaN(val)) {\n                    valueAccessor()(val);\n                }\n            });\n            valueAccessor().subscribe(function(value) {\n                var str = JSON.stringify(value);\n                if ((str == \"0\") && ([\"-0\", \"-0.\"].indexOf(stringified()) >= 0))\n                     return;\n                 if ([\"null\", \"\"].indexOf(str) >= 0)\n                     return;\n                stringified(str);\n            });\n            ko.applyBindingsToNode(\n                element,\n                {\n                    value: stringified,\n                    valueUpdate: allBindings.get('valueUpdate'),\n                },\n                context,\n            );\n        }\n    };\n    var json_data = {\"formatted_vals\":[\"1\",\"2\",\"3\",\"4\",\"5\",\"6\",\"7\",\"8\",\"9\",\"10\"],\"changes\":WebIO.getval({\"name\":\"changes\",\"scope\":\"6424736512905829198\",\"id\":\"ob_94\",\"type\":\"observable\"}),\"index\":WebIO.getval({\"name\":\"index\",\"scope\":\"6424736512905829198\",\"id\":\"ob_93\",\"type\":\"observable\"})};\n    var self = this;\n    function AppViewModel() {\n        for (var key in json_data) {\n            var el = json_data[key];\n            this[key] = Array.isArray(el) ? ko.observableArray(el) : ko.observable(el);\n        }\n        \n        [this[\"formatted_val\"]=ko.computed(    function(){\n        return this.formatted_vals()[parseInt(this.index())-(1)];\n    }\n,this)]\n        [this[\"changes\"].subscribe((function (val){!(this.valueFromJulia[\"changes\"]) ? (WebIO.setval({\"name\":\"changes\",\"scope\":\"6424736512905829198\",\"id\":\"ob_94\",\"type\":\"observable\"},val)) : undefined; return this.valueFromJulia[\"changes\"]=false}),self),this[\"index\"].subscribe((function (val){!(this.valueFromJulia[\"index\"]) ? (WebIO.setval({\"name\":\"index\",\"scope\":\"6424736512905829198\",\"id\":\"ob_93\",\"type\":\"observable\"},val)) : undefined; return this.valueFromJulia[\"index\"]=false}),self)]\n        \n    }\n    self.model = new AppViewModel();\n    self.valueFromJulia = {};\n    for (var key in json_data) {\n        self.valueFromJulia[key] = false;\n    }\n    ko.applyBindings(self.model, self.dom);\n}\n);\n    (WebIO.importBlock({\"data\":[{\"name\":\"knockout\",\"type\":\"js\",\"url\":\"/assetserver/9a186147d51179d2ec12ccfac1799b0b805a79d5-knockout.js\"},{\"name\":\"knockout_punches\",\"type\":\"js\",\"url\":\"/assetserver/eccef011301f679ebde0900f01478cac573870ce-knockout_punches.js\"}],\"type\":\"async_block\"})).then((imports) => handler.apply(this, imports));\n}\n"
            ],
            "observables": {
             "changes": {
              "id": "ob_94",
              "sync": false,
              "value": 0
             },
             "index": {
              "id": "ob_93",
              "sync": true,
              "value": 1
             }
            },
            "systemjs_options": null
           },
           "nodeType": "Scope",
           "props": {},
           "type": "node"
          }
         ],
         "instanceArgs": {
          "namespace": "html",
          "tag": "div"
         },
         "nodeType": "DOM",
         "props": {
          "className": "field interact-widget"
         },
         "type": "node"
        },
        {
         "children": [
          {
           "children": [],
           "instanceArgs": {
            "id": "ob_100",
            "name": "obs-node"
           },
           "nodeType": "ObservableNode",
           "props": {},
           "type": "node"
          }
         ],
         "instanceArgs": {
          "handlers": {},
          "id": "8079103864984326534",
          "imports": {
           "data": [],
           "type": "async_block"
          },
          "mount_callbacks": [],
          "observables": {
           "obs-node": {
            "id": "ob_100",
            "sync": false,
            "value": {
             "children": [
              {
               "children": [],
               "instanceArgs": {
                "namespace": "html",
                "tag": "div"
               },
               "nodeType": "DOM",
               "props": {
                "setInnerHtml": "<?xml version=\"1.0\" encoding=\"utf-8\"?>\n<svg xmlns=\"http://www.w3.org/2000/svg\" xmlns:xlink=\"http://www.w3.org/1999/xlink\" width=\"600\" height=\"400\" viewBox=\"0 0 2400 1600\">\n<defs>\n  <clipPath id=\"clip3000\">\n    <rect x=\"0\" y=\"0\" width=\"2400\" height=\"1600\"/>\n  </clipPath>\n</defs>\n<path clip-path=\"url(#clip3000)\" d=\"\nM0 1600 L2400 1600 L2400 0 L0 0  Z\n  \" fill=\"#ffffff\" fill-rule=\"evenodd\" fill-opacity=\"1\"/>\n<defs>\n  <clipPath id=\"clip3001\">\n    <rect x=\"480\" y=\"0\" width=\"1681\" height=\"1600\"/>\n  </clipPath>\n</defs>\n<path clip-path=\"url(#clip3000)\" d=\"\nM195.389 1487.47 L2352.76 1487.47 L2352.76 47.2441 L195.389 47.2441  Z\n  \" fill=\"#ffffff\" fill-rule=\"evenodd\" fill-opacity=\"1\"/>\n<defs>\n  <clipPath id=\"clip3002\">\n    <rect x=\"195\" y=\"47\" width=\"2158\" height=\"1441\"/>\n  </clipPath>\n</defs>\n<polyline clip-path=\"url(#clip3002)\" style=\"stroke:#000000; stroke-width:2; stroke-opacity:0.1; fill:none\" points=\"\n  570.055,1487.47 570.055,47.2441 \n  \"/>\n<polyline clip-path=\"url(#clip3002)\" style=\"stroke:#000000; stroke-width:2; stroke-opacity:0.1; fill:none\" points=\"\n  954.064,1487.47 954.064,47.2441 \n  \"/>\n<polyline clip-path=\"url(#clip3002)\" style=\"stroke:#000000; stroke-width:2; stroke-opacity:0.1; fill:none\" points=\"\n  1338.07,1487.47 1338.07,47.2441 \n  \"/>\n<polyline clip-path=\"url(#clip3002)\" style=\"stroke:#000000; stroke-width:2; stroke-opacity:0.1; fill:none\" points=\"\n  1722.08,1487.47 1722.08,47.2441 \n  \"/>\n<polyline clip-path=\"url(#clip3002)\" style=\"stroke:#000000; stroke-width:2; stroke-opacity:0.1; fill:none\" points=\"\n  2106.09,1487.47 2106.09,47.2441 \n  \"/>\n<polyline clip-path=\"url(#clip3002)\" style=\"stroke:#000000; stroke-width:2; stroke-opacity:0.1; fill:none\" points=\"\n  195.389,1487.47 2352.76,1487.47 \n  \"/>\n<polyline clip-path=\"url(#clip3002)\" style=\"stroke:#000000; stroke-width:2; stroke-opacity:0.1; fill:none\" points=\"\n  195.389,1127.42 2352.76,1127.42 \n  \"/>\n<polyline clip-path=\"url(#clip3002)\" style=\"stroke:#000000; stroke-width:2; stroke-opacity:0.1; fill:none\" points=\"\n  195.389,767.359 2352.76,767.359 \n  \"/>\n<polyline clip-path=\"url(#clip3002)\" style=\"stroke:#000000; stroke-width:2; stroke-opacity:0.1; fill:none\" points=\"\n  195.389,407.302 2352.76,407.302 \n  \"/>\n<polyline clip-path=\"url(#clip3002)\" style=\"stroke:#000000; stroke-width:2; stroke-opacity:0.1; fill:none\" points=\"\n  195.389,47.2441 2352.76,47.2441 \n  \"/>\n<polyline clip-path=\"url(#clip3000)\" style=\"stroke:#000000; stroke-width:4; stroke-opacity:1; fill:none\" points=\"\n  195.389,1487.47 2352.76,1487.47 \n  \"/>\n<polyline clip-path=\"url(#clip3000)\" style=\"stroke:#000000; stroke-width:4; stroke-opacity:1; fill:none\" points=\"\n  195.389,1487.47 195.389,47.2441 \n  \"/>\n<polyline clip-path=\"url(#clip3000)\" style=\"stroke:#000000; stroke-width:4; stroke-opacity:1; fill:none\" points=\"\n  570.055,1487.47 570.055,1470.19 \n  \"/>\n<polyline clip-path=\"url(#clip3000)\" style=\"stroke:#000000; stroke-width:4; stroke-opacity:1; fill:none\" points=\"\n  954.064,1487.47 954.064,1470.19 \n  \"/>\n<polyline clip-path=\"url(#clip3000)\" style=\"stroke:#000000; stroke-width:4; stroke-opacity:1; fill:none\" points=\"\n  1338.07,1487.47 1338.07,1470.19 \n  \"/>\n<polyline clip-path=\"url(#clip3000)\" style=\"stroke:#000000; stroke-width:4; stroke-opacity:1; fill:none\" points=\"\n  1722.08,1487.47 1722.08,1470.19 \n  \"/>\n<polyline clip-path=\"url(#clip3000)\" style=\"stroke:#000000; stroke-width:4; stroke-opacity:1; fill:none\" points=\"\n  2106.09,1487.47 2106.09,1470.19 \n  \"/>\n<polyline clip-path=\"url(#clip3000)\" style=\"stroke:#000000; stroke-width:4; stroke-opacity:1; fill:none\" points=\"\n  195.389,1487.47 221.278,1487.47 \n  \"/>\n<polyline clip-path=\"url(#clip3000)\" style=\"stroke:#000000; stroke-width:4; stroke-opacity:1; fill:none\" points=\"\n  195.389,1127.42 221.278,1127.42 \n  \"/>\n<polyline clip-path=\"url(#clip3000)\" style=\"stroke:#000000; stroke-width:4; stroke-opacity:1; fill:none\" points=\"\n  195.389,767.359 221.278,767.359 \n  \"/>\n<polyline clip-path=\"url(#clip3000)\" style=\"stroke:#000000; stroke-width:4; stroke-opacity:1; fill:none\" points=\"\n  195.389,407.302 221.278,407.302 \n  \"/>\n<polyline clip-path=\"url(#clip3000)\" style=\"stroke:#000000; stroke-width:4; stroke-opacity:1; fill:none\" points=\"\n  195.389,47.2441 221.278,47.2441 \n  \"/>\n<g clip-path=\"url(#clip3000)\">\n<text style=\"fill:#000000; fill-opacity:1; font-family:Arial,Helvetica Neue,Helvetica,sans-serif; font-size:48px; text-anchor:middle;\" transform=\"rotate(0, 570.055, 1541.47)\" x=\"570.055\" y=\"1541.47\">-0.3</text>\n</g>\n<g clip-path=\"url(#clip3000)\">\n<text style=\"fill:#000000; fill-opacity:1; font-family:Arial,Helvetica Neue,Helvetica,sans-serif; font-size:48px; text-anchor:middle;\" transform=\"rotate(0, 954.064, 1541.47)\" x=\"954.064\" y=\"1541.47\">0.0</text>\n</g>\n<g clip-path=\"url(#clip3000)\">\n<text style=\"fill:#000000; fill-opacity:1; font-family:Arial,Helvetica Neue,Helvetica,sans-serif; font-size:48px; text-anchor:middle;\" transform=\"rotate(0, 1338.07, 1541.47)\" x=\"1338.07\" y=\"1541.47\">0.3</text>\n</g>\n<g clip-path=\"url(#clip3000)\">\n<text style=\"fill:#000000; fill-opacity:1; font-family:Arial,Helvetica Neue,Helvetica,sans-serif; font-size:48px; text-anchor:middle;\" transform=\"rotate(0, 1722.08, 1541.47)\" x=\"1722.08\" y=\"1541.47\">0.6</text>\n</g>\n<g clip-path=\"url(#clip3000)\">\n<text style=\"fill:#000000; fill-opacity:1; font-family:Arial,Helvetica Neue,Helvetica,sans-serif; font-size:48px; text-anchor:middle;\" transform=\"rotate(0, 2106.09, 1541.47)\" x=\"2106.09\" y=\"1541.47\">0.9</text>\n</g>\n<g clip-path=\"url(#clip3000)\">\n<text style=\"fill:#000000; fill-opacity:1; font-family:Arial,Helvetica Neue,Helvetica,sans-serif; font-size:48px; text-anchor:end;\" transform=\"rotate(0, 171.389, 1504.97)\" x=\"171.389\" y=\"1504.97\">-100</text>\n</g>\n<g clip-path=\"url(#clip3000)\">\n<text style=\"fill:#000000; fill-opacity:1; font-family:Arial,Helvetica Neue,Helvetica,sans-serif; font-size:48px; text-anchor:end;\" transform=\"rotate(0, 171.389, 1144.92)\" x=\"171.389\" y=\"1144.92\">-50</text>\n</g>\n<g clip-path=\"url(#clip3000)\">\n<text style=\"fill:#000000; fill-opacity:1; font-family:Arial,Helvetica Neue,Helvetica,sans-serif; font-size:48px; text-anchor:end;\" transform=\"rotate(0, 171.389, 784.859)\" x=\"171.389\" y=\"784.859\">0</text>\n</g>\n<g clip-path=\"url(#clip3000)\">\n<text style=\"fill:#000000; fill-opacity:1; font-family:Arial,Helvetica Neue,Helvetica,sans-serif; font-size:48px; text-anchor:end;\" transform=\"rotate(0, 171.389, 424.802)\" x=\"171.389\" y=\"424.802\">50</text>\n</g>\n<g clip-path=\"url(#clip3000)\">\n<text style=\"fill:#000000; fill-opacity:1; font-family:Arial,Helvetica Neue,Helvetica,sans-serif; font-size:48px; text-anchor:end;\" transform=\"rotate(0, 171.389, 64.7441)\" x=\"171.389\" y=\"64.7441\">100</text>\n</g>\n<polyline clip-path=\"url(#clip3002)\" style=\"stroke:#009af9; stroke-width:12; stroke-opacity:1; fill:none\" points=\"\n  314.048,792.546 326.849,791.25 339.649,789.946 352.449,788.638 365.25,787.326 378.05,786.013 390.85,784.702 403.651,783.395 416.451,782.094 429.251,780.803 \n  442.051,779.523 454.852,778.257 467.652,777.008 480.452,775.779 493.253,774.571 506.053,773.388 518.853,772.233 531.654,771.108 544.454,770.015 557.254,768.958 \n  570.055,767.94 582.855,766.962 595.655,766.028 608.456,765.14 621.256,764.301 634.056,763.514 646.857,762.781 659.657,762.105 672.457,761.489 685.258,760.934 \n  698.058,760.444 710.858,760.02 723.659,759.666 736.459,759.383 749.259,759.174 762.06,759.041 774.86,758.985 787.66,759.01 800.461,759.117 813.261,759.307 \n  826.061,759.583 838.862,759.946 851.662,760.398 864.462,760.94 877.263,761.574 890.063,762.301 902.863,763.121 915.663,764.036 928.464,765.047 941.264,766.155 \n  954.064,767.359 966.865,768.661 979.665,770.061 992.465,771.559 1005.27,773.155 1018.07,774.849 1030.87,776.64 1043.67,778.528 1056.47,780.513 1069.27,782.593 \n  1082.07,784.768 1094.87,787.037 1107.67,789.398 1120.47,791.849 1133.27,794.39 1146.07,797.018 1158.87,799.732 1171.67,802.528 1184.47,805.405 1197.27,808.361 \n  1210.07,811.392 1222.87,814.495 1235.67,817.668 1248.47,820.907 1261.27,824.208 1274.07,827.569 1286.87,830.985 1299.67,834.452 1312.47,837.966 1325.27,841.523 \n  1338.07,845.118 1350.87,848.747 1363.67,852.404 1376.48,856.085 1389.28,859.785 1402.08,863.498 1414.88,867.218 1427.68,870.941 1440.48,874.66 1453.28,878.369 \n  1466.08,882.063 1478.88,885.736 1491.68,889.381 1504.48,892.991 1517.28,896.561 1530.08,900.084 1542.88,903.553 1555.68,906.961 1568.48,910.303 1581.28,913.57 \n  1594.08,916.757 1606.88,919.856 1619.68,922.86 1632.48,925.762 1645.28,928.556 1658.08,931.234 1670.88,933.79 1683.68,936.216 1696.48,938.506 1709.28,940.653 \n  1722.08,942.65 1734.88,944.49 1747.68,946.168 1760.48,947.675 1773.29,949.007 1786.09,950.156 1798.89,951.117 1811.69,951.883 1824.49,952.45 1837.29,952.811 \n  1850.09,952.961 1862.89,952.894 1875.69,952.607 1888.49,952.093 1901.29,951.35 1914.09,950.373 1926.89,949.157 1939.69,947.7 1952.49,945.998 1965.29,944.048 \n  1978.09,941.849 1990.89,939.398 2003.69,936.692 2016.49,933.733 2029.29,930.517 2042.09,927.046 2054.89,923.318 2067.69,919.335 2080.49,915.099 2093.29,910.609 \n  2106.09,905.87 2118.89,900.883 2131.69,895.651 2144.49,890.18 2157.29,884.472 2170.1,878.534 2182.9,872.371 2195.7,865.99 2208.5,859.397 2221.3,852.6 \n  2234.1,845.609 \n  \"/>\n<circle clip-path=\"url(#clip3002)\" style=\"fill:#000000; stroke:none; fill-opacity:1\" cx=\"1274.07\" cy=\"827.569\" r=\"18\"/>\n<circle clip-path=\"url(#clip3002)\" style=\"fill:#e26f46; stroke:none; fill-opacity:1\" cx=\"1274.07\" cy=\"827.569\" r=\"14\"/>\n<path clip-path=\"url(#clip3002)\" d=\"\nM314.048 2956.73 L333.443 2961.86 L352.837 2967 L372.232 2972.13 L391.626 2977.26 L411.02 2982.4 L430.415 2987.53 L449.809 2992.67 L469.204 2997.8 L488.598 3002.94 \n  L507.993 3008.07 L527.387 3013.21 L546.781 3018.34 L566.176 3023.48 L585.57 3028.61 L604.965 3033.75 L624.359 3038.88 L643.754 3044.02 L663.148 3049.15 L682.542 3054.29 \n  L701.937 3059.42 L721.331 3064.56 L740.726 3069.69 L760.12 3074.83 L779.515 3079.96 L798.909 3085.09 L818.303 3090.23 L837.698 3095.36 L857.092 3100.5 L876.487 3105.63 \n  L895.881 3110.77 L915.276 3115.9 L934.67 3121.04 L954.064 3126.17 L973.459 3131.31 L992.853 3136.44 L1012.25 3141.58 L1031.64 3146.71 L1051.04 3151.85 L1070.43 3156.98 \n  L1089.83 3162.12 L1109.22 3167.25 L1128.61 3172.39 L1148.01 3177.52 L1167.4 3182.66 L1186.8 3187.79 L1206.19 3192.93 L1225.59 3198.06 L1244.98 3203.19 L1264.38 3208.33 \n  L1283.77 3213.46 L1303.16 3218.6 L1322.56 3223.73 L1341.95 3228.87 L1361.35 3234 L1380.74 3239.14 L1400.14 3244.27 L1419.53 3249.41 L1438.93 3254.54 L1458.32 3259.68 \n  L1477.71 3264.81 L1497.11 3269.95 L1516.5 3275.08 L1535.9 3280.22 L1555.29 3285.35 L1574.69 3290.49 L1594.08 3295.62 L1613.48 3300.76 L1632.87 3305.89 L1652.26 3311.02 \n  L1671.66 3316.16 L1691.05 3321.29 L1710.45 3326.43 L1729.84 3331.56 L1749.24 3336.7 L1768.63 3341.83 L1788.02 3346.97 L1807.42 3352.1 L1826.81 3357.24 L1846.21 3362.37 \n  L1865.6 3367.51 L1885 3372.64 L1904.39 3377.78 L1923.79 3382.91 L1943.18 3388.05 L1962.57 3393.18 L1981.97 3398.32 L2001.36 3403.45 L2020.76 3408.59 L2040.15 3413.72 \n  L2059.55 3418.85 L2078.94 3423.99 L2098.34 3429.12 L2117.73 3434.26 L2137.12 3439.39 L2156.52 3444.53 L2175.91 3449.66 L2195.31 3454.8 L2214.7 3459.93 L2234.1 3465.07 \n  L2234.1 -1424.15 L2214.7 -1429.28 L2195.31 -1434.42 L2175.91 -1439.55 L2156.52 -1444.69 L2137.12 -1449.82 L2117.73 -1454.96 L2098.34 -1460.09 L2078.94 -1465.23 L2059.55 -1470.36 \n  L2040.15 -1475.49 L2020.76 -1480.63 L2001.36 -1485.76 L1981.97 -1490.9 L1962.57 -1496.03 L1943.18 -1501.17 L1923.79 -1506.3 L1904.39 -1511.44 L1885 -1516.57 L1865.6 -1521.71 \n  L1846.21 -1526.84 L1826.81 -1531.98 L1807.42 -1537.11 L1788.02 -1542.25 L1768.63 -1547.38 L1749.24 -1552.52 L1729.84 -1557.65 L1710.45 -1562.79 L1691.05 -1567.92 L1671.66 -1573.06 \n  L1652.26 -1578.19 L1632.87 -1583.32 L1613.48 -1588.46 L1594.08 -1593.59 L1574.69 -1598.73 L1555.29 -1603.86 L1535.9 -1609 L1516.5 -1614.13 L1497.11 -1619.27 L1477.71 -1624.4 \n  L1458.32 -1629.54 L1438.93 -1634.67 L1419.53 -1639.81 L1400.14 -1644.94 L1380.74 -1650.08 L1361.35 -1655.21 L1341.95 -1660.35 L1322.56 -1665.48 L1303.16 -1670.62 L1283.77 -1675.75 \n  L1264.38 -1680.89 L1244.98 -1686.02 L1225.59 -1691.15 L1206.19 -1696.29 L1186.8 -1701.42 L1167.4 -1706.56 L1148.01 -1711.69 L1128.61 -1716.83 L1109.22 -1721.96 L1089.83 -1727.1 \n  L1070.43 -1732.23 L1051.04 -1737.37 L1031.64 -1742.5 L1012.25 -1747.64 L992.853 -1752.77 L973.459 -1757.91 L954.064 -1763.04 L934.67 -1768.18 L915.276 -1773.31 L895.881 -1778.45 \n  L876.487 -1783.58 L857.092 -1788.72 L837.698 -1793.85 L818.303 -1798.98 L798.909 -1804.12 L779.515 -1809.25 L760.12 -1814.39 L740.726 -1819.52 L721.331 -1824.66 L701.937 -1829.79 \n  L682.542 -1834.93 L663.148 -1840.06 L643.754 -1845.2 L624.359 -1850.33 L604.965 -1855.47 L585.57 -1860.6 L566.176 -1865.74 L546.781 -1870.87 L527.387 -1876.01 L507.993 -1881.14 \n  L488.598 -1886.28 L469.204 -1891.41 L449.809 -1896.55 L430.415 -1901.68 L411.02 -1906.81 L391.626 -1911.95 L372.232 -1917.08 L352.837 -1922.22 L333.443 -1927.35 L314.048 -1932.49 \n  L314.048 2956.73 L314.048 2956.73  Z\n  \" fill=\"#3da44d\" fill-rule=\"evenodd\" fill-opacity=\"0.3\"/>\n<polyline clip-path=\"url(#clip3002)\" style=\"stroke:#000000; stroke-width:4; stroke-opacity:0.3; fill:none\" points=\"\n  314.048,2956.73 333.443,2961.86 352.837,2967 372.232,2972.13 391.626,2977.26 411.02,2982.4 430.415,2987.53 449.809,2992.67 469.204,2997.8 488.598,3002.94 \n  507.993,3008.07 527.387,3013.21 546.781,3018.34 566.176,3023.48 585.57,3028.61 604.965,3033.75 624.359,3038.88 643.754,3044.02 663.148,3049.15 682.542,3054.29 \n  701.937,3059.42 721.331,3064.56 740.726,3069.69 760.12,3074.83 779.515,3079.96 798.909,3085.09 818.303,3090.23 837.698,3095.36 857.092,3100.5 876.487,3105.63 \n  895.881,3110.77 915.276,3115.9 934.67,3121.04 954.064,3126.17 973.459,3131.31 992.853,3136.44 1012.25,3141.58 1031.64,3146.71 1051.04,3151.85 1070.43,3156.98 \n  1089.83,3162.12 1109.22,3167.25 1128.61,3172.39 1148.01,3177.52 1167.4,3182.66 1186.8,3187.79 1206.19,3192.93 1225.59,3198.06 1244.98,3203.19 1264.38,3208.33 \n  1283.77,3213.46 1303.16,3218.6 1322.56,3223.73 1341.95,3228.87 1361.35,3234 1380.74,3239.14 1400.14,3244.27 1419.53,3249.41 1438.93,3254.54 1458.32,3259.68 \n  1477.71,3264.81 1497.11,3269.95 1516.5,3275.08 1535.9,3280.22 1555.29,3285.35 1574.69,3290.49 1594.08,3295.62 1613.48,3300.76 1632.87,3305.89 1652.26,3311.02 \n  1671.66,3316.16 1691.05,3321.29 1710.45,3326.43 1729.84,3331.56 1749.24,3336.7 1768.63,3341.83 1788.02,3346.97 1807.42,3352.1 1826.81,3357.24 1846.21,3362.37 \n  1865.6,3367.51 1885,3372.64 1904.39,3377.78 1923.79,3382.91 1943.18,3388.05 1962.57,3393.18 1981.97,3398.32 2001.36,3403.45 2020.76,3408.59 2040.15,3413.72 \n  2059.55,3418.85 2078.94,3423.99 2098.34,3429.12 2117.73,3434.26 2137.12,3439.39 2156.52,3444.53 2175.91,3449.66 2195.31,3454.8 2214.7,3459.93 2234.1,3465.07 \n  2234.1,-1424.15 2214.7,-1429.28 2195.31,-1434.42 2175.91,-1439.55 2156.52,-1444.69 2137.12,-1449.82 2117.73,-1454.96 2098.34,-1460.09 2078.94,-1465.23 2059.55,-1470.36 \n  2040.15,-1475.49 2020.76,-1480.63 2001.36,-1485.76 1981.97,-1490.9 1962.57,-1496.03 1943.18,-1501.17 1923.79,-1506.3 1904.39,-1511.44 1885,-1516.57 1865.6,-1521.71 \n  1846.21,-1526.84 1826.81,-1531.98 1807.42,-1537.11 1788.02,-1542.25 1768.63,-1547.38 1749.24,-1552.52 1729.84,-1557.65 1710.45,-1562.79 1691.05,-1567.92 1671.66,-1573.06 \n  1652.26,-1578.19 1632.87,-1583.32 1613.48,-1588.46 1594.08,-1593.59 1574.69,-1598.73 1555.29,-1603.86 1535.9,-1609 1516.5,-1614.13 1497.11,-1619.27 1477.71,-1624.4 \n  1458.32,-1629.54 1438.93,-1634.67 1419.53,-1639.81 1400.14,-1644.94 1380.74,-1650.08 1361.35,-1655.21 1341.95,-1660.35 1322.56,-1665.48 1303.16,-1670.62 1283.77,-1675.75 \n  1264.38,-1680.89 1244.98,-1686.02 1225.59,-1691.15 1206.19,-1696.29 1186.8,-1701.42 1167.4,-1706.56 1148.01,-1711.69 1128.61,-1716.83 1109.22,-1721.96 1089.83,-1727.1 \n  1070.43,-1732.23 1051.04,-1737.37 1031.64,-1742.5 1012.25,-1747.64 992.853,-1752.77 973.459,-1757.91 954.064,-1763.04 934.67,-1768.18 915.276,-1773.31 895.881,-1778.45 \n  876.487,-1783.58 857.092,-1788.72 837.698,-1793.85 818.303,-1798.98 798.909,-1804.12 779.515,-1809.25 760.12,-1814.39 740.726,-1819.52 721.331,-1824.66 701.937,-1829.79 \n  682.542,-1834.93 663.148,-1840.06 643.754,-1845.2 624.359,-1850.33 604.965,-1855.47 585.57,-1860.6 566.176,-1865.74 546.781,-1870.87 527.387,-1876.01 507.993,-1881.14 \n  488.598,-1886.28 469.204,-1891.41 449.809,-1896.55 430.415,-1901.68 411.02,-1906.81 391.626,-1911.95 372.232,-1917.08 352.837,-1922.22 333.443,-1927.35 314.048,-1932.49 \n  314.048,2956.73 \n  \"/>\n<polyline clip-path=\"url(#clip3002)\" style=\"stroke:#c271d2; stroke-width:8; stroke-opacity:1; fill:none\" stroke-dasharray=\"32, 20\" points=\"\n  256.447,558.148 276.323,563.41 460.104,612.067 570.549,641.308 663.929,666.031 765.365,692.887 858.881,717.645 959.14,744.189 1075.3,774.943 1178.53,802.273 \n  1269.05,826.239 1367.74,852.369 1467.02,878.654 1576.79,907.715 1681.23,935.366 1789.83,964.117 1881.24,988.319 1992.84,1017.87 2097.76,1045.64 2265.83,1090.14 \n  2291.7,1096.99 \n  \"/>\n</svg>\n"
               },
               "type": "node"
              }
             ],
             "instanceArgs": {
              "namespace": "html",
              "tag": "div"
             },
             "nodeType": "DOM",
             "props": {
              "className": "interact-flex-row interact-widget"
             },
             "type": "node"
            }
           }
          },
          "systemjs_options": null
         },
         "nodeType": "Scope",
         "props": {},
         "type": "node"
        }
       ],
       "instanceArgs": {
        "namespace": "html",
        "tag": "div"
       },
       "nodeType": "DOM",
       "props": {},
       "type": "node"
      },
      "text/html": [
       "<div\n",
       "    class=\"webio-mountpoint\"\n",
       "    data-webio-mountpoint=\"4293025238419856886\"\n",
       ">\n",
       "    <script>\n",
       "    if (window.require && require.defined && require.defined(\"nbextensions/webio-jupyter-notebook\")) {\n",
       "        console.log(\"Jupyter WebIO extension detected, not mounting.\");\n",
       "    } else if (window.WebIO) {\n",
       "        WebIO.mount(\n",
       "            document.querySelector('[data-webio-mountpoint=\"4293025238419856886\"]'),\n",
       "            {\"props\":{},\"nodeType\":\"DOM\",\"type\":\"node\",\"instanceArgs\":{\"namespace\":\"html\",\"tag\":\"div\"},\"children\":[{\"props\":{\"className\":\"field interact-widget\"},\"nodeType\":\"DOM\",\"type\":\"node\",\"instanceArgs\":{\"namespace\":\"html\",\"tag\":\"div\"},\"children\":[{\"props\":{},\"nodeType\":\"Scope\",\"type\":\"node\",\"instanceArgs\":{\"imports\":{\"data\":[{\"name\":\"knockout\",\"type\":\"js\",\"url\":\"\\/assetserver\\/9a186147d51179d2ec12ccfac1799b0b805a79d5-knockout.js\"},{\"name\":\"knockout_punches\",\"type\":\"js\",\"url\":\"\\/assetserver\\/eccef011301f679ebde0900f01478cac573870ce-knockout_punches.js\"},{\"name\":null,\"type\":\"js\",\"url\":\"\\/assetserver\\/5d2042c6908ffff0b7c8d26135740476bcf00827-all.js\"},{\"name\":null,\"type\":\"css\",\"url\":\"\\/assetserver\\/87ad319ae61de5d44f67c268a0a8f65862fca478-style.css\"},{\"name\":null,\"type\":\"css\",\"url\":\"\\/assetserver\\/9354074556c360cc537db1e8b0f0283e19c8ea9d-bulma_confined.min.css\"}],\"type\":\"async_block\"},\"id\":\"6424736512905829198\",\"handlers\":{\"changes\":[\"(function (val){return (val!=this.model[\\\"changes\\\"]()) ? (this.valueFromJulia[\\\"changes\\\"]=true, this.model[\\\"changes\\\"](val)) : undefined})\"],\"index\":[\"(function (val){return (val!=this.model[\\\"index\\\"]()) ? (this.valueFromJulia[\\\"index\\\"]=true, this.model[\\\"index\\\"](val)) : undefined})\"]},\"systemjs_options\":null,\"mount_callbacks\":[\"function () {\\n    var handler = (function (ko, koPunches) {\\n    ko.punches.enableAll();\\n    ko.bindingHandlers.numericValue = {\\n        init: function(element, valueAccessor, allBindings, data, context) {\\n            var stringified = ko.observable(ko.unwrap(valueAccessor()));\\n            stringified.subscribe(function(value) {\\n                var val = parseFloat(value);\\n                if (!isNaN(val)) {\\n                    valueAccessor()(val);\\n                }\\n            });\\n            valueAccessor().subscribe(function(value) {\\n                var str = JSON.stringify(value);\\n                if ((str == \\\"0\\\") && ([\\\"-0\\\", \\\"-0.\\\"].indexOf(stringified()) >= 0))\\n                     return;\\n                 if ([\\\"null\\\", \\\"\\\"].indexOf(str) >= 0)\\n                     return;\\n                stringified(str);\\n            });\\n            ko.applyBindingsToNode(\\n                element,\\n                {\\n                    value: stringified,\\n                    valueUpdate: allBindings.get('valueUpdate'),\\n                },\\n                context,\\n            );\\n        }\\n    };\\n    var json_data = {\\\"formatted_vals\\\":[\\\"1\\\",\\\"2\\\",\\\"3\\\",\\\"4\\\",\\\"5\\\",\\\"6\\\",\\\"7\\\",\\\"8\\\",\\\"9\\\",\\\"10\\\"],\\\"changes\\\":WebIO.getval({\\\"name\\\":\\\"changes\\\",\\\"scope\\\":\\\"6424736512905829198\\\",\\\"id\\\":\\\"ob_94\\\",\\\"type\\\":\\\"observable\\\"}),\\\"index\\\":WebIO.getval({\\\"name\\\":\\\"index\\\",\\\"scope\\\":\\\"6424736512905829198\\\",\\\"id\\\":\\\"ob_93\\\",\\\"type\\\":\\\"observable\\\"})};\\n    var self = this;\\n    function AppViewModel() {\\n        for (var key in json_data) {\\n            var el = json_data[key];\\n            this[key] = Array.isArray(el) ? ko.observableArray(el) : ko.observable(el);\\n        }\\n        \\n        [this[\\\"formatted_val\\\"]=ko.computed(    function(){\\n        return this.formatted_vals()[parseInt(this.index())-(1)];\\n    }\\n,this)]\\n        [this[\\\"changes\\\"].subscribe((function (val){!(this.valueFromJulia[\\\"changes\\\"]) ? (WebIO.setval({\\\"name\\\":\\\"changes\\\",\\\"scope\\\":\\\"6424736512905829198\\\",\\\"id\\\":\\\"ob_94\\\",\\\"type\\\":\\\"observable\\\"},val)) : undefined; return this.valueFromJulia[\\\"changes\\\"]=false}),self),this[\\\"index\\\"].subscribe((function (val){!(this.valueFromJulia[\\\"index\\\"]) ? (WebIO.setval({\\\"name\\\":\\\"index\\\",\\\"scope\\\":\\\"6424736512905829198\\\",\\\"id\\\":\\\"ob_93\\\",\\\"type\\\":\\\"observable\\\"},val)) : undefined; return this.valueFromJulia[\\\"index\\\"]=false}),self)]\\n        \\n    }\\n    self.model = new AppViewModel();\\n    self.valueFromJulia = {};\\n    for (var key in json_data) {\\n        self.valueFromJulia[key] = false;\\n    }\\n    ko.applyBindings(self.model, self.dom);\\n}\\n);\\n    (WebIO.importBlock({\\\"data\\\":[{\\\"name\\\":\\\"knockout\\\",\\\"type\\\":\\\"js\\\",\\\"url\\\":\\\"\\/assetserver\\/9a186147d51179d2ec12ccfac1799b0b805a79d5-knockout.js\\\"},{\\\"name\\\":\\\"knockout_punches\\\",\\\"type\\\":\\\"js\\\",\\\"url\\\":\\\"\\/assetserver\\/eccef011301f679ebde0900f01478cac573870ce-knockout_punches.js\\\"}],\\\"type\\\":\\\"async_block\\\"})).then((imports) => handler.apply(this, imports));\\n}\\n\"],\"observables\":{\"changes\":{\"sync\":false,\"id\":\"ob_94\",\"value\":0},\"index\":{\"sync\":true,\"id\":\"ob_93\",\"value\":1}}},\"children\":[{\"props\":{\"className\":\"interact-flex-row interact-widget\"},\"nodeType\":\"DOM\",\"type\":\"node\",\"instanceArgs\":{\"namespace\":\"html\",\"tag\":\"div\"},\"children\":[{\"props\":{\"className\":\"interact-flex-row-left\"},\"nodeType\":\"DOM\",\"type\":\"node\",\"instanceArgs\":{\"namespace\":\"html\",\"tag\":\"div\"},\"children\":[{\"props\":{\"className\":\"interact \",\"style\":{\"padding\":\"5px 10px 0px 10px\"}},\"nodeType\":\"DOM\",\"type\":\"node\",\"instanceArgs\":{\"namespace\":\"html\",\"tag\":\"label\"},\"children\":[\"\"]}]},{\"props\":{\"className\":\"interact-flex-row-center\"},\"nodeType\":\"DOM\",\"type\":\"node\",\"instanceArgs\":{\"namespace\":\"html\",\"tag\":\"div\"},\"children\":[{\"props\":{\"max\":10,\"min\":1,\"attributes\":{\"type\":\"range\",\"data-bind\":\"numericValue: index, valueUpdate: 'input', event: {change: function (){this.changes(this.changes()+1)}}\",\"orient\":\"horizontal\"},\"step\":1,\"className\":\"slider slider is-fullwidth\",\"style\":{}},\"nodeType\":\"DOM\",\"type\":\"node\",\"instanceArgs\":{\"namespace\":\"html\",\"tag\":\"input\"},\"children\":[]}]},{\"props\":{\"className\":\"interact-flex-row-right\"},\"nodeType\":\"DOM\",\"type\":\"node\",\"instanceArgs\":{\"namespace\":\"html\",\"tag\":\"div\"},\"children\":[{\"props\":{\"attributes\":{\"data-bind\":\"text: formatted_val\"}},\"nodeType\":\"DOM\",\"type\":\"node\",\"instanceArgs\":{\"namespace\":\"html\",\"tag\":\"p\"},\"children\":[]}]}]}]}]},{\"props\":{},\"nodeType\":\"Scope\",\"type\":\"node\",\"instanceArgs\":{\"imports\":{\"data\":[],\"type\":\"async_block\"},\"id\":\"13668823715350595974\",\"handlers\":{},\"systemjs_options\":null,\"mount_callbacks\":[],\"observables\":{\"obs-node\":{\"sync\":false,\"id\":\"ob_98\",\"value\":{\"props\":{\"className\":\"interact-flex-row interact-widget\"},\"nodeType\":\"DOM\",\"type\":\"node\",\"instanceArgs\":{\"namespace\":\"html\",\"tag\":\"div\"},\"children\":[{\"props\":{\"setInnerHtml\":\"<?xml version=\\\"1.0\\\" encoding=\\\"utf-8\\\"?>\\n<svg xmlns=\\\"http:\\/\\/www.w3.org\\/2000\\/svg\\\" xmlns:xlink=\\\"http:\\/\\/www.w3.org\\/1999\\/xlink\\\" width=\\\"600\\\" height=\\\"400\\\" viewBox=\\\"0 0 2400 1600\\\">\\n<defs>\\n  <clipPath id=\\\"clip2600\\\">\\n    <rect x=\\\"0\\\" y=\\\"0\\\" width=\\\"2400\\\" height=\\\"1600\\\"\\/>\\n  <\\/clipPath>\\n<\\/defs>\\n<path clip-path=\\\"url(#clip2600)\\\" d=\\\"\\nM0 1600 L2400 1600 L2400 0 L0 0  Z\\n  \\\" fill=\\\"#ffffff\\\" fill-rule=\\\"evenodd\\\" fill-opacity=\\\"1\\\"\\/>\\n<defs>\\n  <clipPath id=\\\"clip2601\\\">\\n    <rect x=\\\"480\\\" y=\\\"0\\\" width=\\\"1681\\\" height=\\\"1600\\\"\\/>\\n  <\\/clipPath>\\n<\\/defs>\\n<path clip-path=\\\"url(#clip2600)\\\" d=\\\"\\nM195.389 1487.47 L2352.76 1487.47 L2352.76 47.2441 L195.389 47.2441  Z\\n  \\\" fill=\\\"#ffffff\\\" fill-rule=\\\"evenodd\\\" fill-opacity=\\\"1\\\"\\/>\\n<defs>\\n  <clipPath id=\\\"clip2602\\\">\\n    <rect x=\\\"195\\\" y=\\\"47\\\" width=\\\"2158\\\" height=\\\"1441\\\"\\/>\\n  <\\/clipPath>\\n<\\/defs>\\n<polyline clip-path=\\\"url(#clip2602)\\\" style=\\\"stroke:#000000; stroke-width:2; stroke-opacity:0.1; fill:none\\\" points=\\\"\\n  570.055,1487.47 570.055,47.2441 \\n  \\\"\\/>\\n<polyline clip-path=\\\"url(#clip2602)\\\" style=\\\"stroke:#000000; stroke-width:2; stroke-opacity:0.1; fill:none\\\" points=\\\"\\n  954.064,1487.47 954.064,47.2441 \\n  \\\"\\/>\\n<polyline clip-path=\\\"url(#clip2602)\\\" style=\\\"stroke:#000000; stroke-width:2; stroke-opacity:0.1; fill:none\\\" points=\\\"\\n  1338.07,1487.47 1338.07,47.2441 \\n  \\\"\\/>\\n<polyline clip-path=\\\"url(#clip2602)\\\" style=\\\"stroke:#000000; stroke-width:2; stroke-opacity:0.1; fill:none\\\" points=\\\"\\n  1722.08,1487.47 1722.08,47.2441 \\n  \\\"\\/>\\n<polyline clip-path=\\\"url(#clip2602)\\\" style=\\\"stroke:#000000; stroke-width:2; stroke-opacity:0.1; fill:none\\\" points=\\\"\\n  2106.09,1487.47 2106.09,47.2441 \\n  \\\"\\/>\\n<polyline clip-path=\\\"url(#clip2602)\\\" style=\\\"stroke:#000000; stroke-width:2; stroke-opacity:0.1; fill:none\\\" points=\\\"\\n  195.389,1487.47 2352.76,1487.47 \\n  \\\"\\/>\\n<polyline clip-path=\\\"url(#clip2602)\\\" style=\\\"stroke:#000000; stroke-width:2; stroke-opacity:0.1; fill:none\\\" points=\\\"\\n  195.389,1127.42 2352.76,1127.42 \\n  \\\"\\/>\\n<polyline clip-path=\\\"url(#clip2602)\\\" style=\\\"stroke:#000000; stroke-width:2; stroke-opacity:0.1; fill:none\\\" points=\\\"\\n  195.389,767.359 2352.76,767.359 \\n  \\\"\\/>\\n<polyline clip-path=\\\"url(#clip2602)\\\" style=\\\"stroke:#000000; stroke-width:2; stroke-opacity:0.1; fill:none\\\" points=\\\"\\n  195.389,407.302 2352.76,407.302 \\n  \\\"\\/>\\n<polyline clip-path=\\\"url(#clip2602)\\\" style=\\\"stroke:#000000; stroke-width:2; stroke-opacity:0.1; fill:none\\\" points=\\\"\\n  195.389,47.2441 2352.76,47.2441 \\n  \\\"\\/>\\n<polyline clip-path=\\\"url(#clip2600)\\\" style=\\\"stroke:#000000; stroke-width:4; stroke-opacity:1; fill:none\\\" points=\\\"\\n  195.389,1487.47 2352.76,1487.47 \\n  \\\"\\/>\\n<polyline clip-path=\\\"url(#clip2600)\\\" style=\\\"stroke:#000000; stroke-width:4; stroke-opacity:1; fill:none\\\" points=\\\"\\n  195.389,1487.47 195.389,47.2441 \\n  \\\"\\/>\\n<polyline clip-path=\\\"url(#clip2600)\\\" style=\\\"stroke:#000000; stroke-width:4; stroke-opacity:1; fill:none\\\" points=\\\"\\n  570.055,1487.47 570.055,1470.19 \\n  \\\"\\/>\\n<polyline clip-path=\\\"url(#clip2600)\\\" style=\\\"stroke:#000000; stroke-width:4; stroke-opacity:1; fill:none\\\" points=\\\"\\n  954.064,1487.47 954.064,1470.19 \\n  \\\"\\/>\\n<polyline clip-path=\\\"url(#clip2600)\\\" style=\\\"stroke:#000000; stroke-width:4; stroke-opacity:1; fill:none\\\" points=\\\"\\n  1338.07,1487.47 1338.07,1470.19 \\n  \\\"\\/>\\n<polyline clip-path=\\\"url(#clip2600)\\\" style=\\\"stroke:#000000; stroke-width:4; stroke-opacity:1; fill:none\\\" points=\\\"\\n  1722.08,1487.47 1722.08,1470.19 \\n  \\\"\\/>\\n<polyline clip-path=\\\"url(#clip2600)\\\" style=\\\"stroke:#000000; stroke-width:4; stroke-opacity:1; fill:none\\\" points=\\\"\\n  2106.09,1487.47 2106.09,1470.19 \\n  \\\"\\/>\\n<polyline clip-path=\\\"url(#clip2600)\\\" style=\\\"stroke:#000000; stroke-width:4; stroke-opacity:1; fill:none\\\" points=\\\"\\n  195.389,1487.47 221.278,1487.47 \\n  \\\"\\/>\\n<polyline clip-path=\\\"url(#clip2600)\\\" style=\\\"stroke:#000000; stroke-width:4; stroke-opacity:1; fill:none\\\" points=\\\"\\n  195.389,1127.42 221.278,1127.42 \\n  \\\"\\/>\\n<polyline clip-path=\\\"url(#clip2600)\\\" style=\\\"stroke:#000000; stroke-width:4; stroke-opacity:1; fill:none\\\" points=\\\"\\n  195.389,767.359 221.278,767.359 \\n  \\\"\\/>\\n<polyline clip-path=\\\"url(#clip2600)\\\" style=\\\"stroke:#000000; stroke-width:4; stroke-opacity:1; fill:none\\\" points=\\\"\\n  195.389,407.302 221.278,407.302 \\n  \\\"\\/>\\n<polyline clip-path=\\\"url(#clip2600)\\\" style=\\\"stroke:#000000; stroke-width:4; stroke-opacity:1; fill:none\\\" points=\\\"\\n  195.389,47.2441 221.278,47.2441 \\n  \\\"\\/>\\n<g clip-path=\\\"url(#clip2600)\\\">\\n<text style=\\\"fill:#000000; fill-opacity:1; font-family:Arial,Helvetica Neue,Helvetica,sans-serif; font-size:48px; text-anchor:middle;\\\" transform=\\\"rotate(0, 570.055, 1541.47)\\\" x=\\\"570.055\\\" y=\\\"1541.47\\\">-0.3<\\/text>\\n<\\/g>\\n<g clip-path=\\\"url(#clip2600)\\\">\\n<text style=\\\"fill:#000000; fill-opacity:1; font-family:Arial,Helvetica Neue,Helvetica,sans-serif; font-size:48px; text-anchor:middle;\\\" transform=\\\"rotate(0, 954.064, 1541.47)\\\" x=\\\"954.064\\\" y=\\\"1541.47\\\">0.0<\\/text>\\n<\\/g>\\n<g clip-path=\\\"url(#clip2600)\\\">\\n<text style=\\\"fill:#000000; fill-opacity:1; font-family:Arial,Helvetica Neue,Helvetica,sans-serif; font-size:48px; text-anchor:middle;\\\" transform=\\\"rotate(0, 1338.07, 1541.47)\\\" x=\\\"1338.07\\\" y=\\\"1541.47\\\">0.3<\\/text>\\n<\\/g>\\n<g clip-path=\\\"url(#clip2600)\\\">\\n<text style=\\\"fill:#000000; fill-opacity:1; font-family:Arial,Helvetica Neue,Helvetica,sans-serif; font-size:48px; text-anchor:middle;\\\" transform=\\\"rotate(0, 1722.08, 1541.47)\\\" x=\\\"1722.08\\\" y=\\\"1541.47\\\">0.6<\\/text>\\n<\\/g>\\n<g clip-path=\\\"url(#clip2600)\\\">\\n<text style=\\\"fill:#000000; fill-opacity:1; font-family:Arial,Helvetica Neue,Helvetica,sans-serif; font-size:48px; text-anchor:middle;\\\" transform=\\\"rotate(0, 2106.09, 1541.47)\\\" x=\\\"2106.09\\\" y=\\\"1541.47\\\">0.9<\\/text>\\n<\\/g>\\n<g clip-path=\\\"url(#clip2600)\\\">\\n<text style=\\\"fill:#000000; fill-opacity:1; font-family:Arial,Helvetica Neue,Helvetica,sans-serif; font-size:48px; text-anchor:end;\\\" transform=\\\"rotate(0, 171.389, 1504.97)\\\" x=\\\"171.389\\\" y=\\\"1504.97\\\">-100<\\/text>\\n<\\/g>\\n<g clip-path=\\\"url(#clip2600)\\\">\\n<text style=\\\"fill:#000000; fill-opacity:1; font-family:Arial,Helvetica Neue,Helvetica,sans-serif; font-size:48px; text-anchor:end;\\\" transform=\\\"rotate(0, 171.389, 1144.92)\\\" x=\\\"171.389\\\" y=\\\"1144.92\\\">-50<\\/text>\\n<\\/g>\\n<g clip-path=\\\"url(#clip2600)\\\">\\n<text style=\\\"fill:#000000; fill-opacity:1; font-family:Arial,Helvetica Neue,Helvetica,sans-serif; font-size:48px; text-anchor:end;\\\" transform=\\\"rotate(0, 171.389, 784.859)\\\" x=\\\"171.389\\\" y=\\\"784.859\\\">0<\\/text>\\n<\\/g>\\n<g clip-path=\\\"url(#clip2600)\\\">\\n<text style=\\\"fill:#000000; fill-opacity:1; font-family:Arial,Helvetica Neue,Helvetica,sans-serif; font-size:48px; text-anchor:end;\\\" transform=\\\"rotate(0, 171.389, 424.802)\\\" x=\\\"171.389\\\" y=\\\"424.802\\\">50<\\/text>\\n<\\/g>\\n<g clip-path=\\\"url(#clip2600)\\\">\\n<text style=\\\"fill:#000000; fill-opacity:1; font-family:Arial,Helvetica Neue,Helvetica,sans-serif; font-size:48px; text-anchor:end;\\\" transform=\\\"rotate(0, 171.389, 64.7441)\\\" x=\\\"171.389\\\" y=\\\"64.7441\\\">100<\\/text>\\n<\\/g>\\n<polyline clip-path=\\\"url(#clip2602)\\\" style=\\\"stroke:#009af9; stroke-width:12; stroke-opacity:1; fill:none\\\" points=\\\"\\n  314.048,792.546 326.849,791.25 339.649,789.946 352.449,788.638 365.25,787.326 378.05,786.013 390.85,784.702 403.651,783.395 416.451,782.094 429.251,780.803 \\n  442.051,779.523 454.852,778.257 467.652,777.008 480.452,775.779 493.253,774.571 506.053,773.388 518.853,772.233 531.654,771.108 544.454,770.015 557.254,768.958 \\n  570.055,767.94 582.855,766.962 595.655,766.028 608.456,765.14 621.256,764.301 634.056,763.514 646.857,762.781 659.657,762.105 672.457,761.489 685.258,760.934 \\n  698.058,760.444 710.858,760.02 723.659,759.666 736.459,759.383 749.259,759.174 762.06,759.041 774.86,758.985 787.66,759.01 800.461,759.117 813.261,759.307 \\n  826.061,759.583 838.862,759.946 851.662,760.398 864.462,760.94 877.263,761.574 890.063,762.301 902.863,763.121 915.663,764.036 928.464,765.047 941.264,766.155 \\n  954.064,767.359 966.865,768.661 979.665,770.061 992.465,771.559 1005.27,773.155 1018.07,774.849 1030.87,776.64 1043.67,778.528 1056.47,780.513 1069.27,782.593 \\n  1082.07,784.768 1094.87,787.037 1107.67,789.398 1120.47,791.849 1133.27,794.39 1146.07,797.018 1158.87,799.732 1171.67,802.528 1184.47,805.405 1197.27,808.361 \\n  1210.07,811.392 1222.87,814.495 1235.67,817.668 1248.47,820.907 1261.27,824.208 1274.07,827.569 1286.87,830.985 1299.67,834.452 1312.47,837.966 1325.27,841.523 \\n  1338.07,845.118 1350.87,848.747 1363.67,852.404 1376.48,856.085 1389.28,859.785 1402.08,863.498 1414.88,867.218 1427.68,870.941 1440.48,874.66 1453.28,878.369 \\n  1466.08,882.063 1478.88,885.736 1491.68,889.381 1504.48,892.991 1517.28,896.561 1530.08,900.084 1542.88,903.553 1555.68,906.961 1568.48,910.303 1581.28,913.57 \\n  1594.08,916.757 1606.88,919.856 1619.68,922.86 1632.48,925.762 1645.28,928.556 1658.08,931.234 1670.88,933.79 1683.68,936.216 1696.48,938.506 1709.28,940.653 \\n  1722.08,942.65 1734.88,944.49 1747.68,946.168 1760.48,947.675 1773.29,949.007 1786.09,950.156 1798.89,951.117 1811.69,951.883 1824.49,952.45 1837.29,952.811 \\n  1850.09,952.961 1862.89,952.894 1875.69,952.607 1888.49,952.093 1901.29,951.35 1914.09,950.373 1926.89,949.157 1939.69,947.7 1952.49,945.998 1965.29,944.048 \\n  1978.09,941.849 1990.89,939.398 2003.69,936.692 2016.49,933.733 2029.29,930.517 2042.09,927.046 2054.89,923.318 2067.69,919.335 2080.49,915.099 2093.29,910.609 \\n  2106.09,905.87 2118.89,900.883 2131.69,895.651 2144.49,890.18 2157.29,884.472 2170.1,878.534 2182.9,872.371 2195.7,865.99 2208.5,859.397 2221.3,852.6 \\n  2234.1,845.609 \\n  \\\"\\/>\\n<circle clip-path=\\\"url(#clip2602)\\\" style=\\\"fill:#000000; stroke:none; fill-opacity:1\\\" cx=\\\"1274.07\\\" cy=\\\"827.569\\\" r=\\\"18\\\"\\/>\\n<circle clip-path=\\\"url(#clip2602)\\\" style=\\\"fill:#e26f46; stroke:none; fill-opacity:1\\\" cx=\\\"1274.07\\\" cy=\\\"827.569\\\" r=\\\"14\\\"\\/>\\n<path clip-path=\\\"url(#clip2602)\\\" d=\\\"\\nM314.048 2956.73 L333.443 2961.86 L352.837 2967 L372.232 2972.13 L391.626 2977.26 L411.02 2982.4 L430.415 2987.53 L449.809 2992.67 L469.204 2997.8 L488.598 3002.94 \\n  L507.993 3008.07 L527.387 3013.21 L546.781 3018.34 L566.176 3023.48 L585.57 3028.61 L604.965 3033.75 L624.359 3038.88 L643.754 3044.02 L663.148 3049.15 L682.542 3054.29 \\n  L701.937 3059.42 L721.331 3064.56 L740.726 3069.69 L760.12 3074.83 L779.515 3079.96 L798.909 3085.09 L818.303 3090.23 L837.698 3095.36 L857.092 3100.5 L876.487 3105.63 \\n  L895.881 3110.77 L915.276 3115.9 L934.67 3121.04 L954.064 3126.17 L973.459 3131.31 L992.853 3136.44 L1012.25 3141.58 L1031.64 3146.71 L1051.04 3151.85 L1070.43 3156.98 \\n  L1089.83 3162.12 L1109.22 3167.25 L1128.61 3172.39 L1148.01 3177.52 L1167.4 3182.66 L1186.8 3187.79 L1206.19 3192.93 L1225.59 3198.06 L1244.98 3203.19 L1264.38 3208.33 \\n  L1283.77 3213.46 L1303.16 3218.6 L1322.56 3223.73 L1341.95 3228.87 L1361.35 3234 L1380.74 3239.14 L1400.14 3244.27 L1419.53 3249.41 L1438.93 3254.54 L1458.32 3259.68 \\n  L1477.71 3264.81 L1497.11 3269.95 L1516.5 3275.08 L1535.9 3280.22 L1555.29 3285.35 L1574.69 3290.49 L1594.08 3295.62 L1613.48 3300.76 L1632.87 3305.89 L1652.26 3311.02 \\n  L1671.66 3316.16 L1691.05 3321.29 L1710.45 3326.43 L1729.84 3331.56 L1749.24 3336.7 L1768.63 3341.83 L1788.02 3346.97 L1807.42 3352.1 L1826.81 3357.24 L1846.21 3362.37 \\n  L1865.6 3367.51 L1885 3372.64 L1904.39 3377.78 L1923.79 3382.91 L1943.18 3388.05 L1962.57 3393.18 L1981.97 3398.32 L2001.36 3403.45 L2020.76 3408.59 L2040.15 3413.72 \\n  L2059.55 3418.85 L2078.94 3423.99 L2098.34 3429.12 L2117.73 3434.26 L2137.12 3439.39 L2156.52 3444.53 L2175.91 3449.66 L2195.31 3454.8 L2214.7 3459.93 L2234.1 3465.07 \\n  L2234.1 -1424.15 L2214.7 -1429.28 L2195.31 -1434.42 L2175.91 -1439.55 L2156.52 -1444.69 L2137.12 -1449.82 L2117.73 -1454.96 L2098.34 -1460.09 L2078.94 -1465.23 L2059.55 -1470.36 \\n  L2040.15 -1475.49 L2020.76 -1480.63 L2001.36 -1485.76 L1981.97 -1490.9 L1962.57 -1496.03 L1943.18 -1501.17 L1923.79 -1506.3 L1904.39 -1511.44 L1885 -1516.57 L1865.6 -1521.71 \\n  L1846.21 -1526.84 L1826.81 -1531.98 L1807.42 -1537.11 L1788.02 -1542.25 L1768.63 -1547.38 L1749.24 -1552.52 L1729.84 -1557.65 L1710.45 -1562.79 L1691.05 -1567.92 L1671.66 -1573.06 \\n  L1652.26 -1578.19 L1632.87 -1583.32 L1613.48 -1588.46 L1594.08 -1593.59 L1574.69 -1598.73 L1555.29 -1603.86 L1535.9 -1609 L1516.5 -1614.13 L1497.11 -1619.27 L1477.71 -1624.4 \\n  L1458.32 -1629.54 L1438.93 -1634.67 L1419.53 -1639.81 L1400.14 -1644.94 L1380.74 -1650.08 L1361.35 -1655.21 L1341.95 -1660.35 L1322.56 -1665.48 L1303.16 -1670.62 L1283.77 -1675.75 \\n  L1264.38 -1680.89 L1244.98 -1686.02 L1225.59 -1691.15 L1206.19 -1696.29 L1186.8 -1701.42 L1167.4 -1706.56 L1148.01 -1711.69 L1128.61 -1716.83 L1109.22 -1721.96 L1089.83 -1727.1 \\n  L1070.43 -1732.23 L1051.04 -1737.37 L1031.64 -1742.5 L1012.25 -1747.64 L992.853 -1752.77 L973.459 -1757.91 L954.064 -1763.04 L934.67 -1768.18 L915.276 -1773.31 L895.881 -1778.45 \\n  L876.487 -1783.58 L857.092 -1788.72 L837.698 -1793.85 L818.303 -1798.98 L798.909 -1804.12 L779.515 -1809.25 L760.12 -1814.39 L740.726 -1819.52 L721.331 -1824.66 L701.937 -1829.79 \\n  L682.542 -1834.93 L663.148 -1840.06 L643.754 -1845.2 L624.359 -1850.33 L604.965 -1855.47 L585.57 -1860.6 L566.176 -1865.74 L546.781 -1870.87 L527.387 -1876.01 L507.993 -1881.14 \\n  L488.598 -1886.28 L469.204 -1891.41 L449.809 -1896.55 L430.415 -1901.68 L411.02 -1906.81 L391.626 -1911.95 L372.232 -1917.08 L352.837 -1922.22 L333.443 -1927.35 L314.048 -1932.49 \\n  L314.048 2956.73 L314.048 2956.73  Z\\n  \\\" fill=\\\"#3da44d\\\" fill-rule=\\\"evenodd\\\" fill-opacity=\\\"0.3\\\"\\/>\\n<polyline clip-path=\\\"url(#clip2602)\\\" style=\\\"stroke:#000000; stroke-width:4; stroke-opacity:0.3; fill:none\\\" points=\\\"\\n  314.048,2956.73 333.443,2961.86 352.837,2967 372.232,2972.13 391.626,2977.26 411.02,2982.4 430.415,2987.53 449.809,2992.67 469.204,2997.8 488.598,3002.94 \\n  507.993,3008.07 527.387,3013.21 546.781,3018.34 566.176,3023.48 585.57,3028.61 604.965,3033.75 624.359,3038.88 643.754,3044.02 663.148,3049.15 682.542,3054.29 \\n  701.937,3059.42 721.331,3064.56 740.726,3069.69 760.12,3074.83 779.515,3079.96 798.909,3085.09 818.303,3090.23 837.698,3095.36 857.092,3100.5 876.487,3105.63 \\n  895.881,3110.77 915.276,3115.9 934.67,3121.04 954.064,3126.17 973.459,3131.31 992.853,3136.44 1012.25,3141.58 1031.64,3146.71 1051.04,3151.85 1070.43,3156.98 \\n  1089.83,3162.12 1109.22,3167.25 1128.61,3172.39 1148.01,3177.52 1167.4,3182.66 1186.8,3187.79 1206.19,3192.93 1225.59,3198.06 1244.98,3203.19 1264.38,3208.33 \\n  1283.77,3213.46 1303.16,3218.6 1322.56,3223.73 1341.95,3228.87 1361.35,3234 1380.74,3239.14 1400.14,3244.27 1419.53,3249.41 1438.93,3254.54 1458.32,3259.68 \\n  1477.71,3264.81 1497.11,3269.95 1516.5,3275.08 1535.9,3280.22 1555.29,3285.35 1574.69,3290.49 1594.08,3295.62 1613.48,3300.76 1632.87,3305.89 1652.26,3311.02 \\n  1671.66,3316.16 1691.05,3321.29 1710.45,3326.43 1729.84,3331.56 1749.24,3336.7 1768.63,3341.83 1788.02,3346.97 1807.42,3352.1 1826.81,3357.24 1846.21,3362.37 \\n  1865.6,3367.51 1885,3372.64 1904.39,3377.78 1923.79,3382.91 1943.18,3388.05 1962.57,3393.18 1981.97,3398.32 2001.36,3403.45 2020.76,3408.59 2040.15,3413.72 \\n  2059.55,3418.85 2078.94,3423.99 2098.34,3429.12 2117.73,3434.26 2137.12,3439.39 2156.52,3444.53 2175.91,3449.66 2195.31,3454.8 2214.7,3459.93 2234.1,3465.07 \\n  2234.1,-1424.15 2214.7,-1429.28 2195.31,-1434.42 2175.91,-1439.55 2156.52,-1444.69 2137.12,-1449.82 2117.73,-1454.96 2098.34,-1460.09 2078.94,-1465.23 2059.55,-1470.36 \\n  2040.15,-1475.49 2020.76,-1480.63 2001.36,-1485.76 1981.97,-1490.9 1962.57,-1496.03 1943.18,-1501.17 1923.79,-1506.3 1904.39,-1511.44 1885,-1516.57 1865.6,-1521.71 \\n  1846.21,-1526.84 1826.81,-1531.98 1807.42,-1537.11 1788.02,-1542.25 1768.63,-1547.38 1749.24,-1552.52 1729.84,-1557.65 1710.45,-1562.79 1691.05,-1567.92 1671.66,-1573.06 \\n  1652.26,-1578.19 1632.87,-1583.32 1613.48,-1588.46 1594.08,-1593.59 1574.69,-1598.73 1555.29,-1603.86 1535.9,-1609 1516.5,-1614.13 1497.11,-1619.27 1477.71,-1624.4 \\n  1458.32,-1629.54 1438.93,-1634.67 1419.53,-1639.81 1400.14,-1644.94 1380.74,-1650.08 1361.35,-1655.21 1341.95,-1660.35 1322.56,-1665.48 1303.16,-1670.62 1283.77,-1675.75 \\n  1264.38,-1680.89 1244.98,-1686.02 1225.59,-1691.15 1206.19,-1696.29 1186.8,-1701.42 1167.4,-1706.56 1148.01,-1711.69 1128.61,-1716.83 1109.22,-1721.96 1089.83,-1727.1 \\n  1070.43,-1732.23 1051.04,-1737.37 1031.64,-1742.5 1012.25,-1747.64 992.853,-1752.77 973.459,-1757.91 954.064,-1763.04 934.67,-1768.18 915.276,-1773.31 895.881,-1778.45 \\n  876.487,-1783.58 857.092,-1788.72 837.698,-1793.85 818.303,-1798.98 798.909,-1804.12 779.515,-1809.25 760.12,-1814.39 740.726,-1819.52 721.331,-1824.66 701.937,-1829.79 \\n  682.542,-1834.93 663.148,-1840.06 643.754,-1845.2 624.359,-1850.33 604.965,-1855.47 585.57,-1860.6 566.176,-1865.74 546.781,-1870.87 527.387,-1876.01 507.993,-1881.14 \\n  488.598,-1886.28 469.204,-1891.41 449.809,-1896.55 430.415,-1901.68 411.02,-1906.81 391.626,-1911.95 372.232,-1917.08 352.837,-1922.22 333.443,-1927.35 314.048,-1932.49 \\n  314.048,2956.73 \\n  \\\"\\/>\\n<polyline clip-path=\\\"url(#clip2602)\\\" style=\\\"stroke:#c271d2; stroke-width:8; stroke-opacity:1; fill:none\\\" stroke-dasharray=\\\"32, 20\\\" points=\\\"\\n  256.447,558.148 276.323,563.41 460.104,612.067 570.549,641.308 663.929,666.031 765.365,692.887 858.881,717.645 959.14,744.189 1075.3,774.943 1178.53,802.273 \\n  1269.05,826.239 1367.74,852.369 1467.02,878.654 1576.79,907.715 1681.23,935.366 1789.83,964.117 1881.24,988.319 1992.84,1017.87 2097.76,1045.64 2265.83,1090.14 \\n  2291.7,1096.99 \\n  \\\"\\/>\\n<\\/svg>\\n\"},\"nodeType\":\"DOM\",\"type\":\"node\",\"instanceArgs\":{\"namespace\":\"html\",\"tag\":\"div\"},\"children\":[]}]}}}},\"children\":[{\"props\":{},\"nodeType\":\"ObservableNode\",\"type\":\"node\",\"instanceArgs\":{\"id\":\"ob_98\",\"name\":\"obs-node\"},\"children\":[]}]}]},\n",
       "            window,\n",
       "        );\n",
       "    } else {\n",
       "        document\n",
       "            .querySelector('[data-webio-mountpoint=\"4293025238419856886\"]')\n",
       "            .innerHTML = (\n",
       "                '<div style=\"padding: 1em; background-color: #f8d6da; border: 1px solid #f5c6cb\">' +\n",
       "                '<p><strong>WebIO not detected.</strong></p>' +\n",
       "                '<p>Please read ' +\n",
       "                '<a href=\"https://juliagizmos.github.io/WebIO.jl/latest/troubleshooting/not-detected/\" target=\"_blank\">the troubleshooting guide</a> ' +\n",
       "                'for more information on how to resolve this issue.</p>' +\n",
       "                '<p><a href=\"https://juliagizmos.github.io/WebIO.jl/latest/troubleshooting/not-detected/\" target=\"_blank\">https://juliagizmos.github.io/WebIO.jl/latest/troubleshooting/not-detected/</a></p>' +\n",
       "                '</div>'\n",
       "            );\n",
       "    }\n",
       "    </script>\n",
       "</div>\n"
      ],
      "text/plain": [
       "Node{WebIO.DOM}(WebIO.DOM(:html, :div), Any[Node{WebIO.DOM}(WebIO.DOM(:html, :div), Any[Scope(Node{WebIO.DOM}(WebIO.DOM(:html, :div), Any[Node{WebIO.DOM}(WebIO.DOM(:html, :div), Any[Node{WebIO.DOM}(WebIO.DOM(:html, :label), Any[nothing], Dict{Symbol,Any}(:className => \"interact \",:style => Dict{Any,Any}(:padding => \"5px 10px 0px 10px\")))], Dict{Symbol,Any}(:className => \"interact-flex-row-left\")), Node{WebIO.DOM}(WebIO.DOM(:html, :div), Any[Node{WebIO.DOM}(WebIO.DOM(:html, :input), Any[], Dict{Symbol,Any}(:max => 10,:min => 1,:attributes => Dict{Any,Any}(:type => \"range\",Symbol(\"data-bind\") => \"numericValue: index, valueUpdate: 'input', event: {change: function (){this.changes(this.changes()+1)}}\",\"orient\" => \"horizontal\"),:step => 1,:className => \"slider slider is-fullwidth\",:style => Dict{Any,Any}()))], Dict{Symbol,Any}(:className => \"interact-flex-row-center\")), Node{WebIO.DOM}(WebIO.DOM(:html, :div), Any[Node{WebIO.DOM}(WebIO.DOM(:html, :p), Any[], Dict{Symbol,Any}(:attributes => Dict(\"data-bind\" => \"text: formatted_val\")))], Dict{Symbol,Any}(:className => \"interact-flex-row-right\"))], Dict{Symbol,Any}(:className => \"interact-flex-row interact-widget\")), Dict{String,Tuple{Observables.AbstractObservable,Union{Nothing, Bool}}}(\"changes\" => (Observable{Int64} with 1 listeners. Value:\n",
       "0, nothing),\"index\" => (Observable{Int64} with 2 listeners. Value:\n",
       "1, nothing)), Set(String[]), nothing, Asset[Asset(\"js\", \"knockout\", \"/Users/dpsanders/.julia/packages/Knockout/1sDlc/src/../assets/knockout.js\"), Asset(\"js\", \"knockout_punches\", \"/Users/dpsanders/.julia/packages/Knockout/1sDlc/src/../assets/knockout_punches.js\"), Asset(\"js\", nothing, \"/Users/dpsanders/.julia/packages/InteractBase/9mFwe/src/../assets/all.js\"), Asset(\"css\", nothing, \"/Users/dpsanders/.julia/packages/InteractBase/9mFwe/src/../assets/style.css\"), Asset(\"css\", nothing, \"/Users/dpsanders/.julia/packages/Interact/SbgIk/src/../assets/bulma_confined.min.css\")], Dict{Any,Any}(\"changes\" => Any[WebIO.JSString(\"(function (val){return (val!=this.model[\\\"changes\\\"]()) ? (this.valueFromJulia[\\\"changes\\\"]=true, this.model[\\\"changes\\\"](val)) : undefined})\")],\"index\" => Any[WebIO.JSString(\"(function (val){return (val!=this.model[\\\"index\\\"]()) ? (this.valueFromJulia[\\\"index\\\"]=true, this.model[\\\"index\\\"](val)) : undefined})\")]), WebIO.ConnectionPool(Channel{Any}(sz_max:32,sz_curr:0), Set(AbstractConnection[]), Base.GenericCondition{Base.AlwaysLockedST}(Base.InvasiveLinkedList{Task}(Task (runnable) @0x00000001225f4490, Task (runnable) @0x00000001225f4490), Base.AlwaysLockedST(1))), WebIO.JSString[WebIO.JSString(\"function () {\\n    var handler = (function (ko, koPunches) {\\n    ko.punches.enableAll();\\n    ko.bindingHandlers.numericValue = {\\n        init: function(element, valueAccessor, allBindings, data, context) {\\n            var stringified = ko.observable(ko.unwrap(valueAccessor()));\\n            stringified.subscribe(function(value) {\\n                var val = parseFloat(value);\\n                if (!isNaN(val)) {\\n                    valueAccessor()(val);\\n                }\\n            });\\n            valueAccessor().subscribe(function(value) {\\n                var str = JSON.stringify(value);\\n                if ((str == \\\"0\\\") && ([\\\"-0\\\", \\\"-0.\\\"].indexOf(stringified()) >= 0))\\n                     return;\\n                 if ([\\\"null\\\", \\\"\\\"].indexOf(str) >= 0)\\n                     return;\\n                stringified(str);\\n            });\\n            ko.applyBindingsToNode(\\n                element,\\n                {\\n                    value: stringified,\\n                    valueUpdate: allBindings.get('valueUpdate'),\\n                },\\n                context,\\n            );\\n        }\\n    };\\n    var json_data = {\\\"formatted_vals\\\":[\\\"1\\\",\\\"2\\\",\\\"3\\\",\\\"4\\\",\\\"5\\\",\\\"6\\\",\\\"7\\\",\\\"8\\\",\\\"9\\\",\\\"10\\\"],\\\"changes\\\":WebIO.getval({\\\"name\\\":\\\"changes\\\",\\\"scope\\\":\\\"6424736512905829198\\\",\\\"id\\\":\\\"ob_94\\\",\\\"type\\\":\\\"observable\\\"}),\\\"index\\\":WebIO.getval({\\\"name\\\":\\\"index\\\",\\\"scope\\\":\\\"6424736512905829198\\\",\\\"id\\\":\\\"ob_93\\\",\\\"type\\\":\\\"observable\\\"})};\\n    var self = this;\\n    function AppViewModel() {\\n        for (var key in json_data) {\\n            var el = json_data[key];\\n            this[key] = Array.isArray(el) ? ko.observableArray(el) : ko.observable(el);\\n        }\\n        \\n        [this[\\\"formatted_val\\\"]=ko.computed(    function(){\\n        return this.formatted_vals()[parseInt(this.index())-(1)];\\n    }\\n,this)]\\n        [this[\\\"changes\\\"].subscribe((function (val){!(this.valueFromJulia[\\\"changes\\\"]) ? (WebIO.setval({\\\"name\\\":\\\"changes\\\",\\\"scope\\\":\\\"6424736512905829198\\\",\\\"id\\\":\\\"ob_94\\\",\\\"type\\\":\\\"observable\\\"},val)) : undefined; return this.valueFromJulia[\\\"changes\\\"]=false}),self),this[\\\"index\\\"].subscribe((function (val){!(this.valueFromJulia[\\\"index\\\"]) ? (WebIO.setval({\\\"name\\\":\\\"index\\\",\\\"scope\\\":\\\"6424736512905829198\\\",\\\"id\\\":\\\"ob_93\\\",\\\"type\\\":\\\"observable\\\"},val)) : undefined; return this.valueFromJulia[\\\"index\\\"]=false}),self)]\\n        \\n    }\\n    self.model = new AppViewModel();\\n    self.valueFromJulia = {};\\n    for (var key in json_data) {\\n        self.valueFromJulia[key] = false;\\n    }\\n    ko.applyBindings(self.model, self.dom);\\n}\\n);\\n    (WebIO.importBlock({\\\"data\\\":[{\\\"name\\\":\\\"knockout\\\",\\\"type\\\":\\\"js\\\",\\\"url\\\":\\\"/assetserver/9a186147d51179d2ec12ccfac1799b0b805a79d5-knockout.js\\\"},{\\\"name\\\":\\\"knockout_punches\\\",\\\"type\\\":\\\"js\\\",\\\"url\\\":\\\"/assetserver/eccef011301f679ebde0900f01478cac573870ce-knockout_punches.js\\\"}],\\\"type\\\":\\\"async_block\\\"})).then((imports) => handler.apply(this, imports));\\n}\\n\")])], Dict{Symbol,Any}(:className => \"field interact-widget\")), Observable{Any} with 0 listeners. Value:\n",
       "Node{WebIO.DOM}(WebIO.DOM(:html, :div), Any[Plot{Plots.GRBackend() n=4}], Dict{Symbol,Any}(:className => \"interact-flex-row interact-widget\"))], Dict{Symbol,Any}())"
      ]
     },
     "execution_count": 30,
     "metadata": {
      "application/vnd.webio.node+json": {
       "kernelId": "21928053-7722-4f31-9f07-676baa156015"
      }
     },
     "output_type": "execute_result"
    }
   ],
   "source": [
    "@manipulate for n in slider(1:10, value=1)\n",
    "    xx = TaylorModel1(n, x0, a)\n",
    "    ff = f(xx)\n",
    "    \n",
    "    plot(a.lo:0.01:a.hi, f, lw=3, leg=false)\n",
    "    \n",
    "    scatter!([x0], [f(x0)])\n",
    "    \n",
    "    plot!(ff)\n",
    "    plot!(x -> ff.pol(x - x0), lw=2, ls=:dash)\n",
    "    \n",
    "    ylims!(-100, 100)\n",
    "end"
   ]
  }
 ],
 "metadata": {
  "@webio": {
   "lastCommId": "25c129c12e0e40eb89cc316d6dd87724",
   "lastKernelId": "21928053-7722-4f31-9f07-676baa156015"
  },
  "kernelspec": {
   "display_name": "Julia 1.4.0-rc1",
   "language": "julia",
   "name": "julia-1.4"
  },
  "language_info": {
   "file_extension": ".jl",
   "mimetype": "application/julia",
   "name": "julia",
   "version": "1.4.0"
  }
 },
 "nbformat": 4,
 "nbformat_minor": 2
}

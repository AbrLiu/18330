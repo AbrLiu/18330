{
 "cells": [
  {
   "cell_type": "markdown",
   "metadata": {},
   "source": [
    "# Lecture 10: Roots vs. Extrema\n",
    "\n",
    "Generally, roots can be found more accurately than extrema.\n",
    "This is because close to an extremum,\n",
    "\n",
    "$$\n",
    "f(x) = f(x_0) + \\frac{1}{2}f''(x_0) (x-x_0)^2 + \\dots\n",
    "$$\n",
    "\n",
    "so that for an $x = x_0 x+\\pm \\varepsilon$,\n",
    "\n",
    "$$\n",
    "f(x \\pm \\varepsilon) = f(x_0) + \\frac{1}{2}f''(x_0)\\, \\varepsilon^2 + \\dots\n",
    "$$\n",
    "\n",
    "if $\\varepsilon$ is of the order of machine precison, then its square becomes indistinguishable\n",
    "numerically from $0$ when compared with $f(x_0) \\sim 1$.\n",
    "The closest $x$ distinguishable from $x_0$ is $\\approx x \\pm \\sqrt{\\varepsilon}$.\n",
    "\n",
    "For a root however,\n",
    "\n",
    "$$\n",
    "g(x) = (x-x_0) g'(x_0) + \\dots,\n",
    "$$\n",
    "\n",
    "and \n",
    "\n",
    "$$\n",
    "g(x_0 \\pm \\varepsilon) = \\varepsilon\\, g'(x_0) + \\dots.\n",
    "$$\n",
    "\n",
    "Thus, the root can be found to machine precision."
   ]
  },
  {
   "cell_type": "code",
   "execution_count": 1,
   "metadata": {},
   "outputs": [
    {
     "data": {
      "text/plain": [
       "bisect (generic function with 1 method)"
      ]
     },
     "execution_count": 1,
     "metadata": {},
     "output_type": "execute_result"
    }
   ],
   "source": [
    "function golden_section_search(f, a, b; tol=√eps())\n",
    "    \"\"\" Golden Section Search from initial tripel [a, a + γ(b - a), b]\n",
    "    \"\"\"\n",
    "    γ = 2.0/(1. + sqrt(5.0))\n",
    "    \n",
    "    c = b - γ*(b - a)\n",
    "    d = a + γ*(b - a)\n",
    "    \n",
    "    while abs(c - d) > tol\n",
    "        if f(c) < f(d)\n",
    "            b = d\n",
    "        else\n",
    "            a = c\n",
    "        end\n",
    "        \n",
    "        c = b - γ*(b - a)\n",
    "        d = a + γ*(b - a)\n",
    "    end\n",
    "    \n",
    "    x = (a + b)/2\n",
    "    return x, f(x)\n",
    "end\n",
    "\n",
    "function bisect(f, x_a, x_b; N=10)\n",
    "    \"\"\" Implement the bisection method for finding a\n",
    "    zero of f(x). We must have sign(f(x_a)) != sign(f(x_b))\n",
    "    \"\"\"\n",
    "    if sign(f(x_a)) == sign(f(x_b))\n",
    "        println(\"signs at endpoints must differ\")\n",
    "        return\n",
    "    end\n",
    "    \n",
    "    left, right = x_a, x_b\n",
    "    mid = 0.0\n",
    "    \n",
    "    for i=1:N\n",
    "        mid = 0.5*(left + right)\n",
    "        if sign(f(left)) == sign(f(mid))\n",
    "            left = mid\n",
    "        else\n",
    "            right = mid\n",
    "        end\n",
    "    end\n",
    "    \n",
    "    return mid\n",
    "end"
   ]
  },
  {
   "cell_type": "code",
   "execution_count": 2,
   "metadata": {},
   "outputs": [
    {
     "data": {
      "text/plain": [
       "3.141592653589793"
      ]
     },
     "execution_count": 2,
     "metadata": {},
     "output_type": "execute_result"
    }
   ],
   "source": [
    "# Example: Want to find the maxima and the zeros of\n",
    "# f(x) = sin(x)\n",
    "\n",
    "# roots occur at x_k = k π\n",
    "# extrema occur at y_n = n π + π/2\n",
    "\n",
    "f(x) = sin(x)\n",
    "\n",
    "# Want to find the zero at x_1 = π:\n",
    "x_root = bisect(f, π - 0.1*rand(), π + 0.1*rand(); N=1000)"
   ]
  },
  {
   "cell_type": "code",
   "execution_count": 3,
   "metadata": {},
   "outputs": [
    {
     "name": "stdout",
     "output_type": "stream",
     "text": [
      "relative error in x_root: 0.00000000000000000000000000000000"
     ]
    }
   ],
   "source": [
    "using Printf\n",
    "\n",
    "@printf(\"relative error in x_root: %.32f\", (x_root - π)/π)"
   ]
  },
  {
   "cell_type": "code",
   "execution_count": 4,
   "metadata": {},
   "outputs": [
    {
     "data": {
      "text/plain": [
       "(-1.5707963162581844, -0.9999999999999999)"
      ]
     },
     "execution_count": 4,
     "metadata": {},
     "output_type": "execute_result"
    }
   ],
   "source": [
    "# want to find the minimum y_1 = -π/2\n",
    "x_min, fx_min = golden_section_search(f, -π/2 - 0.1rand(), -π/2 + 0.1rand(); tol=0)"
   ]
  },
  {
   "cell_type": "code",
   "execution_count": 5,
   "metadata": {},
   "outputs": [
    {
     "name": "stdout",
     "output_type": "stream",
     "text": [
      "relative error in x_min: 6.7078793028115952e-09\n",
      "relative error in f(x_min): 1.1102230246251565e-16"
     ]
    }
   ],
   "source": [
    "@printf(\"relative error in x_min: %.16e\\n\", (x_min + π/2)/(π/2))\n",
    "@printf(\"relative error in f(x_min): %.16e\", (fx_min + 1.0))"
   ]
  },
  {
   "cell_type": "code",
   "execution_count": null,
   "metadata": {},
   "outputs": [],
   "source": [
    "# we get only √ϵ precision in the maximum!"
   ]
  }
 ],
 "metadata": {
  "kernelspec": {
   "display_name": "Julia 1.1.0",
   "language": "julia",
   "name": "julia-1.1"
  },
  "language_info": {
   "file_extension": ".jl",
   "mimetype": "application/julia",
   "name": "julia",
   "version": "1.1.0"
  }
 },
 "nbformat": 4,
 "nbformat_minor": 2
}

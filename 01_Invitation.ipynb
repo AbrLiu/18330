{
 "cells": [
  {
   "cell_type": "markdown",
   "metadata": {},
   "source": [
    "18.330: Introduction to Numerical Analysis\n",
    "===\n",
    "\n",
    "Lecture 1: Invitation\n",
    "--\n",
    "\n",
    "This class is all about taking a mathematical expression and turning\n",
    "it into actual numbers, doing it fast, and knowing how accurate your result is.\n",
    "Whether you are a physicist, an engineer, a biologist, a chemist, or anyone\n",
    "who works with mathematical models, it is crucial to be able to use\n",
    "and understand numerical methods.\n",
    "\n",
    "The lectures are based primarily on:\n",
    "\n",
    "* Homer Reid's lecture notes (http://homerreid.com/teaching/18.330/)\n",
    "* Laurent Demanet's lecture notes (http://math.mit.edu/icg/resources/teaching/18.330/)"
   ]
  },
  {
   "cell_type": "markdown",
   "metadata": {},
   "source": [
    "An easy problem: Binding energy of an ion\n",
    "--\n",
    "\n",
    "Consider infinite chain of ions (for instance, DNA)\n",
    "\n",
    "... +Q ---- -Q ---- +Q ---- -Q ---- +Q ....\n",
    "\n",
    "what is the binding energy of one positive ion?\n",
    "In general, the potential energy of two charged particles is\n",
    "$$\n",
    "E = \\frac{q_1 q_2}{d},\n",
    "$$\n",
    "\n",
    "where $q_1, q_2$ are the charges and d are the distances. Consider the positive ion at the\n",
    "center of the chain and sum up all the potentials of the neighbors:\n",
    "\n",
    "$$\n",
    "E = ...+ \\frac{Q Q}{2 d} + \\frac{Q (-Q)}{d} + \\frac{Q (-Q)}{d} + \\frac{Q Q}{2d} + ...\n",
    "$$\n",
    "\n",
    "$$\n",
    "E = \\sum_{n=-\\infty, n\\neq 0}^\\infty \\frac{(-1)^n Q^2}{|n| d} = 2 \\frac{Q^2}{d} \\sum_{n=1}^\\infty \\frac{(-1)^n}{n}\n",
    "$$\n",
    "\n",
    "The problem is then to find\n",
    "\n",
    "$$\n",
    "S = \\sum_{n=1}^\\infty \\frac{(-1)^n}{n}\n",
    "$$\n",
    "\n",
    "First try:"
   ]
  },
  {
   "cell_type": "code",
   "execution_count": null,
   "metadata": {},
   "outputs": [],
   "source": [
    "function compute_sum(N)\n",
    "    S = 0.0\n",
    "\n",
    "    for i=1:N\n",
    "        S += (-1)^i/i\n",
    "    end\n",
    "\n",
    "    return S\n",
    "end\n",
    "\n",
    "compute_sum(10)"
   ]
  },
  {
   "cell_type": "code",
   "execution_count": null,
   "metadata": {},
   "outputs": [],
   "source": [
    "for i in 1:8\n",
    "    println(compute_sum(10^i))\n",
    "end"
   ]
  },
  {
   "cell_type": "markdown",
   "metadata": {},
   "source": [
    "We found a good solution!\n",
    "Questions:\n",
    "\n",
    "* Why did we get 6 digit accuracy around $N\\approx 10^8$?\n",
    "* Can we make this faster?"
   ]
  },
  {
   "cell_type": "markdown",
   "metadata": {},
   "source": [
    "A harder problem: potential energy of a charge near the charge chain\n",
    "---\n",
    "\n",
    "Now consider a charge $q$ at position $(x,y)$ away from the chain.\n",
    "Its distance from the $n$th charge is\n",
    "$$\n",
    "D = \\sqrt{(x- n d)^2 + y^2}.\n",
    "$$\n",
    "\n",
    "Let's fix $q=Q=d=1$. Then the potential reads:\n",
    "\n",
    "$$\n",
    "E(x,y) = \\sum_{n=-\\infty}^\\infty \\frac{(-1)^n}{\\sqrt{(x- n d)^2 + y^2}}\n",
    "$$"
   ]
  },
  {
   "cell_type": "code",
   "execution_count": null,
   "metadata": {},
   "outputs": [],
   "source": [
    "using PyPlot\n",
    "PyPlot.svg(true)\n",
    "\n",
    "\"\"\" Compute the electrostatic potential at y=0.1 and x\n",
    "by naive summation\n",
    "\"\"\"\n",
    "function compute_potential_naive(x, N, y=0.1)\n",
    "    s = 0.0\n",
    "    for i=-N:1:N\n",
    "        s += (-1)^i/sqrt((i - x)^2 + y^2)\n",
    "    end\n",
    "    \n",
    "    return s\n",
    "end\n",
    "\n",
    "compute_potential_naive(0.1, 1000)"
   ]
  },
  {
   "cell_type": "code",
   "execution_count": null,
   "metadata": {},
   "outputs": [],
   "source": [
    "Exs = LinRange(-1.0, 1.0, 31)\n",
    "Es = [compute_potential_naive(x, 1000) for x in Exs]\n",
    "\n",
    "plot(Exs, Es, \"o-\")\n",
    "xlabel(\"x\")\n",
    "ylabel(\"E(x)\")"
   ]
  },
  {
   "cell_type": "code",
   "execution_count": null,
   "metadata": {},
   "outputs": [],
   "source": [
    "# \"Exact\" value\n",
    "\n",
    "compute_potential_naive(0.25, 10000, 0.25)"
   ]
  },
  {
   "cell_type": "markdown",
   "metadata": {},
   "source": [
    "We need a lot of iterations for reasonable accuracy. Can we make this better?\n",
    "--\n",
    "\n",
    "Realize that the terms in the sum decay rapidly:\n",
    "--"
   ]
  },
  {
   "cell_type": "code",
   "execution_count": null,
   "metadata": {},
   "outputs": [],
   "source": [
    "N = 40\n",
    "x = 0.25\n",
    "y = 0.25\n",
    "\n",
    "for i=0:N\n",
    "    println((-1)^i/sqrt((x - i)^2 + y^2))\n",
    "end"
   ]
  },
  {
   "cell_type": "markdown",
   "metadata": {},
   "source": [
    "Pairs decay even faster\n",
    "---"
   ]
  },
  {
   "cell_type": "code",
   "execution_count": null,
   "metadata": {},
   "outputs": [],
   "source": [
    "for i=0:2:N\n",
    "    println(1/sqrt((x - i)^2 + y^2) - 1/sqrt((x - i - 1)^2 + y^2))\n",
    "end"
   ]
  },
  {
   "cell_type": "markdown",
   "metadata": {},
   "source": [
    "Idea:\n",
    "---\n",
    "\n",
    "We split the sum into terms \n",
    "\n",
    "$$\n",
    "V(x,y) = V_{local}(x,y) + V_{distant}(x,y)\n",
    "$$\n",
    "\n",
    "with\n",
    "\n",
    "$$\n",
    "V_{local}(x,y) = \\sum_{|n| < N} \\frac{(-1)^n}{\\sqrt{(x- n d)^2 + y^2}}\n",
    "$$\n",
    "\n",
    "$$\n",
    "V_{distant}(x,y) = \\sum_{|n| \\geq N} \\frac{(-1)^n}{\\sqrt{(x- n d)^2 + y^2}}\n",
    "$$"
   ]
  },
  {
   "cell_type": "code",
   "execution_count": null,
   "metadata": {},
   "outputs": [],
   "source": [
    "function V_local(x, y, N)\n",
    "    s = 0.0\n",
    "    for i=-N:1:N\n",
    "        s += (-1)^i/sqrt((i - x)^2 + y^2)\n",
    "    end\n",
    "    \n",
    "    return s\n",
    "end\n",
    "\n",
    "function V_distant(x, y, N, M)\n",
    "    s = 0.0\n",
    "    for i=N:M\n",
    "        s += (-1)^i/sqrt((i - x)^2 + y^2) + (-1)^(-i)/sqrt((-i - x)^2 + y^2)\n",
    "    end\n",
    "    \n",
    "    return s\n",
    "end"
   ]
  },
  {
   "cell_type": "code",
   "execution_count": null,
   "metadata": {},
   "outputs": [],
   "source": [
    "xs = LinRange(-1.0, 1.0, 31)\n",
    "V_locals = [V_local(x, 0.1, 20) for x in xs]\n",
    "\n",
    "plot(xs, V_locals, \"o-\")\n",
    "xlabel(\"x\")\n",
    "ylabel(L\"V_{local}(x)\")"
   ]
  },
  {
   "cell_type": "code",
   "execution_count": null,
   "metadata": {},
   "outputs": [],
   "source": [
    "xs = LinRange(-1.0, 1.0, 31)\n",
    "V_locals = [V_distant(x, 0.1, 20, 1000) for x in xs]\n",
    "\n",
    "plot(xs, V_locals, \"o-\")\n",
    "xlabel(\"x\")\n",
    "ylabel(L\"V_{distant}(x)\")"
   ]
  },
  {
   "cell_type": "markdown",
   "metadata": {},
   "source": [
    "Ewald summation\n",
    "---\n",
    "\n",
    "$V_{local}$ is rapidly decaying in real space, so it converges very quickly.\n",
    "Similarly, $V_{distant}$ is almost constant, so it converges rapidly in Fourier space!\n",
    "(Remember that the FT of a constant function is a Dirac $\\delta$ function).\n",
    "\n",
    "So: Fourier transform $V_{distant}$ to evaluate the sum, then recombine to\n",
    "obtain highly efficient numerical method.\n",
    "\n",
    "In practice (with more bells and whistles), Ewald summation can achieve\n",
    "extremely high accuracy in very few ($\\mathcal{O}(10)$) iterations.\n",
    "Compare that to the thousands we needed using the naive method!\n",
    "\n",
    "Example of the power of /spectral methods/ (will see this in the remainder of the class)."
   ]
  },
  {
   "cell_type": "markdown",
   "metadata": {},
   "source": [
    "Problems involving integrals: Potential near a continuous charge density\n",
    "---\n",
    "\n",
    "Strip of length $L$ with charge density $\\lambda(x)$. The electrostatic potential becomes\n",
    "\n",
    "$$\n",
    "V(x,y) = \\int_{-L/2}^{L/2} dx' \\frac{\\lambda(x)}{\\sqrt{(x-x')^2 + y^2}}\n",
    "$$\n",
    "\n",
    "Suppose $L=20$ and $\\lambda(x) = \\cos(x^2)$."
   ]
  },
  {
   "cell_type": "code",
   "execution_count": null,
   "metadata": {},
   "outputs": [],
   "source": [
    "x = 1\n",
    "y = 1\n",
    "\n",
    "L = 20\n",
    "\n",
    "xprimes = LinRange(-L/2, L/2, 1000)\n",
    "\n",
    "V(x, y, xprime) = cos.(xprime.^2) ./ sqrt.((xprime .- x).^2 .+ y.^2)\n",
    "\n",
    "pots = V(x, y, xprimes)\n",
    "\n",
    "plot(xprimes, pots)"
   ]
  },
  {
   "cell_type": "markdown",
   "metadata": {},
   "source": [
    "How do we evaluate this integral?\n",
    "Naive method: Riemann sum (just like in the definition!)\n",
    "\n",
    "$$\n",
    "I = \\int_a^b f(x)\\, dx = \\text{area of many rectangles under the graph}\n",
    "$$\n",
    "\n",
    "We can formalize this by choosing a rectangle base length $\\Delta = (b-a)/N$:\n",
    "\n",
    "$$\n",
    "    I_N^{\\text{rect}} = \\sum_{i=1}^N \\Delta \\cdot f(a + i \\Delta)\n",
    "$$"
   ]
  },
  {
   "cell_type": "code",
   "execution_count": null,
   "metadata": {},
   "outputs": [],
   "source": [
    "function rectangular_rule(f, a, b, N)\n",
    "    I = 0.0\n",
    "    Δ = (b - a)/N\n",
    "    \n",
    "    for i=1:N\n",
    "        I += Δ * f(a + i*Δ)\n",
    "    end\n",
    "    \n",
    "    return I\n",
    "end"
   ]
  },
  {
   "cell_type": "code",
   "execution_count": null,
   "metadata": {},
   "outputs": [],
   "source": [
    "rectangular_rule(xp -> V(1, 1, xp), -L/2, L/2, 1000)"
   ]
  },
  {
   "cell_type": "code",
   "execution_count": null,
   "metadata": {},
   "outputs": [],
   "source": [
    "xs = LinRange(-4, 4, 100)\n",
    "y = 0.1\n",
    "\n",
    "Is = [rectangular_rule(xp -> V(x, 1, xp), -L/2, L/2, 1000) for x in xs]\n",
    "\n",
    "plot(xs, Is, \"o-\")\n",
    "xlabel(\"x\")\n",
    "ylabel(\"I(x, 1)\")"
   ]
  },
  {
   "cell_type": "markdown",
   "metadata": {},
   "source": [
    "How accurate is the rectangular rule? We compare with the exact solution obtained using Mathematica:\n",
    "V(1,1) \"=\" 0.9483130210697331"
   ]
  },
  {
   "cell_type": "code",
   "execution_count": null,
   "metadata": {},
   "outputs": [],
   "source": [
    "I_exact = 0.9483130210697331\n",
    "Ns = [10^i for i=2:7]\n",
    "\n",
    "errors = [(rectangular_rule(xp -> V(1, 1, xp), -L/2, L/2, N) - I_exact)/I_exact for N in Ns]"
   ]
  },
  {
   "cell_type": "code",
   "execution_count": null,
   "metadata": {},
   "outputs": [],
   "source": [
    "loglog(Ns, errors, \"o-\")\n",
    "xlabel(\"N\")\n",
    "ylabel(L\"relative error $(V - V_{exact})/V_{exact}$\")"
   ]
  },
  {
   "cell_type": "markdown",
   "metadata": {},
   "source": [
    "The slope on the log-log plot is -1: The rectangular rule is a first-order method: slow!\n",
    "For each additional correct digit you need to do 10 times as many computations!\n",
    "\n",
    "Much better methods exist.\n",
    "\n",
    "Important questions:\n",
    "\n",
    "* What happens with infinite integration ranges?\n",
    "* What happens with singularities?\n",
    "* Why is the rectangular rule first-order?\n",
    "* Are there better methods? (Hint: yes and we will discuss them)\n",
    "\n",
    "Sneak Peak: A general trick is to use unevenly spaced evaluation points\n",
    "---"
   ]
  },
  {
   "cell_type": "markdown",
   "metadata": {},
   "source": [
    "Calculating Derivatives: Finite differences\n",
    "---\n",
    "\n",
    "Remember that for a given potential $V(x,y)$, the electric field is\n",
    "\n",
    "$$\n",
    "    \\vec E = -\\vec\\nabla V\n",
    "$$\n",
    "\n",
    "How do we take a derivative of this? \n",
    "Remember the definition:\n",
    "\n",
    "$$\n",
    "f'(x) = \\lim_{h\\rightarrow 0} \\frac{f(x+h) - f(x)}{h}\n",
    "$$\n",
    "\n",
    "A finite difference approximation takes $h$ finite:\n",
    "\n",
    "$$\n",
    "f^{FD}_h(x) = \\frac{f(x+h) - f(x)}{h}\n",
    "$$\n",
    "\n",
    "Let's try this out with $f(x) = x^2$. We know $f'(x) = 2x$."
   ]
  },
  {
   "cell_type": "code",
   "execution_count": null,
   "metadata": {},
   "outputs": [],
   "source": [
    "f(x) = x.^2\n",
    "fprime(x) = 2 .*x\n",
    "\n",
    "function finite_diff(f, x0, h)\n",
    "    return (f(x0 + h) - f(x0))/h\n",
    "end"
   ]
  },
  {
   "cell_type": "code",
   "execution_count": null,
   "metadata": {},
   "outputs": [],
   "source": [
    "hs = [10.0^(-i) for i=1:8] # then: to 15\n",
    "\n",
    "rel_errors = [abs((finite_diff(f, 1, h) - fprime(1))/fprime(1)) for h in hs]\n",
    "\n",
    "loglog(hs, rel_errors, \"o-\")\n",
    "\n",
    "xlabel(\"h\")\n",
    "ylabel(\"relative error of the finite difference approx\")"
   ]
  },
  {
   "cell_type": "markdown",
   "metadata": {},
   "source": [
    "* Why is the convergence linear?\n",
    "* Can we do better (hint: yes and we will see how)\n",
    "* Why does the finite difference break down beyond $h=10^{-8}$?"
   ]
  },
  {
   "cell_type": "markdown",
   "metadata": {},
   "source": [
    "Solving equations of motion: Integration of ODEs\n",
    "---\n",
    "\n",
    "Using the electric field from the previous example we can ask:\n",
    "What is the motion of a charged particle of mass $m$ and charge \"q\" in that field?\n",
    "The trajectory will be a solution of Newton's equation\n",
    "\n",
    "$$\n",
    "m \\ddot{x}(t) = q\\, E(x(t)).\n",
    "$$\n",
    "\n",
    "The basic numerical method for solving this is to fix initial conditions\n",
    "$x(t_0), \\dot{x}(t_0)$, compute the new position and velocity\n",
    "$x(t_0 + \\Delta t), \\dot{x}(t_0 + \\Delta t)$ using a finite difference version\n",
    "of the equations of motion, and repeat. Actually, all state of the art\n",
    "ODE solvers will be of this type!\n",
    "\n",
    "This solves an initial value problem (IVP).\n",
    "A similar problem is the boundary value problem (BVP), where \n",
    "$x(t_0)$ and $x(t_1)$ are known, and we need to find the trajectory in between\n",
    "that satisfies the equations of motion.\n",
    "We will discuss methods for this later in the class."
   ]
  },
  {
   "cell_type": "markdown",
   "metadata": {},
   "source": [
    "Root finding\n",
    "---\n",
    "\n",
    "At rest after a long time, our charged particle will satisfy\n",
    "\n",
    "$$\n",
    "0 = E(x).\n",
    "$$\n",
    "\n",
    "This is a root finding problem. A classical way to solve this is\n",
    "Newton's method:\n",
    "\n",
    "* Guess a solution $x_0$\n",
    "* Compute $E(x_0)$ and $E'(x_0)$\n",
    "* Compute $x_1 = x_0 - E(x_0)/E'(x_0)$\n",
    "* Repeat\n",
    "\n",
    "Problem: Newton's method may be very sensitive to the initial guess"
   ]
  },
  {
   "cell_type": "code",
   "execution_count": null,
   "metadata": {},
   "outputs": [],
   "source": [
    "# Example\n",
    "\n",
    "f(x) = tanh(x - 5)\n",
    "fprime(x) = 1 - (tanh(x-5))^2\n",
    "\n",
    "# this guess leads to the correct solution\n",
    "x = 4.1\n",
    "\n",
    "# this guess does not\n",
    "# x = 0\n",
    "\n",
    "# Newton iteration\n",
    "for i=1:6\n",
    "    x = x - f(x)/fprime(x)\n",
    "    println(x)\n",
    "end"
   ]
  },
  {
   "cell_type": "markdown",
   "metadata": {},
   "source": [
    "For functions with multiple roots, it can also be very hard to tell which one\n",
    "Newton's method will converge to"
   ]
  },
  {
   "cell_type": "code",
   "execution_count": null,
   "metadata": {},
   "outputs": [],
   "source": [
    "# Example\n",
    "\n",
    "f(x) = 1 - x^3\n",
    "fprime(x) = -3x^2\n",
    "\n",
    "# this guess converged to 1\n",
    "x = 0.1\n",
    "\n",
    "# this guess does not\n",
    "# x = 0.1 + 0.1im\n",
    "\n",
    "# Newton iteration\n",
    "for i=1:20\n",
    "    x = x - f(x)/fprime(x)\n",
    "    println(x)\n",
    "end"
   ]
  },
  {
   "cell_type": "markdown",
   "metadata": {},
   "source": [
    "![](newton_fractal.png)\n",
    "\n",
    "The Newton fractal for $f(x) = 1 - x^3$. Color corresponds to the solution the iteration converged to."
   ]
  },
  {
   "cell_type": "markdown",
   "metadata": {},
   "source": [
    "Interpolation\n",
    "---\n",
    "\n",
    "What if we want to work with functions that come from data points but we\n",
    "need exact derivatives (or want speed).\n",
    "The solution can be approximation by interpolation.\n",
    "\n",
    "We find (few) simple functions that approximate our data. For example, polynomials."
   ]
  },
  {
   "cell_type": "code",
   "execution_count": null,
   "metadata": {},
   "outputs": [],
   "source": [
    "# Let's take our potential energies from before\n",
    "plot(Exs, Es, \"o\", label=\"data points\")\n",
    "\n",
    "xlabel(\"x\")\n",
    "ylabel(\"potential energy\")\n",
    "legend()"
   ]
  },
  {
   "cell_type": "code",
   "execution_count": null,
   "metadata": {},
   "outputs": [],
   "source": [
    "# polynomial interpolation\n",
    "using Polynomials\n",
    "\n",
    "p9 = polyfit(Exs, Es, 9)\n",
    "p20 = polyfit(Exs, Es, 20)\n",
    "p24 = polyfit(Exs, Es, 24)"
   ]
  },
  {
   "cell_type": "code",
   "execution_count": null,
   "metadata": {},
   "outputs": [],
   "source": [
    "# plot the interpolation polynomial\n",
    "xs = LinRange(-1, 1, 200)\n",
    "plot(Exs, Es, \"o\", label=\"data points\")\n",
    "plot(xs, polyval(p9, xs), label=\"9th order\")\n",
    "# plot(xs, polyval(p20, xs), label=\"20th order\")\n",
    "# plot(xs, polyval(p24, xs), label=\"24th order\")\n",
    "\n",
    "xlabel(\"x\")\n",
    "ylabel(\"potential energy\")\n",
    "legend()"
   ]
  },
  {
   "cell_type": "markdown",
   "metadata": {},
   "source": [
    "Runge's phenomenon\n",
    "--\n",
    "As we increase the order of the interpolation polynomial, it appears to\n",
    "\"bulge out\" more and more.\n",
    "\n",
    "* What is the \"right\" order of polynomial? Does polynomial interpolation even work at all?\n",
    "* Can we get rid of Runge's phenomenon/improve polynomial interpolation?"
   ]
  },
  {
   "cell_type": "code",
   "execution_count": null,
   "metadata": {},
   "outputs": [],
   "source": []
  }
 ],
 "metadata": {
  "kernelspec": {
   "display_name": "Julia 1.1.0",
   "language": "julia",
   "name": "julia-1.1"
  },
  "language_info": {
   "file_extension": ".jl",
   "mimetype": "application/julia",
   "name": "julia",
   "version": "1.1.0"
  }
 },
 "nbformat": 4,
 "nbformat_minor": 2
}

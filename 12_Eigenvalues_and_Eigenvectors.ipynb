{
 "cells": [
  {
   "cell_type": "markdown",
   "metadata": {},
   "source": [
    "# Lecture 12: Eigenvalues and Eigenvectors\n",
    "\n",
    "## Power iteration\n",
    "\n",
    "The iteration\n",
    "\n",
    "$$\n",
    "\\mathbf{b}_{k+1} = \\frac{A\\mathbf{b}_k}{\\| A\\mathbf{b}_k \\|}\n",
    "$$\n",
    "\n",
    "converges to an eigenvector of the largest eigenvalue of $A$ (as long as the starting\n",
    "guess $\\mathbf{b}_0$ had a component in that eigenspace, and the largest eigenvalue\n",
    "is separate from the others).\n",
    "The eigenvalue is then found from\n",
    "\n",
    "$$\n",
    "\\mathbf{b}_k^\\top A \\mathbf{b}_k \\rightarrow \\lambda_{\\text{max}}.\n",
    "$$"
   ]
  },
  {
   "cell_type": "code",
   "execution_count": 2,
   "metadata": {},
   "outputs": [
    {
     "data": {
      "text/plain": [
       "power_iterate (generic function with 1 method)"
      ]
     },
     "execution_count": 2,
     "metadata": {},
     "output_type": "execute_result"
    }
   ],
   "source": [
    "using LinearAlgebra\n",
    "\n",
    "function power_iterate(A, b; N=10000, ϵ=√eps())\n",
    "    \"\"\" Compute the dominant eigenvalue of A\n",
    "    using power iteration\n",
    "    \"\"\"\n",
    "    for i=1:N\n",
    "        # power iteration\n",
    "        a = A*b\n",
    "        b_new = a/norm(a)\n",
    "        \n",
    "        # Termination criterion\n",
    "        if norm(b - b_new) < ϵ*norm(b_new)\n",
    "            break\n",
    "        end\n",
    "        \n",
    "        b = b_new\n",
    "    end\n",
    "    \n",
    "    # return eigenvalue and eigenvector\n",
    "    return b'*A*b, b\n",
    "end"
   ]
  },
  {
   "cell_type": "code",
   "execution_count": 3,
   "metadata": {},
   "outputs": [
    {
     "data": {
      "text/plain": [
       "3-element Array{Float64,1}:\n",
       " -1.8989794855663558\n",
       "  7.898979485566356 \n",
       "  3.0               "
      ]
     },
     "execution_count": 3,
     "metadata": {},
     "output_type": "execute_result"
    }
   ],
   "source": [
    "A = [1 3 4\n",
    "4 5 0\n",
    "2 1 3]\n",
    "\n",
    "# Julia's internal function\n",
    "eigvals(A)"
   ]
  },
  {
   "cell_type": "code",
   "execution_count": 4,
   "metadata": {},
   "outputs": [
    {
     "data": {
      "text/plain": [
       "(7.898979491079361, [0.543945, 0.750533, 0.375266])"
      ]
     },
     "execution_count": 4,
     "metadata": {},
     "output_type": "execute_result"
    }
   ],
   "source": [
    "b0 = [1.0, 2.0, 3.0]\n",
    "\n",
    "λ_max, v = power_iterate(A, b0)"
   ]
  },
  {
   "cell_type": "code",
   "execution_count": 5,
   "metadata": {},
   "outputs": [
    {
     "data": {
      "text/plain": [
       "3-element Array{Float64,1}:\n",
       " 7.898979436563664\n",
       " 7.898979556654386\n",
       " 7.898979343317884"
      ]
     },
     "execution_count": 5,
     "metadata": {},
     "output_type": "execute_result"
    }
   ],
   "source": [
    "# check that the eigenvector is correct\n",
    "A*v ./ v"
   ]
  },
  {
   "cell_type": "markdown",
   "metadata": {},
   "source": [
    "## The QR algorithm\n",
    "The QR algorithm (or rather, a significantly more sophisticated variant) \n",
    "is often used in practice (for example LAPACK,\n",
    "which underlies Julia's eig function) to compute eigenvalues of dense matrices.\n",
    "\n",
    "The QR algorithm was named one of the top 10 most influential algorithms\n",
    "(https://ieeexplore.ieee.org/xpl/tocresult.jsp?isnumber=17639&punumber=5992).\n",
    "\n",
    "We are interested in the eigenvalues of the square matrix $A$.\n",
    "Set $A = Q_0 R_0$.\n",
    "\n",
    "Then iterate \n",
    "   *  $A_{k+1} = R_k Q_k$ (reverse order of $QR$ factors and multiply)\n",
    "   *  $A_{k+1} = Q_{k+1} R_{k+1}$ (QR decomposition)\n",
    "   \n",
    "All the iterates are similar matrices:\n",
    "\n",
    "$$\n",
    "A_{k+1} = R_k Q_k = Q_k^\\top A_{k} Q_k,\n",
    "$$\n",
    "\n",
    "so the must have the same eigenvalues.\n",
    "\n",
    "Here's the magic:\n",
    "under some conditions, this iteration will converge to a *triangular* matrix,\n",
    "whose eigenvalues can be read off from the diagonal!"
   ]
  },
  {
   "cell_type": "code",
   "execution_count": 6,
   "metadata": {},
   "outputs": [
    {
     "data": {
      "text/plain": [
       "eig_qr (generic function with 1 method)"
      ]
     },
     "execution_count": 6,
     "metadata": {},
     "output_type": "execute_result"
    }
   ],
   "source": [
    "function eig_qr(A; N=1000, ϵ=√eps())\n",
    "    \"\"\" Compute eigenvalues of A using the QR algorithm\n",
    "    \"\"\"\n",
    "    F = qr(A)\n",
    "    Q, R = F.Q, F.R\n",
    "    \n",
    "    for i=1:N\n",
    "        # multiply in \"wrong\" order\n",
    "        A_new = R*Q\n",
    "        \n",
    "        # termination criterion\n",
    "        if norm(A_new - A) < ϵ*norm(A_new)\n",
    "            break\n",
    "        end\n",
    "        \n",
    "        A = A_new\n",
    "        \n",
    "        # QR decomposition\n",
    "        F = qr(A)\n",
    "        Q, R = F.Q, F.R\n",
    "    end\n",
    "    \n",
    "    return A\n",
    "end"
   ]
  },
  {
   "cell_type": "code",
   "execution_count": 7,
   "metadata": {},
   "outputs": [
    {
     "data": {
      "text/plain": [
       "3-element Array{Float64,1}:\n",
       " -1.8989794855663558\n",
       "  7.898979485566356 \n",
       "  3.0               "
      ]
     },
     "execution_count": 7,
     "metadata": {},
     "output_type": "execute_result"
    }
   ],
   "source": [
    "A = [1 3 4\n",
    "4 5 0\n",
    "2 1 3]\n",
    "\n",
    "# Julia's internal function\n",
    "eigvals(A)"
   ]
  },
  {
   "cell_type": "code",
   "execution_count": 11,
   "metadata": {},
   "outputs": [
    {
     "data": {
      "text/plain": [
       "3×3 Array{Float64,2}:\n",
       "  7.89898      -0.338159      0.167063\n",
       " -3.01662e-58   3.0          -2.42028 \n",
       "  1.68621e-61  -1.66516e-19  -1.89898 "
      ]
     },
     "execution_count": 11,
     "metadata": {},
     "output_type": "execute_result"
    }
   ],
   "source": [
    "# QR algorithm\n",
    "eig_qr(A; N=100)"
   ]
  },
  {
   "cell_type": "markdown",
   "metadata": {},
   "source": [
    "## What is this magic?!\n",
    "How does the QR algorithm work?\n",
    "It's just power iteration in disguise!\n",
    "\n",
    "Recall the power iteration:\n",
    "$$\n",
    "\\mathbf{b}_k = \\frac{A\\mathbf{b}_{k-1}}{\\| A\\mathbf{b}_{k-1} \\|} = \\frac{A^k \\mathbf{b}_0}{\\| A^k \\mathbf{b}_0 \\|}.\n",
    "$$\n",
    "\n",
    "Power iteration converges to the dominant eigenvalue _if_ the start vector has a component in\n",
    "that eigenspace.\n",
    "\n",
    "Intuitively, we want to compute power iterates of $n$ initial guesses (the unit vectors $\\mathbb{1}$), \n",
    "and then orthonormalize them. This way, if one of the vectors converges to the dominant\n",
    "eigenvector, all the others are orthogonal to it and have no component in that eigenspace.\n",
    "So, they must converge to different eigenvectors, and we will see that this is what the QR algorithm does.\n",
    "\n",
    "We first formalize this idea in the algorithm of Orthogonal Iteration.\n",
    "\n",
    "### Orthogonal iteration\n",
    "Each step we iterate $A$ and then orthonormalize using the QR decomposition:\n",
    "\n",
    "$$\n",
    "\\hat Q_{k+1} R_{k+1} = A \\hat Q_{k}, \\qquad \\hat Q_0 R_0 = A.\n",
    "$$\n",
    "\n",
    "To see what this iteration does, let's compute the first step:\n",
    "$$\n",
    "\\hat Q_0 R_0 = A\n",
    "$$\n",
    "and the second step:\n",
    "$$\n",
    "\\hat Q_1 R_1 = A \\hat Q_0.\n",
    "$$\n",
    "\n",
    "Multiply by $R_0$ on the right,\n",
    "$$\n",
    "\\hat Q_1 R_1 R_0 = A \\hat Q_0 R_0 = A A = A^2.\n",
    "$$\n",
    "\n",
    "Continue this and find\n",
    "$$\n",
    "\\hat Q_{k-1} \\underbrace{ R_{k-1} R_{k-2} \\cdots R_0}_{=\\hat R_{k-1}} = \\hat Q_{k-1} \\hat R_{k-1} =  A^k,\n",
    "$$\n",
    "\n",
    "so effectively we are computing factors of a QR decomposition of $A^k$ (products of triangular\n",
    "matrices are again triangular).\n",
    "(Recall that we did derive this iteration from the power method).\n",
    "\n",
    "By construction, the matrix $\\hat Q_k$ converges to a set of orthonormal eigenvectors of $A$\n",
    "(if it converges, and if $A$ has orthonormal eigenvectors. For instance, symmetric $A$ have orthonormal\n",
    "eigenvectors).\n",
    "\n",
    "### From orthogonal to QR iteration\n",
    "The QR algorithm is just a different way of computing the exact same\n",
    "decomposition of $A^k$:\n",
    "\n",
    "\\begin{align}\n",
    "A &= Q_0 R_0 \\\\\n",
    "A^2 &= Q_0 \\underbrace{R_0 Q_0}_{=A_1 = Q_1 R_1} R_0 \\\\\n",
    "\\vdots \\\\\n",
    "\\Rightarrow A^k &= \\left(Q_0 Q_1 \\cdots Q_{k-1}\\right) \\left( R_{k-1} \\cdots R_1 R_0 \\right).\n",
    "\\end{align}\n",
    "\n",
    "So, the product $Q_0 Q_1 \\cdots Q_{k} = \\hat Q_{k}$, and $ R_{k} \\cdots R_1 = \\hat R_k$.\n",
    "\n",
    "\n",
    "### Intuitive \"proof\" of convergence to an upper triangular matrix:\n",
    "If the QR algorithm converges, then $A_k = R_{k-1} Q_{k-1}$ converges to a constant.\n",
    "\n",
    "From our analysis of the Orthogonal Iteration, we should expect $Q_k$ to converge to $Q_k \\approx \\mathbb{1}$,\n",
    "because the product $\\hat Q_k = Q_0 Q_1 \\cdots Q_k$ converges to a constant matrix of eigenvectors.\n",
    "\n",
    "But from this we get,\n",
    "$$\n",
    "A_k \\approx R_k,\n",
    "$$\n",
    "so it converges to an upper triangular matrix.\n",
    "Since this matrix is similar to the original $A$, it will have the eigenvalues of $A$ on its diagonal.\n",
    "\n",
    "There are rigorous (but complicated) proofs for this available under certain technical assumptions (see for example Suli & Meyers)."
   ]
  },
  {
   "cell_type": "code",
   "execution_count": 20,
   "metadata": {},
   "outputs": [
    {
     "data": {
      "text/plain": [
       "2×2 Array{Float64,2}:\n",
       " 0.0  1.0\n",
       " 1.0  0.0"
      ]
     },
     "execution_count": 20,
     "metadata": {},
     "output_type": "execute_result"
    }
   ],
   "source": [
    "# sometimes the simple QR algorithm fails\n",
    "A = [ 0 1.0\n",
    "1 0]\n",
    "\n",
    "# Oops\n",
    "eig_qr(A; N=4)"
   ]
  },
  {
   "cell_type": "code",
   "execution_count": 21,
   "metadata": {},
   "outputs": [
    {
     "data": {
      "text/plain": [
       "2-element Array{Float64,1}:\n",
       " -1.0\n",
       "  1.0"
      ]
     },
     "execution_count": 21,
     "metadata": {},
     "output_type": "execute_result"
    }
   ],
   "source": [
    "# Julia's algorithm is more sophisticated!\n",
    "\n",
    "# \"Implicit QR algorithm with Wilkinson shifts\"\n",
    "eigvals(A)"
   ]
  },
  {
   "cell_type": "code",
   "execution_count": null,
   "metadata": {},
   "outputs": [],
   "source": []
  }
 ],
 "metadata": {
  "kernelspec": {
   "display_name": "Julia 1.1.0",
   "language": "julia",
   "name": "julia-1.1"
  },
  "language_info": {
   "file_extension": ".jl",
   "mimetype": "application/julia",
   "name": "julia",
   "version": "1.1.0"
  }
 },
 "nbformat": 4,
 "nbformat_minor": 2
}
